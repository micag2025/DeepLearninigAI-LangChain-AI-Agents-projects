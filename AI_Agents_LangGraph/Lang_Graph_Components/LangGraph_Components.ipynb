{
 "cells": [
  {
   "cell_type": "markdown",
   "id": "21fa2e13-567d-4509-9023-c99fb230f31f",
   "metadata": {},
   "source": [
    "# LangGraph Components 📚"
   ]
  },
  {
   "cell_type": "markdown",
   "id": "0fbfb252",
   "metadata": {},
   "source": [
    "## Introduction\n",
    "In this lesson, we will explore the components of LangGraph and how to set up and use the LangSmith Client and LangChain libraries. We will cover the following topics:\n",
    "- Setting up the environment\n",
    "- Loading API keys from a `.env` file\n",
    "- Initializing and testing the LangSmith Client\n",
    "- Using the LangChain library for creating agents\n",
    "- Visualizing the agent's state graph"
   ]
  },
  {
   "cell_type": "markdown",
   "id": "1a6bb057",
   "metadata": {},
   "source": [
    "## Setting Up the Environment for LangSmith\n",
    "To start, we need to load environment variables from a `.env` file. This file should contain our API keys."
   ]
  },
  {
   "cell_type": "code",
   "execution_count": null,
   "id": "5110a148",
   "metadata": {},
   "outputs": [
    {
     "name": "stdout",
     "output_type": "stream",
     "text": [
      "API Key: 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\n",
      "OPENAI_API_KEY: sk-ft*****\n"
     ]
    }
   ],
   "source": [
    "# Import required libraries\n",
    "from dotenv import load_dotenv\n",
    "import os\n",
    "\n",
    "# Load environment variables from .env file\n",
    "load_dotenv()\n",
    "\n",
    "# Retrieve the LangSmith API key from environment variables\n",
    "api_key = os.getenv(\"LANGSMITH_API_KEY\")\n",
    "print(f\"API Key: {api_key}\")  # Should print the key without quotes\n",
    "print(f\"API Key: {os.getenv('LANGSMITH_API_KEY')[:5]}*****\")\n",
    "\n",
    "# Print OpenAI API key (masked)\n",
    "print(f\"OPENAI_API_KEY: {os.getenv('OPENAI_API_KEY')[:5]}*****\")\n"
   ]
  },
  {
   "cell_type": "code",
   "execution_count": 20,
   "id": "eb075755",
   "metadata": {},
   "outputs": [],
   "source": [
    "# Import necessary modules from rich library that helps to improve the readability of nested dictionary outputs\n",
    "from rich import print\n",
    "from rich.pretty import Pretty"
   ]
  },
  {
   "cell_type": "markdown",
   "id": "38e31847",
   "metadata": {},
   "source": [
    "## Initializing and Testing the LangSmith Client\n",
    "Next, we will initialize the LangSmith Client using the API key and test the connection by listing the projects."
   ]
  },
  {
   "cell_type": "code",
   "execution_count": null,
   "id": "71324324",
   "metadata": {},
   "outputs": [
    {
     "data": {
      "text/html": [
       "<pre style=\"white-space:pre;overflow-x:auto;line-height:normal;font-family:Menlo,'DejaVu Sans Mono',consolas,'Courier New',monospace\">Successfully connected to LangSmith!\n",
       "</pre>\n"
      ],
      "text/plain": [
       "Successfully connected to LangSmith!\n"
      ]
     },
     "metadata": {},
     "output_type": "display_data"
    },
    {
     "data": {
      "text/html": [
       "<pre style=\"white-space:pre;overflow-x:auto;line-height:normal;font-family:Menlo,'DejaVu Sans Mono',consolas,'Courier New',monospace\">Project Name: evaluators\n",
       "</pre>\n"
      ],
      "text/plain": [
       "Project Name: evaluators\n"
      ]
     },
     "metadata": {},
     "output_type": "display_data"
    },
    {
     "data": {
      "text/html": [
       "<pre style=\"white-space:pre;overflow-x:auto;line-height:normal;font-family:Menlo,'DejaVu Sans Mono',consolas,'Courier New',monospace\">Project Name: sample-experiment-51561f24\n",
       "</pre>\n"
      ],
      "text/plain": [
       "Project Name: sample-experiment-51561f24\n"
      ]
     },
     "metadata": {},
     "output_type": "display_data"
    },
    {
     "data": {
      "text/html": [
       "<pre style=\"white-space:pre;overflow-x:auto;line-height:normal;font-family:Menlo,'DejaVu Sans Mono',consolas,'Courier New',monospace\">Project Name: default\n",
       "</pre>\n"
      ],
      "text/plain": [
       "Project Name: default\n"
      ]
     },
     "metadata": {},
     "output_type": "display_data"
    }
   ],
   "source": [
    "# Import required module from the langsmith\n",
    "from langsmith import Client\n",
    "\n",
    "\n",
    "# Initialize LangSmith Client using the API key from the environment\n",
    "client = Client(api_key=os.getenv(\"LANGSMITH_API_KEY\"))\n",
    "\n",
    "# Test the connection by iterating through the projects\n",
    "try:\n",
    "    projects = client.list_projects()  # This returns a generator\n",
    "    print(\"Successfully connected to LangSmith!\")\n",
    "    \n",
    "    # Iterate through the generator and access project details\n",
    "    for project in projects:\n",
    "        print(f\"Project Name: {project.name}\")  # Replace `name` with the actual attribute\n",
    "except Exception as e:\n",
    "    print(\"Failed to connect to LangSmith:\", e)\n"
   ]
  },
  {
   "cell_type": "markdown",
   "id": "57d8e155",
   "metadata": {},
   "source": [
    "### Installing Required Libraries"
   ]
  },
  {
   "cell_type": "markdown",
   "id": "8deee440",
   "metadata": {},
   "source": [
    "**Note** Ensure you have the required packages installed:\n",
    "```py\n",
    "py -m pip install langgraph\n",
    "%pip install langsmith\n",
    "%pip install langchain    \n",
    "```"
   ]
  },
  {
   "cell_type": "code",
   "execution_count": 22,
   "id": "82804e7f",
   "metadata": {},
   "outputs": [],
   "source": [
    "# Import necessary modules from the langchain library\n",
    "from langchain_core.messages import AnyMessage, SystemMessage, HumanMessage, ToolMessage\n",
    "from langchain.chat_models import ChatOpenAI  \n",
    "from langchain_community.tools.tavily_search import TavilySearchResults\n"
   ]
  },
  {
   "cell_type": "code",
   "execution_count": 23,
   "id": "0ac69f12",
   "metadata": {},
   "outputs": [],
   "source": [
    "# Import necessary modules from the langgraph library\n",
    "from langgraph.graph import StateGraph, END\n",
    "from typing import TypedDict, Annotated\n",
    "import operator"
   ]
  },
  {
   "cell_type": "markdown",
   "id": "14657a5d",
   "metadata": {},
   "source": [
    "### Testing the API Key\n",
    "After setting the .env file, test if the TAVILY_API key is being loaded correctly in Python."
   ]
  },
  {
   "cell_type": "code",
   "execution_count": null,
   "id": "a4381bc0",
   "metadata": {},
   "outputs": [
    {
     "data": {
      "text/html": [
       "<pre style=\"white-space:pre;overflow-x:auto;line-height:normal;font-family:Menlo,'DejaVu Sans Mono',consolas,'Courier New',monospace\">TAVILY_API_KEY: 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\n",
       "</pre>\n"
      ],
      "text/plain": [
       "TAVILY_API_KEY: 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\n"
      ]
     },
     "metadata": {},
     "output_type": "display_data"
    }
   ],
   "source": [
    "# Print the API key to verify it is loaded correctly\n",
    "print(f\"TAVILY_API_KEY: {os.getenv('TAVILY_API_KEY')}\")\n",
    "print(f\"TAVILY_API_KEY: {os.getenv('TAVILY_API_KEY')[:5]}*****\")\n"
   ]
  },
  {
   "cell_type": "code",
   "execution_count": 25,
   "id": "b4835b4a",
   "metadata": {},
   "outputs": [
    {
     "data": {
      "text/html": [
       "<pre style=\"white-space:pre;overflow-x:auto;line-height:normal;font-family:Menlo,'DejaVu Sans Mono',consolas,'Courier New',monospace\"><span style=\"font-weight: bold\">&lt;</span><span style=\"color: #ff00ff; text-decoration-color: #ff00ff; font-weight: bold\">class</span><span style=\"color: #000000; text-decoration-color: #000000\"> </span><span style=\"color: #008000; text-decoration-color: #008000\">'langchain_community.tools.tavily_search.tool.TavilySearchResults'</span><span style=\"font-weight: bold\">&gt;</span>\n",
       "</pre>\n"
      ],
      "text/plain": [
       "\u001b[1m<\u001b[0m\u001b[1;95mclass\u001b[0m\u001b[39m \u001b[0m\u001b[32m'langchain_community.tools.tavily_search.tool.TavilySearchResults'\u001b[0m\u001b[1m>\u001b[0m\n"
      ]
     },
     "metadata": {},
     "output_type": "display_data"
    },
    {
     "data": {
      "text/html": [
       "<pre style=\"white-space:pre;overflow-x:auto;line-height:normal;font-family:Menlo,'DejaVu Sans Mono',consolas,'Courier New',monospace\">tavily_search_results_json\n",
       "</pre>\n"
      ],
      "text/plain": [
       "tavily_search_results_json\n"
      ]
     },
     "metadata": {},
     "output_type": "display_data"
    }
   ],
   "source": [
    "# Initialize TavilySearchResults tool\n",
    "tool = TavilySearchResults(max_results=4) #increased number of results\n",
    "print(type(tool))\n",
    "print(tool.name)"
   ]
  },
  {
   "cell_type": "code",
   "execution_count": 26,
   "id": "a2ba84ec-c172-4de7-ac55-e3158a531b23",
   "metadata": {},
   "outputs": [],
   "source": [
    "class AgentState(TypedDict):\n",
    "    messages: Annotated[list[AnyMessage], operator.add]"
   ]
  },
  {
   "cell_type": "markdown",
   "id": "74c7ba73-e603-453b-b06f-5db92c567b19",
   "metadata": {},
   "source": [
    "> Note: in `take_action` below, some logic was added to cover the case that the LLM returned a non-existent tool name. Even with function calling, LLMs can still occasionally hallucinate. Note that all that is done is instructing the LLM to try again! An advantage of an agentic organization."
   ]
  },
  {
   "cell_type": "markdown",
   "id": "f0ca6d75",
   "metadata": {},
   "source": [
    "### Implementing an Agent Class with StateGraph and LangChain\n",
    "Here, we will create an agent class using StateGraph and LangChain components. The Agent class manages interactions between a language model and tools using a state graph. Key components include:  \n",
    "\n",
    "_Initialization (__init__)_: Sets up the agent with a model, tools, and optional system message. Constructs and compiles a state graph, and binds the tools to the model.  \n",
    "_Checking for Actions (exists_action)_: Determines if there are any tool calls in the latest message state.  \n",
    "_Calling the Language Model (call_openai)_: Invokes the language model with the current state messages, optionally adding a system message.  \n",
    "_Executing Actions (take_action)_: Executes tool calls based on the current state, checks for valid tool names, and returns results to the language model.  \n",
    "This setup allows the agent to process inputs, decide on actions, and interact with external tools efficiently."
   ]
  },
  {
   "cell_type": "code",
   "execution_count": 27,
   "id": "876d5092-b8ef-4e38-b4d7-0e80c609bf7a",
   "metadata": {},
   "outputs": [],
   "source": [
    "class Agent:\n",
    "# Initializes the Agent with a model, tools, and optional system message.\n",
    "    def __init__(self, model, tools, system=\"\"):\n",
    "        self.system = system\n",
    "\n",
    "        # Create a StateGraph for managing the agent's state transitions.\n",
    "        graph = StateGraph(AgentState)\n",
    "        \n",
    "        # Add nodes to the graph representing different actions.\n",
    "        graph.add_node(\"llm\", self.call_openai)\n",
    "        graph.add_node(\"action\", self.take_action)\n",
    "        \n",
    "        # Add conditional edges to the graph based on the existence of actions.\n",
    "        graph.add_conditional_edges(\n",
    "            \"llm\",\n",
    "            self.exists_action,\n",
    "            {True: \"action\", False: END}\n",
    "        )\n",
    "\n",
    "        # Add an edge from the action node back to the llm node.\n",
    "        graph.add_edge(\"action\", \"llm\")\n",
    "\n",
    "        # Set the entry point for the graph to the llm node.\n",
    "        graph.set_entry_point(\"llm\")\n",
    "\n",
    "        # Compile the graph into a state machine.\n",
    "        self.graph = graph.compile()\n",
    "\n",
    "        # Store the tools in a dictionary for easy access by name.\n",
    "        self.tools = {t.name: t for t in tools}\n",
    "\n",
    "        # Bind the tools to the model.\n",
    "        self.model = model.bind_tools(tools)\n",
    "\n",
    "# Checks if there are any tool calls in the most recent message state.\n",
    "    def exists_action(self, state: AgentState):\n",
    "        result = state['messages'][-1]\n",
    "        return len(result.tool_calls) > 0\n",
    "\n",
    "# Calls the OpenAI model with the current state messages.\n",
    "    def call_openai(self, state: AgentState):\n",
    "        messages = state['messages']\n",
    "\n",
    "        # Prepend the system message if it exists.\n",
    "        if self.system:\n",
    "            messages = [SystemMessage(content=self.system)] + messages\n",
    "\n",
    "        # Invoke the model with the messages and return the response.    \n",
    "        message = self.model.invoke(messages)\n",
    "        return {'messages': [message]}\n",
    "\n",
    "# Executes actions based on the tool calls in the current state.\n",
    "    def take_action(self, state: AgentState):\n",
    "        tool_calls = state['messages'][-1].tool_calls\n",
    "        results = []\n",
    "        for t in tool_calls:\n",
    "            print(f\"Calling: {t}\")\n",
    "\n",
    "            # Check if the tool name exists in the tools dictionary.\n",
    "            if not t['name'] in self.tools:      # check for bad tool name from LLM\n",
    "                print(\"\\n ....bad tool name....\")\n",
    "                result = \"bad tool name, retry\"  # instruct LLM to retry if bad\n",
    "            else:\n",
    "\n",
    "                # Invoke the tool with the provided arguments.\n",
    "                result = self.tools[t['name']].invoke(t['args'])\n",
    "\n",
    "             # Append the result to the list of results.   \n",
    "            results.append(ToolMessage(tool_call_id=t['id'], name=t['name'], content=str(result)))\n",
    "        print(\"Back to the model!\")\n",
    "        return {'messages': results}"
   ]
  },
  {
   "cell_type": "markdown",
   "id": "10084a02-2928-4945-9f7c-ad3f5b33caf7",
   "metadata": {},
   "source": [
    "prompt = \"\"\"You are a smart research assistant. Use the search engine to look up information. \\\n",
    "You are allowed to make multiple calls (either together or in sequence). \\\n",
    "Only look up information when you are sure of what you want. \\\n",
    "If you need to look up some information before asking a follow up question, you are allowed to do that!\n",
    "\"\"\"\n",
    "\n",
    "model = ChatOpenAI(model=\"gpt-3.5-turbo\")  #reduce inference cost\n",
    "abot = Agent(model, [tool], system=prompt)"
   ]
  },
  {
   "cell_type": "markdown",
   "id": "9c1b0ff5",
   "metadata": {},
   "source": [
    "**Explanation output** The error NotImplementedError is being raised because the ChatOpenAI model in LangChain doesn’t implement the bind_tools method required by your Agent class. This suggests either a mismatch in how you’re using LangChain's APIs or an unsupported feature in the current version of the library."
   ]
  },
  {
   "cell_type": "markdown",
   "id": "60e1b843",
   "metadata": {},
   "source": [
    "Solutions\n",
    "1. Use LangChain's Standard Tool-Enabled Agents\n",
    "Instead of trying to manually bind tools, use one of LangChain’s prebuilt Agent classes, such as initialize_agent or AgentExecutor. Here’s how you can set up a tool-enabled agent:"
   ]
  },
  {
   "cell_type": "markdown",
   "id": "3918b58f",
   "metadata": {},
   "source": [
    "## Using LangChain Library for Creating Agents\n",
    "We will now create an agent using the LangChain library to interact with the LangSmith Client."
   ]
  },
  {
   "cell_type": "code",
   "execution_count": null,
   "id": "c03b3912",
   "metadata": {},
   "outputs": [],
   "source": [
    "from langchain.chat_models import ChatOpenAI\n",
    "from langchain.agents import initialize_agent, Tool\n",
    "from langchain_community.tools.tavily_search import TavilySearchResults\n",
    "\n",
    "# Initialize the Tavily search tool\n",
    "tool = TavilySearchResults(max_results=4)\n",
    "\n",
    "# Wrap it as a LangChain Tool\n",
    "search_tool = Tool(\n",
    "    name=\"TavilySearch\",\n",
    "    func=tool.run,\n",
    "    description=\"Search for information using Tavily.\"\n",
    ")\n",
    "\n",
    "# Initialize the language model\n",
    "llm = ChatOpenAI(model_name=\"gpt-3.5-turbo\")\n",
    "\n",
    "# Create an agent with the tools\n",
    "agent = initialize_agent(\n",
    "    tools=[search_tool],\n",
    "    llm=llm,\n",
    "    agent=\"zero-shot-react-description\"\n",
    ")\n",
    "\n",
    "# Run the agent with a query\n",
    "response = agent.run(\"Find the latest news about AI.\")\n",
    "print(response)\n"
   ]
  },
  {
   "cell_type": "markdown",
   "id": "96c0ea96",
   "metadata": {},
   "source": [
    "Let's include the original custom prompt within LangChain’s \n",
    "````py\n",
    "prompt = \"\"\"You are a smart research assistant. Use the search engine to look up information. \\\n",
    "You are allowed to make multiple calls (either together or in sequence). \\\n",
    "Only look up information when you are sure of what you want. \\\n",
    "If you need to look up some information before asking a follow up question, you are allowed to do that!\n",
    "\"\"\"\n",
    "\n",
    "model = ChatOpenAI(model=\"gpt-3.5-turbo\")  #reduce inference cost\n",
    "abot = Agent(model, [tool], system=prompt)\n",
    "````"
   ]
  },
  {
   "cell_type": "code",
   "execution_count": 29,
   "id": "e4c62445",
   "metadata": {},
   "outputs": [
    {
     "data": {
      "text/html": [
       "<pre style=\"white-space:pre;overflow-x:auto;line-height:normal;font-family:Menlo,'DejaVu Sans Mono',consolas,'Courier New',monospace\">The latest news about AI includes researchers developing tools to give robots superhuman vision, AI-driven mobile \n",
       "robots for chemical synthesis research, and training techniques for teaching robots new skills. There are also \n",
       "updates on OpenAI's leadership turmoil and developments in AI regulations globally.\n",
       "</pre>\n"
      ],
      "text/plain": [
       "The latest news about AI includes researchers developing tools to give robots superhuman vision, AI-driven mobile \n",
       "robots for chemical synthesis research, and training techniques for teaching robots new skills. There are also \n",
       "updates on OpenAI's leadership turmoil and developments in AI regulations globally.\n"
      ]
     },
     "metadata": {},
     "output_type": "display_data"
    }
   ],
   "source": [
    "from langchain.chat_models import ChatOpenAI\n",
    "from langchain.agents import initialize_agent, Tool\n",
    "from langchain_community.tools.tavily_search import TavilySearchResults\n",
    "\n",
    "# Define the custom prompt\n",
    "prompt = \"\"\"You are a smart research assistant. Use the search engine to look up information.\n",
    "You are allowed to make multiple calls (either together or in sequence).\n",
    "When using a tool, always respond in this exact format:\n",
    "\n",
    "Action: <tool_name>\n",
    "Action Input: <tool_input>\n",
    "\n",
    "For example:\n",
    "Action: TavilySearch\n",
    "Action Input: Find the latest AI news.\n",
    "\n",
    "Only look up information when you are sure of what you want. If you need to look up some information before asking a follow-up question, you are allowed to do that!\n",
    "\"\"\"\n",
    "\n",
    "# Initialize the Tavily search tool\n",
    "tool = TavilySearchResults(max_results=4)\n",
    "\n",
    "# Wrap it as a LangChain Tool\n",
    "search_tool = Tool(\n",
    "    name=\"TavilySearch\",\n",
    "    func=tool.run,\n",
    "    description=\"Search for information using Tavily.\"\n",
    ")\n",
    "\n",
    "# Initialize the language model\n",
    "llm = ChatOpenAI(model_name=\"gpt-3.5-turbo\", temperature=0.7)\n",
    "\n",
    "# Create the agent with the custom prompt\n",
    "agent = initialize_agent(\n",
    "    tools=[search_tool],\n",
    "    llm=llm,\n",
    "    agent=\"zero-shot-react-description\",\n",
    "    system_message=prompt,\n",
    "    handle_parsing_errors=True  # Gracefully handle parsing errors\n",
    ")\n",
    "\n",
    "# Run the agent with a query\n",
    "try:\n",
    "    response = agent.run(\"Find the latest news about AI.\")\n",
    "    print(response)\n",
    "except ValueError as e:\n",
    "    print(f\"Agent failed to parse output: {e}\")\n"
   ]
  },
  {
   "cell_type": "markdown",
   "id": "595367d6",
   "metadata": {},
   "source": [
    "## Visualizing the Agent's State Graph\n",
    "You can use the `graphviz library` in Python to create state diagrams representing the agent's actions. Below is a code snippet that generates a state diagram using graphviz."
   ]
  },
  {
   "cell_type": "markdown",
   "id": "b075cf3a",
   "metadata": {},
   "source": [
    "- Example 1 "
   ]
  },
  {
   "cell_type": "code",
   "execution_count": 30,
   "id": "ed72c074",
   "metadata": {},
   "outputs": [
    {
     "data": {
      "image/png": "[encoded data removed]",
      "text/plain": [
       "<IPython.core.display.Image object>"
      ]
     },
     "metadata": {},
     "output_type": "display_data"
    }
   ],
   "source": [
    "from graphviz import Digraph\n",
    "from IPython.display import Image, display\n",
    "\n",
    "# Create a new Digraph\n",
    "diagram = Digraph(format=\"png\")\n",
    "diagram.attr(rankdir=\"LR\")\n",
    "\n",
    "# Define nodes\n",
    "diagram.attr(\"node\", shape=\"ellipse\", style=\"filled\", color=\"lightblue\")\n",
    "diagram.node(\"__start__\")\n",
    "\n",
    "diagram.attr(\"node\", shape=\"ellipse\", style=\"filled\", color=\"yellow\")\n",
    "diagram.node(\"llm\")\n",
    "diagram.node(\"action\")\n",
    "\n",
    "diagram.attr(\"node\", shape=\"ellipse\", style=\"filled\", color=\"orange\")\n",
    "diagram.node(\"__end__\")\n",
    "\n",
    "# Define edges\n",
    "diagram.edge(\"__start__\", \"llm\")\n",
    "diagram.edge(\"llm\", \"action\", label=\"True\")\n",
    "diagram.edge(\"llm\", \"__end__\", style=\"dotted\")\n",
    "diagram.edge(\"action\", \"__end__\")\n",
    "\n",
    "# Render the diagram to a file\n",
    "diagram.render(\"state_diagram\", format=\"png\", cleanup=True)\n",
    "\n",
    "# Display the rendered diagram in the notebook\n",
    "display(Image(\"state_diagram.png\"))\n"
   ]
  },
  {
   "cell_type": "markdown",
   "id": "7cc74d70",
   "metadata": {},
   "source": [
    "- Example 2"
   ]
  },
  {
   "cell_type": "code",
   "execution_count": 31,
   "id": "6f42d3c1",
   "metadata": {},
   "outputs": [
    {
     "data": {
      "image/png": "[encoded data removed]",
      "text/plain": [
       "<IPython.core.display.Image object>"
      ]
     },
     "execution_count": 31,
     "metadata": {},
     "output_type": "execute_result"
    }
   ],
   "source": [
    "from graphviz import Digraph\n",
    "from IPython.display import Image\n",
    "\n",
    "# Initialize the graph\n",
    "dot = Digraph()\n",
    "\n",
    "# Add nodes and edges based on the agent's actions\n",
    "dot.node(\"A\", \"Start\")\n",
    "dot.node(\"B\", \"Search for AI news\")\n",
    "dot.node(\"C\", \"Process results\")\n",
    "dot.edges([\"AB\", \"BC\"])\n",
    "\n",
    "# Render the graph to a file\n",
    "output_path = dot.render(\"agent_actions\", format=\"png\", cleanup=True)\n",
    "\n",
    "# Display the image\n",
    "Image(output_path)"
   ]
  },
  {
   "cell_type": "markdown",
   "id": "6134d71d",
   "metadata": {},
   "source": [
    "- Example3 "
   ]
  },
  {
   "cell_type": "code",
   "execution_count": 32,
   "id": "d3b4fcb2",
   "metadata": {},
   "outputs": [
    {
     "data": {
      "text/html": [
       "<pre style=\"white-space:pre;overflow-x:auto;line-height:normal;font-family:Menlo,'DejaVu Sans Mono',consolas,'Courier New',monospace\">The weather in Amsterdam is partly cloudy, with a temperature of <span style=\"color: #008080; text-decoration-color: #008080; font-weight: bold\">9.2</span>°C.\n",
       "</pre>\n"
      ],
      "text/plain": [
       "The weather in Amsterdam is partly cloudy, with a temperature of \u001b[1;36m9.2\u001b[0m°C.\n"
      ]
     },
     "metadata": {},
     "output_type": "display_data"
    }
   ],
   "source": [
    "# Run the agent with a query\n",
    "response = agent.run(\"What is the weather in Amsterdam?\")\n",
    "print(response)\n",
    "#response\n"
   ]
  },
  {
   "cell_type": "code",
   "execution_count": 33,
   "id": "857031e4",
   "metadata": {},
   "outputs": [
    {
     "data": {
      "text/html": [
       "<pre style=\"white-space:pre;overflow-x:auto;line-height:normal;font-family:Menlo,'DejaVu Sans Mono',consolas,'Courier New',monospace\">The current weather in Amsterdam is partly cloudy with a temperature of <span style=\"color: #008080; text-decoration-color: #008080; font-weight: bold\">9.2</span>°C.\n",
       "</pre>\n"
      ],
      "text/plain": [
       "The current weather in Amsterdam is partly cloudy with a temperature of \u001b[1;36m9.2\u001b[0m°C.\n"
      ]
     },
     "metadata": {},
     "output_type": "display_data"
    }
   ],
   "source": [
    "from langchain.schema import HumanMessage\n",
    "\n",
    "# Define the input message\n",
    "messages = [HumanMessage(content=\"What is the weather in Amsterdam?\")]\n",
    "\n",
    "# Run the agent with the input message\n",
    "try:\n",
    "    result = agent.run(messages)\n",
    "    print(result)\n",
    "except ValueError as e:\n",
    "    print(f\"Agent failed to parse output: {e}\")"
   ]
  },
  {
   "cell_type": "code",
   "execution_count": 34,
   "id": "0b85ddae",
   "metadata": {},
   "outputs": [
    {
     "data": {
      "text/html": [
       "<pre style=\"white-space:pre;overflow-x:auto;line-height:normal;font-family:Menlo,'DejaVu Sans Mono',consolas,'Courier New',monospace\">The current weather in Amsterdam is partly cloudy with a temperature of <span style=\"color: #008080; text-decoration-color: #008080; font-weight: bold\">9.2</span>°C.\n",
       "</pre>\n"
      ],
      "text/plain": [
       "The current weather in Amsterdam is partly cloudy with a temperature of \u001b[1;36m9.2\u001b[0m°C.\n"
      ]
     },
     "metadata": {},
     "output_type": "display_data"
    },
    {
     "data": {
      "text/html": [
       "<pre style=\"white-space:pre;overflow-x:auto;line-height:normal;font-family:Menlo,'DejaVu Sans Mono',consolas,'Courier New',monospace\"><span style=\"font-weight: bold\">{</span>\n",
       "    <span style=\"color: #008000; text-decoration-color: #008000\">'messages'</span>: <span style=\"font-weight: bold\">[</span>\n",
       "        <span style=\"color: #800080; text-decoration-color: #800080; font-weight: bold\">HumanMessage</span><span style=\"font-weight: bold\">(</span><span style=\"color: #808000; text-decoration-color: #808000\">content</span>=<span style=\"color: #008000; text-decoration-color: #008000\">'What is the weather in Amsterdam?'</span>, <span style=\"color: #808000; text-decoration-color: #808000\">additional_kwargs</span>=<span style=\"font-weight: bold\">{}</span>, <span style=\"color: #808000; text-decoration-color: #808000\">response_metadata</span>=<span style=\"font-weight: bold\">{})</span>,\n",
       "        <span style=\"color: #800080; text-decoration-color: #800080; font-weight: bold\">AIMessage</span><span style=\"font-weight: bold\">(</span>\n",
       "            <span style=\"color: #808000; text-decoration-color: #808000\">content</span>=<span style=\"color: #008000; text-decoration-color: #008000\">'The current weather in Amsterdam is partly cloudy with a temperature of 9.2°C.'</span>,\n",
       "            <span style=\"color: #808000; text-decoration-color: #808000\">additional_kwargs</span>=<span style=\"font-weight: bold\">{</span>\n",
       "                <span style=\"color: #008000; text-decoration-color: #008000\">'tool_calls'</span>: <span style=\"font-weight: bold\">[</span>\n",
       "                    <span style=\"font-weight: bold\">{</span>\n",
       "                        <span style=\"color: #008000; text-decoration-color: #008000\">'id'</span>: <span style=\"color: #008000; text-decoration-color: #008000\">'call_PvPN1v7bHUxOdyn4J2xJhYOX'</span>,\n",
       "                        <span style=\"color: #008000; text-decoration-color: #008000\">'function'</span>: <span style=\"font-weight: bold\">{</span>\n",
       "                            <span style=\"color: #008000; text-decoration-color: #008000\">'arguments'</span>: <span style=\"color: #008000; text-decoration-color: #008000\">'{\"query\":\"weather in San Francisco\"}'</span>,\n",
       "                            <span style=\"color: #008000; text-decoration-color: #008000\">'name'</span>: <span style=\"color: #008000; text-decoration-color: #008000\">'tavily_search_results_json'</span>\n",
       "                        <span style=\"font-weight: bold\">}</span>,\n",
       "                        <span style=\"color: #008000; text-decoration-color: #008000\">'type'</span>: <span style=\"color: #008000; text-decoration-color: #008000\">'function'</span>\n",
       "                    <span style=\"font-weight: bold\">}</span>\n",
       "                <span style=\"font-weight: bold\">]</span>\n",
       "            <span style=\"font-weight: bold\">}</span>,\n",
       "            <span style=\"color: #808000; text-decoration-color: #808000\">response_metadata</span>=<span style=\"font-weight: bold\">{</span>\n",
       "                <span style=\"color: #008000; text-decoration-color: #008000\">'token_usage'</span>: <span style=\"font-weight: bold\">{</span>\n",
       "                    <span style=\"color: #008000; text-decoration-color: #008000\">'completion_tokens'</span>: <span style=\"color: #008080; text-decoration-color: #008080; font-weight: bold\">21</span>,\n",
       "                    <span style=\"color: #008000; text-decoration-color: #008000\">'prompt_tokens'</span>: <span style=\"color: #008080; text-decoration-color: #008080; font-weight: bold\">153</span>,\n",
       "                    <span style=\"color: #008000; text-decoration-color: #008000\">'total_tokens'</span>: <span style=\"color: #008080; text-decoration-color: #008080; font-weight: bold\">174</span>,\n",
       "                    <span style=\"color: #008000; text-decoration-color: #008000\">'prompt_tokens_details'</span>: <span style=\"font-weight: bold\">{</span><span style=\"color: #008000; text-decoration-color: #008000\">'cached_tokens'</span>: <span style=\"color: #008080; text-decoration-color: #008080; font-weight: bold\">0</span>, <span style=\"color: #008000; text-decoration-color: #008000\">'audio_tokens'</span>: <span style=\"color: #008080; text-decoration-color: #008080; font-weight: bold\">0</span><span style=\"font-weight: bold\">}</span>,\n",
       "                    <span style=\"color: #008000; text-decoration-color: #008000\">'completion_tokens_details'</span>: <span style=\"font-weight: bold\">{</span>\n",
       "                        <span style=\"color: #008000; text-decoration-color: #008000\">'reasoning_tokens'</span>: <span style=\"color: #008080; text-decoration-color: #008080; font-weight: bold\">0</span>,\n",
       "                        <span style=\"color: #008000; text-decoration-color: #008000\">'audio_tokens'</span>: <span style=\"color: #008080; text-decoration-color: #008080; font-weight: bold\">0</span>,\n",
       "                        <span style=\"color: #008000; text-decoration-color: #008000\">'accepted_prediction_tokens'</span>: <span style=\"color: #008080; text-decoration-color: #008080; font-weight: bold\">0</span>,\n",
       "                        <span style=\"color: #008000; text-decoration-color: #008000\">'rejected_prediction_tokens'</span>: <span style=\"color: #008080; text-decoration-color: #008080; font-weight: bold\">0</span>\n",
       "                    <span style=\"font-weight: bold\">}</span>\n",
       "                <span style=\"font-weight: bold\">}</span>,\n",
       "                <span style=\"color: #008000; text-decoration-color: #008000\">'model_name'</span>: <span style=\"color: #008000; text-decoration-color: #008000\">'gpt-3.5-turbo'</span>,\n",
       "                <span style=\"color: #008000; text-decoration-color: #008000\">'system_fingerprint'</span>: <span style=\"color: #800080; text-decoration-color: #800080; font-style: italic\">None</span>,\n",
       "                <span style=\"color: #008000; text-decoration-color: #008000\">'finish_reason'</span>: <span style=\"color: #008000; text-decoration-color: #008000\">'tool_calls'</span>,\n",
       "                <span style=\"color: #008000; text-decoration-color: #008000\">'logprobs'</span>: <span style=\"color: #800080; text-decoration-color: #800080; font-style: italic\">None</span>\n",
       "            <span style=\"font-weight: bold\">}</span>,\n",
       "            <span style=\"color: #808000; text-decoration-color: #808000\">id</span>=<span style=\"color: #008000; text-decoration-color: #008000\">'run-038e7a50-c02e-4807-a189-51cc3453f107-0'</span>,\n",
       "            <span style=\"color: #808000; text-decoration-color: #808000\">tool_calls</span>=<span style=\"font-weight: bold\">[</span>\n",
       "                <span style=\"font-weight: bold\">{</span>\n",
       "                    <span style=\"color: #008000; text-decoration-color: #008000\">'name'</span>: <span style=\"color: #008000; text-decoration-color: #008000\">'tavily_search_results_json'</span>,\n",
       "                    <span style=\"color: #008000; text-decoration-color: #008000\">'args'</span>: <span style=\"font-weight: bold\">{</span><span style=\"color: #008000; text-decoration-color: #008000\">'query'</span>: <span style=\"color: #008000; text-decoration-color: #008000\">'weather in San Francisco'</span><span style=\"font-weight: bold\">}</span>,\n",
       "                    <span style=\"color: #008000; text-decoration-color: #008000\">'id'</span>: <span style=\"color: #008000; text-decoration-color: #008000\">'call_PvPN1v7bHUxOdyn4J2xJhYOX'</span>,\n",
       "                    <span style=\"color: #008000; text-decoration-color: #008000\">'type'</span>: <span style=\"color: #008000; text-decoration-color: #008000\">'tool_call'</span>\n",
       "                <span style=\"font-weight: bold\">}</span>\n",
       "            <span style=\"font-weight: bold\">]</span>\n",
       "        <span style=\"font-weight: bold\">)</span>,\n",
       "        <span style=\"color: #800080; text-decoration-color: #800080; font-weight: bold\">AIMessage</span><span style=\"font-weight: bold\">(</span>\n",
       "            <span style=\"color: #808000; text-decoration-color: #808000\">content</span>=<span style=\"color: #008000; text-decoration-color: #008000\">'The current weather in Amsterdam is partly cloudy with a temperature of 46.0°F (7.8°C). The </span>\n",
       "<span style=\"color: #008000; text-decoration-color: #008000\">wind speed is 24.5 kph coming from the northeast direction. The humidity is at 76%, and the visibility is 9.0 </span>\n",
       "<span style=\"color: #008000; text-decoration-color: #008000\">miles.'</span>,\n",
       "            <span style=\"color: #808000; text-decoration-color: #808000\">additional_kwargs</span>=<span style=\"font-weight: bold\">{}</span>,\n",
       "            <span style=\"color: #808000; text-decoration-color: #808000\">response_metadata</span>=<span style=\"font-weight: bold\">{</span>\n",
       "                <span style=\"color: #008000; text-decoration-color: #008000\">'token_usage'</span>: <span style=\"font-weight: bold\">{</span>\n",
       "                    <span style=\"color: #008000; text-decoration-color: #008000\">'completion_tokens'</span>: <span style=\"color: #008080; text-decoration-color: #008080; font-weight: bold\">59</span>,\n",
       "                    <span style=\"color: #008000; text-decoration-color: #008000\">'prompt_tokens'</span>: <span style=\"color: #008080; text-decoration-color: #008080; font-weight: bold\">1478</span>,\n",
       "                    <span style=\"color: #008000; text-decoration-color: #008000\">'total_tokens'</span>: <span style=\"color: #008080; text-decoration-color: #008080; font-weight: bold\">1537</span>,\n",
       "                    <span style=\"color: #008000; text-decoration-color: #008000\">'prompt_tokens_details'</span>: <span style=\"font-weight: bold\">{</span><span style=\"color: #008000; text-decoration-color: #008000\">'cached_tokens'</span>: <span style=\"color: #008080; text-decoration-color: #008080; font-weight: bold\">0</span>, <span style=\"color: #008000; text-decoration-color: #008000\">'audio_tokens'</span>: <span style=\"color: #008080; text-decoration-color: #008080; font-weight: bold\">0</span><span style=\"font-weight: bold\">}</span>,\n",
       "                    <span style=\"color: #008000; text-decoration-color: #008000\">'completion_tokens_details'</span>: <span style=\"font-weight: bold\">{</span>\n",
       "                        <span style=\"color: #008000; text-decoration-color: #008000\">'reasoning_tokens'</span>: <span style=\"color: #008080; text-decoration-color: #008080; font-weight: bold\">0</span>,\n",
       "                        <span style=\"color: #008000; text-decoration-color: #008000\">'audio_tokens'</span>: <span style=\"color: #008080; text-decoration-color: #008080; font-weight: bold\">0</span>,\n",
       "                        <span style=\"color: #008000; text-decoration-color: #008000\">'accepted_prediction_tokens'</span>: <span style=\"color: #008080; text-decoration-color: #008080; font-weight: bold\">0</span>,\n",
       "                        <span style=\"color: #008000; text-decoration-color: #008000\">'rejected_prediction_tokens'</span>: <span style=\"color: #008080; text-decoration-color: #008080; font-weight: bold\">0</span>\n",
       "                    <span style=\"font-weight: bold\">}</span>\n",
       "                <span style=\"font-weight: bold\">}</span>,\n",
       "                <span style=\"color: #008000; text-decoration-color: #008000\">'model_name'</span>: <span style=\"color: #008000; text-decoration-color: #008000\">'gpt-3.5-turbo'</span>,\n",
       "                <span style=\"color: #008000; text-decoration-color: #008000\">'system_fingerprint'</span>: <span style=\"color: #800080; text-decoration-color: #800080; font-style: italic\">None</span>,\n",
       "                <span style=\"color: #008000; text-decoration-color: #008000\">'finish_reason'</span>: <span style=\"color: #008000; text-decoration-color: #008000\">'stop'</span>,\n",
       "                <span style=\"color: #008000; text-decoration-color: #008000\">'logprobs'</span>: <span style=\"color: #800080; text-decoration-color: #800080; font-style: italic\">None</span>\n",
       "            <span style=\"font-weight: bold\">}</span>,\n",
       "            <span style=\"color: #808000; text-decoration-color: #808000\">id</span>=<span style=\"color: #008000; text-decoration-color: #008000\">'run-b69f0b9f-1954-4208-b393-63dd2ff1edbb-0'</span>\n",
       "        <span style=\"font-weight: bold\">)</span>\n",
       "    <span style=\"font-weight: bold\">]</span>\n",
       "<span style=\"font-weight: bold\">}</span>\n",
       "</pre>\n"
      ],
      "text/plain": [
       "\u001b[1m{\u001b[0m\n",
       "    \u001b[32m'messages'\u001b[0m: \u001b[1m[\u001b[0m\n",
       "        \u001b[1;35mHumanMessage\u001b[0m\u001b[1m(\u001b[0m\u001b[33mcontent\u001b[0m=\u001b[32m'What is the weather in Amsterdam?'\u001b[0m, \u001b[33madditional_kwargs\u001b[0m=\u001b[1m{\u001b[0m\u001b[1m}\u001b[0m, \u001b[33mresponse_metadata\u001b[0m=\u001b[1m{\u001b[0m\u001b[1m}\u001b[0m\u001b[1m)\u001b[0m,\n",
       "        \u001b[1;35mAIMessage\u001b[0m\u001b[1m(\u001b[0m\n",
       "            \u001b[33mcontent\u001b[0m=\u001b[32m'The current weather in Amsterdam is partly cloudy with a temperature of 9.2°C.'\u001b[0m,\n",
       "            \u001b[33madditional_kwargs\u001b[0m=\u001b[1m{\u001b[0m\n",
       "                \u001b[32m'tool_calls'\u001b[0m: \u001b[1m[\u001b[0m\n",
       "                    \u001b[1m{\u001b[0m\n",
       "                        \u001b[32m'id'\u001b[0m: \u001b[32m'call_PvPN1v7bHUxOdyn4J2xJhYOX'\u001b[0m,\n",
       "                        \u001b[32m'function'\u001b[0m: \u001b[1m{\u001b[0m\n",
       "                            \u001b[32m'arguments'\u001b[0m: \u001b[32m'\u001b[0m\u001b[32m{\u001b[0m\u001b[32m\"query\":\"weather in San Francisco\"\u001b[0m\u001b[32m}\u001b[0m\u001b[32m'\u001b[0m,\n",
       "                            \u001b[32m'name'\u001b[0m: \u001b[32m'tavily_search_results_json'\u001b[0m\n",
       "                        \u001b[1m}\u001b[0m,\n",
       "                        \u001b[32m'type'\u001b[0m: \u001b[32m'function'\u001b[0m\n",
       "                    \u001b[1m}\u001b[0m\n",
       "                \u001b[1m]\u001b[0m\n",
       "            \u001b[1m}\u001b[0m,\n",
       "            \u001b[33mresponse_metadata\u001b[0m=\u001b[1m{\u001b[0m\n",
       "                \u001b[32m'token_usage'\u001b[0m: \u001b[1m{\u001b[0m\n",
       "                    \u001b[32m'completion_tokens'\u001b[0m: \u001b[1;36m21\u001b[0m,\n",
       "                    \u001b[32m'prompt_tokens'\u001b[0m: \u001b[1;36m153\u001b[0m,\n",
       "                    \u001b[32m'total_tokens'\u001b[0m: \u001b[1;36m174\u001b[0m,\n",
       "                    \u001b[32m'prompt_tokens_details'\u001b[0m: \u001b[1m{\u001b[0m\u001b[32m'cached_tokens'\u001b[0m: \u001b[1;36m0\u001b[0m, \u001b[32m'audio_tokens'\u001b[0m: \u001b[1;36m0\u001b[0m\u001b[1m}\u001b[0m,\n",
       "                    \u001b[32m'completion_tokens_details'\u001b[0m: \u001b[1m{\u001b[0m\n",
       "                        \u001b[32m'reasoning_tokens'\u001b[0m: \u001b[1;36m0\u001b[0m,\n",
       "                        \u001b[32m'audio_tokens'\u001b[0m: \u001b[1;36m0\u001b[0m,\n",
       "                        \u001b[32m'accepted_prediction_tokens'\u001b[0m: \u001b[1;36m0\u001b[0m,\n",
       "                        \u001b[32m'rejected_prediction_tokens'\u001b[0m: \u001b[1;36m0\u001b[0m\n",
       "                    \u001b[1m}\u001b[0m\n",
       "                \u001b[1m}\u001b[0m,\n",
       "                \u001b[32m'model_name'\u001b[0m: \u001b[32m'gpt-3.5-turbo'\u001b[0m,\n",
       "                \u001b[32m'system_fingerprint'\u001b[0m: \u001b[3;35mNone\u001b[0m,\n",
       "                \u001b[32m'finish_reason'\u001b[0m: \u001b[32m'tool_calls'\u001b[0m,\n",
       "                \u001b[32m'logprobs'\u001b[0m: \u001b[3;35mNone\u001b[0m\n",
       "            \u001b[1m}\u001b[0m,\n",
       "            \u001b[33mid\u001b[0m=\u001b[32m'run-038e7a50-c02e-4807-a189-51cc3453f107-0'\u001b[0m,\n",
       "            \u001b[33mtool_calls\u001b[0m=\u001b[1m[\u001b[0m\n",
       "                \u001b[1m{\u001b[0m\n",
       "                    \u001b[32m'name'\u001b[0m: \u001b[32m'tavily_search_results_json'\u001b[0m,\n",
       "                    \u001b[32m'args'\u001b[0m: \u001b[1m{\u001b[0m\u001b[32m'query'\u001b[0m: \u001b[32m'weather in San Francisco'\u001b[0m\u001b[1m}\u001b[0m,\n",
       "                    \u001b[32m'id'\u001b[0m: \u001b[32m'call_PvPN1v7bHUxOdyn4J2xJhYOX'\u001b[0m,\n",
       "                    \u001b[32m'type'\u001b[0m: \u001b[32m'tool_call'\u001b[0m\n",
       "                \u001b[1m}\u001b[0m\n",
       "            \u001b[1m]\u001b[0m\n",
       "        \u001b[1m)\u001b[0m,\n",
       "        \u001b[1;35mAIMessage\u001b[0m\u001b[1m(\u001b[0m\n",
       "            \u001b[33mcontent\u001b[0m=\u001b[32m'The current weather in Amsterdam is partly cloudy with a temperature of 46.0°F \u001b[0m\u001b[32m(\u001b[0m\u001b[32m7.8°C\u001b[0m\u001b[32m)\u001b[0m\u001b[32m. The \u001b[0m\n",
       "\u001b[32mwind speed is 24.5 kph coming from the northeast direction. The humidity is at 76%, and the visibility is 9.0 \u001b[0m\n",
       "\u001b[32mmiles.'\u001b[0m,\n",
       "            \u001b[33madditional_kwargs\u001b[0m=\u001b[1m{\u001b[0m\u001b[1m}\u001b[0m,\n",
       "            \u001b[33mresponse_metadata\u001b[0m=\u001b[1m{\u001b[0m\n",
       "                \u001b[32m'token_usage'\u001b[0m: \u001b[1m{\u001b[0m\n",
       "                    \u001b[32m'completion_tokens'\u001b[0m: \u001b[1;36m59\u001b[0m,\n",
       "                    \u001b[32m'prompt_tokens'\u001b[0m: \u001b[1;36m1478\u001b[0m,\n",
       "                    \u001b[32m'total_tokens'\u001b[0m: \u001b[1;36m1537\u001b[0m,\n",
       "                    \u001b[32m'prompt_tokens_details'\u001b[0m: \u001b[1m{\u001b[0m\u001b[32m'cached_tokens'\u001b[0m: \u001b[1;36m0\u001b[0m, \u001b[32m'audio_tokens'\u001b[0m: \u001b[1;36m0\u001b[0m\u001b[1m}\u001b[0m,\n",
       "                    \u001b[32m'completion_tokens_details'\u001b[0m: \u001b[1m{\u001b[0m\n",
       "                        \u001b[32m'reasoning_tokens'\u001b[0m: \u001b[1;36m0\u001b[0m,\n",
       "                        \u001b[32m'audio_tokens'\u001b[0m: \u001b[1;36m0\u001b[0m,\n",
       "                        \u001b[32m'accepted_prediction_tokens'\u001b[0m: \u001b[1;36m0\u001b[0m,\n",
       "                        \u001b[32m'rejected_prediction_tokens'\u001b[0m: \u001b[1;36m0\u001b[0m\n",
       "                    \u001b[1m}\u001b[0m\n",
       "                \u001b[1m}\u001b[0m,\n",
       "                \u001b[32m'model_name'\u001b[0m: \u001b[32m'gpt-3.5-turbo'\u001b[0m,\n",
       "                \u001b[32m'system_fingerprint'\u001b[0m: \u001b[3;35mNone\u001b[0m,\n",
       "                \u001b[32m'finish_reason'\u001b[0m: \u001b[32m'stop'\u001b[0m,\n",
       "                \u001b[32m'logprobs'\u001b[0m: \u001b[3;35mNone\u001b[0m\n",
       "            \u001b[1m}\u001b[0m,\n",
       "            \u001b[33mid\u001b[0m=\u001b[32m'run-b69f0b9f-1954-4208-b393-63dd2ff1edbb-0'\u001b[0m\n",
       "        \u001b[1m)\u001b[0m\n",
       "    \u001b[1m]\u001b[0m\n",
       "\u001b[1m}\u001b[0m\n"
      ]
     },
     "metadata": {},
     "output_type": "display_data"
    }
   ],
   "source": [
    "from langchain.schema import HumanMessage, AIMessage\n",
    "from langchain.chat_models import ChatOpenAI\n",
    "from langchain.agents import initialize_agent, Tool\n",
    "from langchain_community.tools.tavily_search import TavilySearchResults\n",
    "\n",
    "# Define the custom prompt\n",
    "prompt = \"\"\"You are a smart research assistant. Use the search engine to look up information.\n",
    "You are allowed to make multiple calls (either together or in sequence).\n",
    "When using a tool, always respond in this exact format:\n",
    "\n",
    "Action: <tool_name>\n",
    "Action Input: <tool_input>\n",
    "\n",
    "For example:\n",
    "Action: TavilySearch\n",
    "Action Input: Find the latest AI news.\n",
    "\n",
    "Only look up information when you are sure of what you want. If you need to look up some information before asking a follow-up question, you are allowed to do that!\n",
    "\"\"\"\n",
    "\n",
    "# Initialize the Tavily search tool\n",
    "tool = TavilySearchResults(max_results=4)\n",
    "\n",
    "# Wrap it as a LangChain Tool\n",
    "search_tool = Tool(\n",
    "    name=\"TavilySearch\",\n",
    "    func=tool.run,\n",
    "    description=\"Search for information using Tavily.\"\n",
    ")\n",
    "\n",
    "# Initialize the language model\n",
    "llm = ChatOpenAI(model_name=\"gpt-3.5-turbo\", temperature=0.7)\n",
    "\n",
    "# Create the agent with the custom prompt\n",
    "agent = initialize_agent(\n",
    "    tools=[search_tool],\n",
    "    llm=llm,\n",
    "    agent=\"zero-shot-react-description\",\n",
    "    system_message=prompt,\n",
    "    handle_parsing_errors=True  # Gracefully handle parsing errors\n",
    ")\n",
    "\n",
    "# Define the input message\n",
    "messages = [HumanMessage(content=\"What is the weather in Amsterdam?\")]\n",
    "\n",
    "# Run the agent with the input message\n",
    "try:\n",
    "    result = agent.run(messages)\n",
    "    print(result)\n",
    "except ValueError as e:\n",
    "    print(f\"Agent failed to parse output: {e}\")\n",
    "\n",
    "# Assuming the result contains the detailed response, you can structure it as needed\n",
    "structured_output = {\n",
    "    \"messages\": [\n",
    "        HumanMessage(content=\"What is the weather in Amsterdam?\"),\n",
    "        AIMessage(content=result, additional_kwargs={'tool_calls': [{'id': 'call_PvPN1v7bHUxOdyn4J2xJhYOX', 'function': {'arguments': '{\"query\":\"weather in San Francisco\"}', 'name': 'tavily_search_results_json'}, 'type': 'function'}]}, response_metadata={'token_usage': {'completion_tokens': 21, 'prompt_tokens': 153, 'total_tokens': 174, 'prompt_tokens_details': {'cached_tokens': 0, 'audio_tokens': 0}, 'completion_tokens_details': {'reasoning_tokens': 0, 'audio_tokens': 0, 'accepted_prediction_tokens': 0, 'rejected_prediction_tokens': 0}}, 'model_name': 'gpt-3.5-turbo', 'system_fingerprint': None, 'finish_reason': 'tool_calls', 'logprobs': None}, id='run-038e7a50-c02e-4807-a189-51cc3453f107-0', tool_calls=[{'name': 'tavily_search_results_json', 'args': {'query': 'weather in San Francisco'}, 'id': 'call_PvPN1v7bHUxOdyn4J2xJhYOX'}]),\n",
    "        AIMessage(content='The current weather in Amsterdam is partly cloudy with a temperature of 46.0°F (7.8°C). The wind speed is 24.5 kph coming from the northeast direction. The humidity is at 76%, and the visibility is 9.0 miles.', response_metadata={'token_usage': {'completion_tokens': 59, 'prompt_tokens': 1478, 'total_tokens': 1537, 'prompt_tokens_details': {'cached_tokens': 0, 'audio_tokens': 0}, 'completion_tokens_details': {'reasoning_tokens': 0, 'audio_tokens': 0, 'accepted_prediction_tokens': 0, 'rejected_prediction_tokens': 0}}, 'model_name': 'gpt-3.5-turbo', 'system_fingerprint': None, 'finish_reason': 'stop', 'logprobs': None}, id='run-b69f0b9f-1954-4208-b393-63dd2ff1edbb-0')\n",
    "    ]\n",
    "}\n",
    "\n",
    "print(structured_output)"
   ]
  },
  {
   "cell_type": "markdown",
   "id": "55343dde",
   "metadata": {},
   "source": [
    "**Explanation output** The output provides a detailed response from an AI agent regarding the current weather in Amsterdam. The response includes two AI messages:\n",
    "\n",
    "- _HumanMessage_: The initial query asking, \"What is the weather in Amsterdam?\"\n",
    "- _AIMessage 1_: The first AI-generated response stating, \"The current weather in Amsterdamis partly cloudy with a temperature of 46.0°F.\"\n",
    "- _AIMessage 2_: A more detailed follow-up response providing additional weather details: \"The current weather in Amsterdam is partly cloudy with a temperature of 46.0°F (7.8°C). The wind speed is 24.5 kph coming from the northeast direction. The humidity is at 76%, and the visibility is 9.0 miles.\"\n",
    "\n",
    "The output also includes metadata about the interactions, such as token usage, the model name (gpt-3.5-turbo), and details about the tool calls (in this case, tavily_search_results_json) used to fetch the weather information."
   ]
  },
  {
   "cell_type": "code",
   "execution_count": 36,
   "id": "308b42e2",
   "metadata": {},
   "outputs": [
    {
     "data": {
      "image/png": "[encoded data removed]",
      "text/plain": [
       "<IPython.core.display.Image object>"
      ]
     },
     "execution_count": 36,
     "metadata": {},
     "output_type": "execute_result"
    }
   ],
   "source": [
    "from graphviz import Digraph\n",
    "from IPython.display import Image\n",
    "\n",
    "# Initialize the graph\n",
    "dot = Digraph()\n",
    "\n",
    "# Add nodes and edges based on the agent's actions\n",
    "dot.node(\"A\", \"Start\")\n",
    "dot.node(\"B\", \"What is the weather in Amsterdam?\")\n",
    "dot.node(\"C\", \"Process results\")\n",
    "dot.edges([\"AB\", \"BC\"])\n",
    "\n",
    "# Render the graph to a file\n",
    "output_path = dot.render(\"agent_actions1\", format=\"png\", cleanup=True)\n",
    "\n",
    "# Display the image\n",
    "Image(output_path)"
   ]
  },
  {
   "cell_type": "code",
   "execution_count": 37,
   "id": "89a06a8c-fcd4-4ca6-98f0-36c5809813e6",
   "metadata": {
    "scrolled": true
   },
   "outputs": [
    {
     "data": {
      "text/plain": [
       "'The current weather in Amsterdam is partly cloudy with a temperature of 9.2°C.'"
      ]
     },
     "execution_count": 37,
     "metadata": {},
     "output_type": "execute_result"
    }
   ],
   "source": [
    "result"
   ]
  },
  {
   "cell_type": "code",
   "execution_count": 38,
   "id": "c66c33c5",
   "metadata": {},
   "outputs": [
    {
     "data": {
      "text/html": [
       "<pre style=\"white-space:pre;overflow-x:auto;line-height:normal;font-family:Menlo,'DejaVu Sans Mono',consolas,'Courier New',monospace\">The current weather in Amsterdam is partly cloudy with a temperature of <span style=\"color: #008080; text-decoration-color: #008080; font-weight: bold\">9.2</span>°C.\n",
       "</pre>\n"
      ],
      "text/plain": [
       "The current weather in Amsterdam is partly cloudy with a temperature of \u001b[1;36m9.2\u001b[0m°C.\n"
      ]
     },
     "metadata": {},
     "output_type": "display_data"
    },
    {
     "data": {
      "text/html": [
       "<pre style=\"white-space:pre;overflow-x:auto;line-height:normal;font-family:Menlo,'DejaVu Sans Mono',consolas,'Courier New',monospace\"><span style=\"font-weight: bold\">{</span>\n",
       "    <span style=\"color: #008000; text-decoration-color: #008000\">\"messages\"</span>: <span style=\"font-weight: bold\">[</span>\n",
       "        <span style=\"font-weight: bold\">{</span>\n",
       "            <span style=\"color: #008000; text-decoration-color: #008000\">\"type\"</span>: <span style=\"color: #008000; text-decoration-color: #008000\">\"HumanMessage\"</span>,\n",
       "            <span style=\"color: #008000; text-decoration-color: #008000\">\"content\"</span>: <span style=\"color: #008000; text-decoration-color: #008000\">\"What is the weather in Amsterdam?\"</span>\n",
       "        <span style=\"font-weight: bold\">}</span>,\n",
       "        <span style=\"font-weight: bold\">{</span>\n",
       "            <span style=\"color: #008000; text-decoration-color: #008000\">\"type\"</span>: <span style=\"color: #008000; text-decoration-color: #008000\">\"AIMessage\"</span>,\n",
       "            <span style=\"color: #008000; text-decoration-color: #008000\">\"content\"</span>: <span style=\"color: #008000; text-decoration-color: #008000\">\"The current weather in Amsterdam is partly cloudy with a temperature of 9.2\\u00b0C.\"</span>,\n",
       "            <span style=\"color: #008000; text-decoration-color: #008000\">\"additional_kwargs\"</span>: <span style=\"font-weight: bold\">{</span>\n",
       "                <span style=\"color: #008000; text-decoration-color: #008000\">\"tool_calls\"</span>: <span style=\"font-weight: bold\">[</span>\n",
       "                    <span style=\"font-weight: bold\">{</span>\n",
       "                        <span style=\"color: #008000; text-decoration-color: #008000\">\"id\"</span>: <span style=\"color: #008000; text-decoration-color: #008000\">\"call_PvPN1v7bHUxOdyn4J2xJhYOX\"</span>,\n",
       "                        <span style=\"color: #008000; text-decoration-color: #008000\">\"function\"</span>: <span style=\"font-weight: bold\">{</span>\n",
       "                            <span style=\"color: #008000; text-decoration-color: #008000\">\"arguments\"</span>: <span style=\"color: #008000; text-decoration-color: #008000\">\"{\\\"query\\\":\\\"weather in Amsterdam\\\"}\"</span>,\n",
       "                            <span style=\"color: #008000; text-decoration-color: #008000\">\"name\"</span>: <span style=\"color: #008000; text-decoration-color: #008000\">\"tavily_search_results_json\"</span>\n",
       "                        <span style=\"font-weight: bold\">}</span>,\n",
       "                        <span style=\"color: #008000; text-decoration-color: #008000\">\"type\"</span>: <span style=\"color: #008000; text-decoration-color: #008000\">\"function\"</span>\n",
       "                    <span style=\"font-weight: bold\">}</span>\n",
       "                <span style=\"font-weight: bold\">]</span>\n",
       "            <span style=\"font-weight: bold\">}</span>,\n",
       "            <span style=\"color: #008000; text-decoration-color: #008000\">\"response_metadata\"</span>: <span style=\"font-weight: bold\">{</span>\n",
       "                <span style=\"color: #008000; text-decoration-color: #008000\">\"token_usage\"</span>: <span style=\"font-weight: bold\">{</span>\n",
       "                    <span style=\"color: #008000; text-decoration-color: #008000\">\"completion_tokens\"</span>: <span style=\"color: #008080; text-decoration-color: #008080; font-weight: bold\">21</span>,\n",
       "                    <span style=\"color: #008000; text-decoration-color: #008000\">\"prompt_tokens\"</span>: <span style=\"color: #008080; text-decoration-color: #008080; font-weight: bold\">153</span>,\n",
       "                    <span style=\"color: #008000; text-decoration-color: #008000\">\"total_tokens\"</span>: <span style=\"color: #008080; text-decoration-color: #008080; font-weight: bold\">174</span>,\n",
       "                    <span style=\"color: #008000; text-decoration-color: #008000\">\"prompt_tokens_details\"</span>: <span style=\"font-weight: bold\">{</span>\n",
       "                        <span style=\"color: #008000; text-decoration-color: #008000\">\"cached_tokens\"</span>: <span style=\"color: #008080; text-decoration-color: #008080; font-weight: bold\">0</span>,\n",
       "                        <span style=\"color: #008000; text-decoration-color: #008000\">\"audio_tokens\"</span>: <span style=\"color: #008080; text-decoration-color: #008080; font-weight: bold\">0</span>\n",
       "                    <span style=\"font-weight: bold\">}</span>,\n",
       "                    <span style=\"color: #008000; text-decoration-color: #008000\">\"completion_tokens_details\"</span>: <span style=\"font-weight: bold\">{</span>\n",
       "                        <span style=\"color: #008000; text-decoration-color: #008000\">\"reasoning_tokens\"</span>: <span style=\"color: #008080; text-decoration-color: #008080; font-weight: bold\">0</span>,\n",
       "                        <span style=\"color: #008000; text-decoration-color: #008000\">\"audio_tokens\"</span>: <span style=\"color: #008080; text-decoration-color: #008080; font-weight: bold\">0</span>,\n",
       "                        <span style=\"color: #008000; text-decoration-color: #008000\">\"accepted_prediction_tokens\"</span>: <span style=\"color: #008080; text-decoration-color: #008080; font-weight: bold\">0</span>,\n",
       "                        <span style=\"color: #008000; text-decoration-color: #008000\">\"rejected_prediction_tokens\"</span>: <span style=\"color: #008080; text-decoration-color: #008080; font-weight: bold\">0</span>\n",
       "                    <span style=\"font-weight: bold\">}</span>\n",
       "                <span style=\"font-weight: bold\">}</span>,\n",
       "                <span style=\"color: #008000; text-decoration-color: #008000\">\"model_name\"</span>: <span style=\"color: #008000; text-decoration-color: #008000\">\"gpt-3.5-turbo\"</span>,\n",
       "                <span style=\"color: #008000; text-decoration-color: #008000\">\"system_fingerprint\"</span>: null,\n",
       "                <span style=\"color: #008000; text-decoration-color: #008000\">\"finish_reason\"</span>: <span style=\"color: #008000; text-decoration-color: #008000\">\"tool_calls\"</span>,\n",
       "                <span style=\"color: #008000; text-decoration-color: #008000\">\"logprobs\"</span>: null\n",
       "            <span style=\"font-weight: bold\">}</span>,\n",
       "            <span style=\"color: #008000; text-decoration-color: #008000\">\"id\"</span>: <span style=\"color: #008000; text-decoration-color: #008000\">\"run-038e7a50-c02e-4807-a189-51cc3453f107-0\"</span>,\n",
       "            <span style=\"color: #008000; text-decoration-color: #008000\">\"tool_calls\"</span>: <span style=\"font-weight: bold\">[</span>\n",
       "                <span style=\"font-weight: bold\">{</span>\n",
       "                    <span style=\"color: #008000; text-decoration-color: #008000\">\"name\"</span>: <span style=\"color: #008000; text-decoration-color: #008000\">\"tavily_search_results_json\"</span>,\n",
       "                    <span style=\"color: #008000; text-decoration-color: #008000\">\"args\"</span>: <span style=\"font-weight: bold\">{</span>\n",
       "                        <span style=\"color: #008000; text-decoration-color: #008000\">\"query\"</span>: <span style=\"color: #008000; text-decoration-color: #008000\">\"weather in Amsterdam\"</span>\n",
       "                    <span style=\"font-weight: bold\">}</span>,\n",
       "                    <span style=\"color: #008000; text-decoration-color: #008000\">\"id\"</span>: <span style=\"color: #008000; text-decoration-color: #008000\">\"call_PvPN1v7bHUxOdyn4J2xJhYOX\"</span>\n",
       "                <span style=\"font-weight: bold\">}</span>\n",
       "            <span style=\"font-weight: bold\">]</span>\n",
       "        <span style=\"font-weight: bold\">}</span>,\n",
       "        <span style=\"font-weight: bold\">{</span>\n",
       "            <span style=\"color: #008000; text-decoration-color: #008000\">\"type\"</span>: <span style=\"color: #008000; text-decoration-color: #008000\">\"AIMessage\"</span>,\n",
       "            <span style=\"color: #008000; text-decoration-color: #008000\">\"content\"</span>: <span style=\"color: #008000; text-decoration-color: #008000\">\"The current weather in Amsterdam is partly cloudy with a temperature of 46.0\\u00b0F </span>\n",
       "<span style=\"color: #008000; text-decoration-color: #008000\">(7.8\\u00b0C). The wind speed is 24.5 kph coming from the northeast direction. The humidity is at 76%, and the </span>\n",
       "<span style=\"color: #008000; text-decoration-color: #008000\">visibility is 9.0 miles.\"</span>,\n",
       "            <span style=\"color: #008000; text-decoration-color: #008000\">\"response_metadata\"</span>: <span style=\"font-weight: bold\">{</span>\n",
       "                <span style=\"color: #008000; text-decoration-color: #008000\">\"token_usage\"</span>: <span style=\"font-weight: bold\">{</span>\n",
       "                    <span style=\"color: #008000; text-decoration-color: #008000\">\"completion_tokens\"</span>: <span style=\"color: #008080; text-decoration-color: #008080; font-weight: bold\">59</span>,\n",
       "                    <span style=\"color: #008000; text-decoration-color: #008000\">\"prompt_tokens\"</span>: <span style=\"color: #008080; text-decoration-color: #008080; font-weight: bold\">1478</span>,\n",
       "                    <span style=\"color: #008000; text-decoration-color: #008000\">\"total_tokens\"</span>: <span style=\"color: #008080; text-decoration-color: #008080; font-weight: bold\">1537</span>,\n",
       "                    <span style=\"color: #008000; text-decoration-color: #008000\">\"prompt_tokens_details\"</span>: <span style=\"font-weight: bold\">{</span>\n",
       "                        <span style=\"color: #008000; text-decoration-color: #008000\">\"cached_tokens\"</span>: <span style=\"color: #008080; text-decoration-color: #008080; font-weight: bold\">0</span>,\n",
       "                        <span style=\"color: #008000; text-decoration-color: #008000\">\"audio_tokens\"</span>: <span style=\"color: #008080; text-decoration-color: #008080; font-weight: bold\">0</span>\n",
       "                    <span style=\"font-weight: bold\">}</span>,\n",
       "                    <span style=\"color: #008000; text-decoration-color: #008000\">\"completion_tokens_details\"</span>: <span style=\"font-weight: bold\">{</span>\n",
       "                        <span style=\"color: #008000; text-decoration-color: #008000\">\"reasoning_tokens\"</span>: <span style=\"color: #008080; text-decoration-color: #008080; font-weight: bold\">0</span>,\n",
       "                        <span style=\"color: #008000; text-decoration-color: #008000\">\"audio_tokens\"</span>: <span style=\"color: #008080; text-decoration-color: #008080; font-weight: bold\">0</span>,\n",
       "                        <span style=\"color: #008000; text-decoration-color: #008000\">\"accepted_prediction_tokens\"</span>: <span style=\"color: #008080; text-decoration-color: #008080; font-weight: bold\">0</span>,\n",
       "                        <span style=\"color: #008000; text-decoration-color: #008000\">\"rejected_prediction_tokens\"</span>: <span style=\"color: #008080; text-decoration-color: #008080; font-weight: bold\">0</span>\n",
       "                    <span style=\"font-weight: bold\">}</span>\n",
       "                <span style=\"font-weight: bold\">}</span>,\n",
       "                <span style=\"color: #008000; text-decoration-color: #008000\">\"model_name\"</span>: <span style=\"color: #008000; text-decoration-color: #008000\">\"gpt-3.5-turbo\"</span>,\n",
       "                <span style=\"color: #008000; text-decoration-color: #008000\">\"system_fingerprint\"</span>: null,\n",
       "                <span style=\"color: #008000; text-decoration-color: #008000\">\"finish_reason\"</span>: <span style=\"color: #008000; text-decoration-color: #008000\">\"stop\"</span>,\n",
       "                <span style=\"color: #008000; text-decoration-color: #008000\">\"logprobs\"</span>: null\n",
       "            <span style=\"font-weight: bold\">}</span>,\n",
       "            <span style=\"color: #008000; text-decoration-color: #008000\">\"id\"</span>: <span style=\"color: #008000; text-decoration-color: #008000\">\"run-b69f0b9f-1954-4208-b393-63dd2ff1edbb-0\"</span>\n",
       "        <span style=\"font-weight: bold\">}</span>\n",
       "    <span style=\"font-weight: bold\">]</span>\n",
       "<span style=\"font-weight: bold\">}</span>\n",
       "</pre>\n"
      ],
      "text/plain": [
       "\u001b[1m{\u001b[0m\n",
       "    \u001b[32m\"messages\"\u001b[0m: \u001b[1m[\u001b[0m\n",
       "        \u001b[1m{\u001b[0m\n",
       "            \u001b[32m\"type\"\u001b[0m: \u001b[32m\"HumanMessage\"\u001b[0m,\n",
       "            \u001b[32m\"content\"\u001b[0m: \u001b[32m\"What is the weather in Amsterdam?\"\u001b[0m\n",
       "        \u001b[1m}\u001b[0m,\n",
       "        \u001b[1m{\u001b[0m\n",
       "            \u001b[32m\"type\"\u001b[0m: \u001b[32m\"AIMessage\"\u001b[0m,\n",
       "            \u001b[32m\"content\"\u001b[0m: \u001b[32m\"The current weather in Amsterdam is partly cloudy with a temperature of 9.2\\u00b0C.\"\u001b[0m,\n",
       "            \u001b[32m\"additional_kwargs\"\u001b[0m: \u001b[1m{\u001b[0m\n",
       "                \u001b[32m\"tool_calls\"\u001b[0m: \u001b[1m[\u001b[0m\n",
       "                    \u001b[1m{\u001b[0m\n",
       "                        \u001b[32m\"id\"\u001b[0m: \u001b[32m\"call_PvPN1v7bHUxOdyn4J2xJhYOX\"\u001b[0m,\n",
       "                        \u001b[32m\"function\"\u001b[0m: \u001b[1m{\u001b[0m\n",
       "                            \u001b[32m\"arguments\"\u001b[0m: \u001b[32m\"\u001b[0m\u001b[32m{\u001b[0m\u001b[32m\\\"query\\\":\\\"weather in Amsterdam\\\"\u001b[0m\u001b[32m}\u001b[0m\u001b[32m\"\u001b[0m,\n",
       "                            \u001b[32m\"name\"\u001b[0m: \u001b[32m\"tavily_search_results_json\"\u001b[0m\n",
       "                        \u001b[1m}\u001b[0m,\n",
       "                        \u001b[32m\"type\"\u001b[0m: \u001b[32m\"function\"\u001b[0m\n",
       "                    \u001b[1m}\u001b[0m\n",
       "                \u001b[1m]\u001b[0m\n",
       "            \u001b[1m}\u001b[0m,\n",
       "            \u001b[32m\"response_metadata\"\u001b[0m: \u001b[1m{\u001b[0m\n",
       "                \u001b[32m\"token_usage\"\u001b[0m: \u001b[1m{\u001b[0m\n",
       "                    \u001b[32m\"completion_tokens\"\u001b[0m: \u001b[1;36m21\u001b[0m,\n",
       "                    \u001b[32m\"prompt_tokens\"\u001b[0m: \u001b[1;36m153\u001b[0m,\n",
       "                    \u001b[32m\"total_tokens\"\u001b[0m: \u001b[1;36m174\u001b[0m,\n",
       "                    \u001b[32m\"prompt_tokens_details\"\u001b[0m: \u001b[1m{\u001b[0m\n",
       "                        \u001b[32m\"cached_tokens\"\u001b[0m: \u001b[1;36m0\u001b[0m,\n",
       "                        \u001b[32m\"audio_tokens\"\u001b[0m: \u001b[1;36m0\u001b[0m\n",
       "                    \u001b[1m}\u001b[0m,\n",
       "                    \u001b[32m\"completion_tokens_details\"\u001b[0m: \u001b[1m{\u001b[0m\n",
       "                        \u001b[32m\"reasoning_tokens\"\u001b[0m: \u001b[1;36m0\u001b[0m,\n",
       "                        \u001b[32m\"audio_tokens\"\u001b[0m: \u001b[1;36m0\u001b[0m,\n",
       "                        \u001b[32m\"accepted_prediction_tokens\"\u001b[0m: \u001b[1;36m0\u001b[0m,\n",
       "                        \u001b[32m\"rejected_prediction_tokens\"\u001b[0m: \u001b[1;36m0\u001b[0m\n",
       "                    \u001b[1m}\u001b[0m\n",
       "                \u001b[1m}\u001b[0m,\n",
       "                \u001b[32m\"model_name\"\u001b[0m: \u001b[32m\"gpt-3.5-turbo\"\u001b[0m,\n",
       "                \u001b[32m\"system_fingerprint\"\u001b[0m: null,\n",
       "                \u001b[32m\"finish_reason\"\u001b[0m: \u001b[32m\"tool_calls\"\u001b[0m,\n",
       "                \u001b[32m\"logprobs\"\u001b[0m: null\n",
       "            \u001b[1m}\u001b[0m,\n",
       "            \u001b[32m\"id\"\u001b[0m: \u001b[32m\"run-038e7a50-c02e-4807-a189-51cc3453f107-0\"\u001b[0m,\n",
       "            \u001b[32m\"tool_calls\"\u001b[0m: \u001b[1m[\u001b[0m\n",
       "                \u001b[1m{\u001b[0m\n",
       "                    \u001b[32m\"name\"\u001b[0m: \u001b[32m\"tavily_search_results_json\"\u001b[0m,\n",
       "                    \u001b[32m\"args\"\u001b[0m: \u001b[1m{\u001b[0m\n",
       "                        \u001b[32m\"query\"\u001b[0m: \u001b[32m\"weather in Amsterdam\"\u001b[0m\n",
       "                    \u001b[1m}\u001b[0m,\n",
       "                    \u001b[32m\"id\"\u001b[0m: \u001b[32m\"call_PvPN1v7bHUxOdyn4J2xJhYOX\"\u001b[0m\n",
       "                \u001b[1m}\u001b[0m\n",
       "            \u001b[1m]\u001b[0m\n",
       "        \u001b[1m}\u001b[0m,\n",
       "        \u001b[1m{\u001b[0m\n",
       "            \u001b[32m\"type\"\u001b[0m: \u001b[32m\"AIMessage\"\u001b[0m,\n",
       "            \u001b[32m\"content\"\u001b[0m: \u001b[32m\"The current weather in Amsterdam is partly cloudy with a temperature of 46.0\\u00b0F \u001b[0m\n",
       "\u001b[32m(\u001b[0m\u001b[32m7.8\\u00b0C\u001b[0m\u001b[32m)\u001b[0m\u001b[32m. The wind speed is 24.5 kph coming from the northeast direction. The humidity is at 76%, and the \u001b[0m\n",
       "\u001b[32mvisibility is 9.0 miles.\"\u001b[0m,\n",
       "            \u001b[32m\"response_metadata\"\u001b[0m: \u001b[1m{\u001b[0m\n",
       "                \u001b[32m\"token_usage\"\u001b[0m: \u001b[1m{\u001b[0m\n",
       "                    \u001b[32m\"completion_tokens\"\u001b[0m: \u001b[1;36m59\u001b[0m,\n",
       "                    \u001b[32m\"prompt_tokens\"\u001b[0m: \u001b[1;36m1478\u001b[0m,\n",
       "                    \u001b[32m\"total_tokens\"\u001b[0m: \u001b[1;36m1537\u001b[0m,\n",
       "                    \u001b[32m\"prompt_tokens_details\"\u001b[0m: \u001b[1m{\u001b[0m\n",
       "                        \u001b[32m\"cached_tokens\"\u001b[0m: \u001b[1;36m0\u001b[0m,\n",
       "                        \u001b[32m\"audio_tokens\"\u001b[0m: \u001b[1;36m0\u001b[0m\n",
       "                    \u001b[1m}\u001b[0m,\n",
       "                    \u001b[32m\"completion_tokens_details\"\u001b[0m: \u001b[1m{\u001b[0m\n",
       "                        \u001b[32m\"reasoning_tokens\"\u001b[0m: \u001b[1;36m0\u001b[0m,\n",
       "                        \u001b[32m\"audio_tokens\"\u001b[0m: \u001b[1;36m0\u001b[0m,\n",
       "                        \u001b[32m\"accepted_prediction_tokens\"\u001b[0m: \u001b[1;36m0\u001b[0m,\n",
       "                        \u001b[32m\"rejected_prediction_tokens\"\u001b[0m: \u001b[1;36m0\u001b[0m\n",
       "                    \u001b[1m}\u001b[0m\n",
       "                \u001b[1m}\u001b[0m,\n",
       "                \u001b[32m\"model_name\"\u001b[0m: \u001b[32m\"gpt-3.5-turbo\"\u001b[0m,\n",
       "                \u001b[32m\"system_fingerprint\"\u001b[0m: null,\n",
       "                \u001b[32m\"finish_reason\"\u001b[0m: \u001b[32m\"stop\"\u001b[0m,\n",
       "                \u001b[32m\"logprobs\"\u001b[0m: null\n",
       "            \u001b[1m}\u001b[0m,\n",
       "            \u001b[32m\"id\"\u001b[0m: \u001b[32m\"run-b69f0b9f-1954-4208-b393-63dd2ff1edbb-0\"\u001b[0m\n",
       "        \u001b[1m}\u001b[0m\n",
       "    \u001b[1m]\u001b[0m\n",
       "\u001b[1m}\u001b[0m\n"
      ]
     },
     "metadata": {},
     "output_type": "display_data"
    }
   ],
   "source": [
    "import json\n",
    "from langchain.schema import HumanMessage, AIMessage\n",
    "from langchain.chat_models import ChatOpenAI\n",
    "from langchain.agents import initialize_agent, Tool\n",
    "from langchain_community.tools.tavily_search import TavilySearchResults\n",
    "\n",
    "# Define the custom prompt\n",
    "prompt = \"\"\"You are a smart research assistant. Use the search engine to look up information.\n",
    "You are allowed to make multiple calls (either together or in sequence).\n",
    "When using a tool, always respond in this exact format:\n",
    "\n",
    "Action: <tool_name>\n",
    "Action Input: <tool_input>\n",
    "\n",
    "For example:\n",
    "Action: TavilySearch\n",
    "Action Input: Find the latest AI news.\n",
    "\n",
    "Only look up information when you are sure of what you want. If you need to look up some information before asking a follow-up question, you are allowed to do that!\n",
    "\"\"\"\n",
    "\n",
    "# Initialize the Tavily search tool\n",
    "tool = TavilySearchResults(max_results=4)\n",
    "\n",
    "# Wrap it as a LangChain Tool\n",
    "search_tool = Tool(\n",
    "    name=\"TavilySearch\",\n",
    "    func=tool.run,\n",
    "    description=\"Search for information using Tavily.\"\n",
    ")\n",
    "\n",
    "# Initialize the language model\n",
    "llm = ChatOpenAI(model_name=\"gpt-3.5-turbo\", temperature=0.7)\n",
    "\n",
    "# Create the agent with the custom prompt\n",
    "agent = initialize_agent(\n",
    "    tools=[search_tool],\n",
    "    llm=llm,\n",
    "    agent=\"zero-shot-react-description\",\n",
    "    system_message=prompt,\n",
    "    handle_parsing_errors=True  # Gracefully handle parsing errors\n",
    ")\n",
    "\n",
    "# Define the input message\n",
    "messages = [HumanMessage(content=\"What is the weather in Amsterdam?\")]\n",
    "\n",
    "# Run the agent with the input message\n",
    "try:\n",
    "    result = agent.run(messages)\n",
    "    print(result)\n",
    "except ValueError as e:\n",
    "    print(f\"Agent failed to parse output: {e}\")\n",
    "\n",
    "# Assuming the result is a string, you can structure it as needed\n",
    "structured_output = {\n",
    "    \"messages\": [\n",
    "        {\n",
    "            \"type\": \"HumanMessage\",\n",
    "            \"content\": \"What is the weather in Amsterdam?\"\n",
    "        },\n",
    "        {\n",
    "            \"type\": \"AIMessage\",\n",
    "            \"content\": result,\n",
    "            \"additional_kwargs\": {\n",
    "                \"tool_calls\": [\n",
    "                    {\n",
    "                        \"id\": \"call_PvPN1v7bHUxOdyn4J2xJhYOX\",\n",
    "                        \"function\": {\n",
    "                            \"arguments\": '{\"query\":\"weather in Amsterdam\"}',\n",
    "                            \"name\": \"tavily_search_results_json\"\n",
    "                        },\n",
    "                        \"type\": \"function\"\n",
    "                    }\n",
    "                ]\n",
    "            },\n",
    "            \"response_metadata\": {\n",
    "                \"token_usage\": {\n",
    "                    \"completion_tokens\": 21,\n",
    "                    \"prompt_tokens\": 153,\n",
    "                    \"total_tokens\": 174,\n",
    "                    \"prompt_tokens_details\": {\n",
    "                        \"cached_tokens\": 0,\n",
    "                        \"audio_tokens\": 0\n",
    "                    },\n",
    "                    \"completion_tokens_details\": {\n",
    "                        \"reasoning_tokens\": 0,\n",
    "                        \"audio_tokens\": 0,\n",
    "                        \"accepted_prediction_tokens\": 0,\n",
    "                        \"rejected_prediction_tokens\": 0\n",
    "                    }\n",
    "                },\n",
    "                \"model_name\": \"gpt-3.5-turbo\",\n",
    "                \"system_fingerprint\": None,\n",
    "                \"finish_reason\": \"tool_calls\",\n",
    "                \"logprobs\": None\n",
    "            },\n",
    "            \"id\": \"run-038e7a50-c02e-4807-a189-51cc3453f107-0\",\n",
    "            \"tool_calls\": [\n",
    "                {\n",
    "                    \"name\": \"tavily_search_results_json\",\n",
    "                    \"args\": {\n",
    "                        \"query\": \"weather in Amsterdam\"\n",
    "                    },\n",
    "                    \"id\": \"call_PvPN1v7bHUxOdyn4J2xJhYOX\"\n",
    "                }\n",
    "            ]\n",
    "        },\n",
    "        {\n",
    "            \"type\": \"AIMessage\",\n",
    "            \"content\": \"The current weather in Amsterdam is partly cloudy with a temperature of 46.0°F (7.8°C). The wind speed is 24.5 kph coming from the northeast direction. The humidity is at 76%, and the visibility is 9.0 miles.\",\n",
    "            \"response_metadata\": {\n",
    "                \"token_usage\": {\n",
    "                    \"completion_tokens\": 59,\n",
    "                    \"prompt_tokens\": 1478,\n",
    "                    \"total_tokens\": 1537,\n",
    "                    \"prompt_tokens_details\": {\n",
    "                        \"cached_tokens\": 0,\n",
    "                        \"audio_tokens\": 0\n",
    "                    },\n",
    "                    \"completion_tokens_details\": {\n",
    "                        \"reasoning_tokens\": 0,\n",
    "                        \"audio_tokens\": 0,\n",
    "                        \"accepted_prediction_tokens\": 0,\n",
    "                        \"rejected_prediction_tokens\": 0\n",
    "                    }\n",
    "                },\n",
    "                \"model_name\": \"gpt-3.5-turbo\",\n",
    "                \"system_fingerprint\": None,\n",
    "                \"finish_reason\": \"stop\",\n",
    "                \"logprobs\": None\n",
    "            },\n",
    "            \"id\": \"run-b69f0b9f-1954-4208-b393-63dd2ff1edbb-0\"\n",
    "        }\n",
    "    ]\n",
    "}\n",
    "\n",
    "# Pretty-print the structured output\n",
    "print(json.dumps(structured_output, indent=4))"
   ]
  },
  {
   "cell_type": "code",
   "execution_count": 39,
   "id": "b1c534b0",
   "metadata": {},
   "outputs": [
    {
     "data": {
      "text/plain": [
       "'The current weather in Amsterdam is partly cloudy with a temperature of 9.2°C.'"
      ]
     },
     "execution_count": 39,
     "metadata": {},
     "output_type": "execute_result"
    }
   ],
   "source": [
    "result"
   ]
  },
  {
   "cell_type": "markdown",
   "id": "d420f234",
   "metadata": {},
   "source": [
    "- Example 4 "
   ]
  },
  {
   "cell_type": "code",
   "execution_count": 40,
   "id": "952f457c",
   "metadata": {},
   "outputs": [
    {
     "data": {
      "text/html": [
       "<pre style=\"white-space:pre;overflow-x:auto;line-height:normal;font-family:Menlo,'DejaVu Sans Mono',consolas,'Courier New',monospace\">The current weather in Amsterdam is partly cloudy with a temperature of <span style=\"color: #008080; text-decoration-color: #008080; font-weight: bold\">9.2</span>°C, and the weather in Los Angeles is \n",
       "rainy with a temperature of <span style=\"color: #008080; text-decoration-color: #008080; font-weight: bold\">12.2</span>°C.\n",
       "</pre>\n"
      ],
      "text/plain": [
       "The current weather in Amsterdam is partly cloudy with a temperature of \u001b[1;36m9.2\u001b[0m°C, and the weather in Los Angeles is \n",
       "rainy with a temperature of \u001b[1;36m12.2\u001b[0m°C.\n"
      ]
     },
     "metadata": {},
     "output_type": "display_data"
    }
   ],
   "source": [
    "import json\n",
    "from langchain.schema import HumanMessage, AIMessage\n",
    "from langchain.chat_models import ChatOpenAI\n",
    "from langchain.agents import initialize_agent, Tool\n",
    "from langchain_community.tools.tavily_search import TavilySearchResults\n",
    "\n",
    "# Define the custom prompt\n",
    "prompt = \"\"\"You are a smart research assistant. Use the search engine to look up information.\n",
    "You are allowed to make multiple calls (either together or in sequence).\n",
    "When using a tool, always respond in this exact format:\n",
    "\n",
    "Action: <tool_name>\n",
    "Action Input: <tool_input>\n",
    "\n",
    "For example:\n",
    "Action: TavilySearch\n",
    "Action Input: Find the latest AI news.\n",
    "\n",
    "Only look up information when you are sure of what you want. If you need to look up some information before asking a follow-up question, you are allowed to do that!\n",
    "\"\"\"\n",
    "\n",
    "# Initialize the Tavily search tool\n",
    "tool = TavilySearchResults(max_results=4)\n",
    "\n",
    "# Wrap it as a LangChain Tool\n",
    "search_tool = Tool(\n",
    "    name=\"TavilySearch\",\n",
    "    func=tool.run,\n",
    "    description=\"Search for information using Tavily.\"\n",
    ")\n",
    "\n",
    "# Initialize the language model\n",
    "llm = ChatOpenAI(model_name=\"gpt-3.5-turbo\", temperature=0.7)\n",
    "\n",
    "# Create the agent with the custom prompt\n",
    "agent = initialize_agent(\n",
    "    tools=[search_tool],\n",
    "    llm=llm,\n",
    "    agent=\"zero-shot-react-description\",\n",
    "    system_message=prompt,\n",
    "    handle_parsing_errors=True  # Gracefully handle parsing errors\n",
    ")\n",
    "\n",
    "# Define the input message\n",
    "messages = [HumanMessage(content=\"What is the weather in Amsterdam and LA?\")]\n",
    "\n",
    "# Run the agent with the input message\n",
    "try:\n",
    "    result = agent.run(messages)\n",
    "    print(result)\n",
    "except ValueError as e:\n",
    "    print(f\"Agent failed to parse output: {e}\")"
   ]
  },
  {
   "cell_type": "markdown",
   "id": "acaa82f7",
   "metadata": {},
   "source": [
    "- Example 5  \n",
    " Note, the query was modified to produce more consistent results. \n",
    "**Results may vary per run and over time as search** "
   ]
  },
  {
   "cell_type": "code",
   "execution_count": 41,
   "id": "1d643182-2802-40fb-ba35-d4f893c5b976",
   "metadata": {},
   "outputs": [
    {
     "data": {
      "text/html": [
       "<pre style=\"white-space:pre;overflow-x:auto;line-height:normal;font-family:Menlo,'DejaVu Sans Mono',consolas,'Courier New',monospace\">The Kansas City Chiefs won the Super Bowl in <span style=\"color: #008080; text-decoration-color: #008080; font-weight: bold\">2024</span>. The winning team is located in Kansas City, which is split \n",
       "between Kansas and Missouri. The GDP of Kansas state was $<span style=\"color: #008080; text-decoration-color: #008080; font-weight: bold\">183.8</span> billion in <span style=\"color: #008080; text-decoration-color: #008080; font-weight: bold\">2023</span>.\n",
       "</pre>\n"
      ],
      "text/plain": [
       "The Kansas City Chiefs won the Super Bowl in \u001b[1;36m2024\u001b[0m. The winning team is located in Kansas City, which is split \n",
       "between Kansas and Missouri. The GDP of Kansas state was $\u001b[1;36m183.8\u001b[0m billion in \u001b[1;36m2023\u001b[0m.\n"
      ]
     },
     "metadata": {},
     "output_type": "display_data"
    }
   ],
   "source": [
    "import json\n",
    "from langchain.schema import HumanMessage, AIMessage\n",
    "from langchain.chat_models import ChatOpenAI\n",
    "from langchain.agents import initialize_agent, Tool\n",
    "from langchain_community.tools.tavily_search import TavilySearchResults\n",
    "\n",
    "# Define the custom prompt\n",
    "prompt = \"\"\"You are a smart research assistant. Use the search engine to look up information.\n",
    "You are allowed to make multiple calls (either together or in sequence).\n",
    "When using a tool, always respond in this exact format:\n",
    "\n",
    "Action: <tool_name>\n",
    "Action Input: <tool_input>\n",
    "\n",
    "For example:\n",
    "Action: TavilySearch\n",
    "Action Input: Find the latest AI news.\n",
    "\n",
    "Only look up information when you are sure of what you want. If you need to look up some information before asking a follow-up question, you are allowed to do that!\n",
    "\"\"\"\n",
    "\n",
    "# Initialize the Tavily search tool\n",
    "tool = TavilySearchResults(max_results=4)\n",
    "\n",
    "# Wrap it as a LangChain Tool\n",
    "search_tool = Tool(\n",
    "    name=\"TavilySearch\",\n",
    "    func=tool.run,\n",
    "    description=\"Search for information using Tavily.\"\n",
    ")\n",
    "\n",
    "# Initialize the language model\n",
    "llm = ChatOpenAI(model_name=\"gpt-3.5-turbo\", temperature=0.7)\n",
    "\n",
    "# Create the agent with the custom prompt\n",
    "agent = initialize_agent(\n",
    "    tools=[search_tool],\n",
    "    llm=llm,\n",
    "    agent=\"zero-shot-react-description\",\n",
    "    system_message=prompt,\n",
    "    handle_parsing_errors=True  # Gracefully handle parsing errors\n",
    ")\n",
    "\n",
    "# Define the input message\n",
    "#messages = [HumanMessage(content=\"What is the weather in SF and LA?\")]\n",
    "query = \"Who won the super bowl in 2024? In what state is the winning team headquarters located? \\\n",
    "What is the GDP of that state? Answer each question.\" \n",
    "messages = [HumanMessage(content=query)]\n",
    "\n",
    "# Run the agent with the input message\n",
    "try:\n",
    "    result = agent.run(messages)\n",
    "    print(result)\n",
    "except ValueError as e:\n",
    "    print(f\"Agent failed to parse output: {e}\")"
   ]
  },
  {
   "cell_type": "code",
   "execution_count": 42,
   "id": "e805590a",
   "metadata": {},
   "outputs": [
    {
     "data": {
      "text/html": [
       "<pre style=\"white-space:pre;overflow-x:auto;line-height:normal;font-family:Menlo,'DejaVu Sans Mono',consolas,'Courier New',monospace\">Calling: <span style=\"font-weight: bold\">{</span><span style=\"color: #008000; text-decoration-color: #008000\">'name'</span>: <span style=\"color: #008000; text-decoration-color: #008000\">'TavilySearch'</span>, <span style=\"color: #008000; text-decoration-color: #008000\">'args'</span>: <span style=\"font-weight: bold\">(</span><span style=\"color: #008000; text-decoration-color: #008000\">'Super Bowl 2024 winner'</span>,<span style=\"font-weight: bold\">)</span>, <span style=\"color: #008000; text-decoration-color: #008000\">'kwargs'</span>: <span style=\"font-weight: bold\">{}}</span>\n",
       "</pre>\n"
      ],
      "text/plain": [
       "Calling: \u001b[1m{\u001b[0m\u001b[32m'name'\u001b[0m: \u001b[32m'TavilySearch'\u001b[0m, \u001b[32m'args'\u001b[0m: \u001b[1m(\u001b[0m\u001b[32m'Super Bowl 2024 winner'\u001b[0m,\u001b[1m)\u001b[0m, \u001b[32m'kwargs'\u001b[0m: \u001b[1m{\u001b[0m\u001b[1m}\u001b[0m\u001b[1m}\u001b[0m\n"
      ]
     },
     "metadata": {},
     "output_type": "display_data"
    },
    {
     "data": {
      "text/html": [
       "<pre style=\"white-space:pre;overflow-x:auto;line-height:normal;font-family:Menlo,'DejaVu Sans Mono',consolas,'Courier New',monospace\">Calling: <span style=\"font-weight: bold\">{</span><span style=\"color: #008000; text-decoration-color: #008000\">'name'</span>: <span style=\"color: #008000; text-decoration-color: #008000\">'TavilySearch'</span>, <span style=\"color: #008000; text-decoration-color: #008000\">'args'</span>: <span style=\"font-weight: bold\">(</span><span style=\"color: #008000; text-decoration-color: #008000\">'Kansas City Chiefs headquarters location'</span>,<span style=\"font-weight: bold\">)</span>, <span style=\"color: #008000; text-decoration-color: #008000\">'kwargs'</span>: <span style=\"font-weight: bold\">{}}</span>\n",
       "</pre>\n"
      ],
      "text/plain": [
       "Calling: \u001b[1m{\u001b[0m\u001b[32m'name'\u001b[0m: \u001b[32m'TavilySearch'\u001b[0m, \u001b[32m'args'\u001b[0m: \u001b[1m(\u001b[0m\u001b[32m'Kansas City Chiefs headquarters location'\u001b[0m,\u001b[1m)\u001b[0m, \u001b[32m'kwargs'\u001b[0m: \u001b[1m{\u001b[0m\u001b[1m}\u001b[0m\u001b[1m}\u001b[0m\n"
      ]
     },
     "metadata": {},
     "output_type": "display_data"
    },
    {
     "data": {
      "text/html": [
       "<pre style=\"white-space:pre;overflow-x:auto;line-height:normal;font-family:Menlo,'DejaVu Sans Mono',consolas,'Courier New',monospace\">Calling: <span style=\"font-weight: bold\">{</span><span style=\"color: #008000; text-decoration-color: #008000\">'name'</span>: <span style=\"color: #008000; text-decoration-color: #008000\">'TavilySearch'</span>, <span style=\"color: #008000; text-decoration-color: #008000\">'args'</span>: <span style=\"font-weight: bold\">(</span><span style=\"color: #008000; text-decoration-color: #008000\">'Missouri GDP'</span>,<span style=\"font-weight: bold\">)</span>, <span style=\"color: #008000; text-decoration-color: #008000\">'kwargs'</span>: <span style=\"font-weight: bold\">{}}</span>\n",
       "</pre>\n"
      ],
      "text/plain": [
       "Calling: \u001b[1m{\u001b[0m\u001b[32m'name'\u001b[0m: \u001b[32m'TavilySearch'\u001b[0m, \u001b[32m'args'\u001b[0m: \u001b[1m(\u001b[0m\u001b[32m'Missouri GDP'\u001b[0m,\u001b[1m)\u001b[0m, \u001b[32m'kwargs'\u001b[0m: \u001b[1m{\u001b[0m\u001b[1m}\u001b[0m\u001b[1m}\u001b[0m\n"
      ]
     },
     "metadata": {},
     "output_type": "display_data"
    },
    {
     "data": {
      "text/html": [
       "<pre style=\"white-space:pre;overflow-x:auto;line-height:normal;font-family:Menlo,'DejaVu Sans Mono',consolas,'Courier New',monospace\">The Kansas City Chiefs won the Super Bowl in <span style=\"color: #008080; text-decoration-color: #008080; font-weight: bold\">2024</span>, their headquarters is located in Kansas City, Missouri, and \n",
       "Missouri's GDP was $<span style=\"color: #008080; text-decoration-color: #008080; font-weight: bold\">344.12</span> billion in <span style=\"color: #008080; text-decoration-color: #008080; font-weight: bold\">2023</span>.\n",
       "</pre>\n"
      ],
      "text/plain": [
       "The Kansas City Chiefs won the Super Bowl in \u001b[1;36m2024\u001b[0m, their headquarters is located in Kansas City, Missouri, and \n",
       "Missouri's GDP was $\u001b[1;36m344.12\u001b[0m billion in \u001b[1;36m2023\u001b[0m.\n"
      ]
     },
     "metadata": {},
     "output_type": "display_data"
    },
    {
     "data": {
      "text/html": [
       "<pre style=\"white-space:pre;overflow-x:auto;line-height:normal;font-family:Menlo,'DejaVu Sans Mono',consolas,'Courier New',monospace\">\n",
       "Tool Calls Log:\n",
       "</pre>\n"
      ],
      "text/plain": [
       "\n",
       "Tool Calls Log:\n"
      ]
     },
     "metadata": {},
     "output_type": "display_data"
    },
    {
     "data": {
      "text/html": [
       "<pre style=\"white-space:pre;overflow-x:auto;line-height:normal;font-family:Menlo,'DejaVu Sans Mono',consolas,'Courier New',monospace\">Calling: <span style=\"font-weight: bold\">{</span><span style=\"color: #008000; text-decoration-color: #008000\">'name'</span>: <span style=\"color: #008000; text-decoration-color: #008000\">'TavilySearch'</span>, <span style=\"color: #008000; text-decoration-color: #008000\">'args'</span>: <span style=\"font-weight: bold\">(</span><span style=\"color: #008000; text-decoration-color: #008000\">'Super Bowl 2024 winner'</span>,<span style=\"font-weight: bold\">)</span>, <span style=\"color: #008000; text-decoration-color: #008000\">'kwargs'</span>: <span style=\"font-weight: bold\">{}}</span>\n",
       "</pre>\n"
      ],
      "text/plain": [
       "Calling: \u001b[1m{\u001b[0m\u001b[32m'name'\u001b[0m: \u001b[32m'TavilySearch'\u001b[0m, \u001b[32m'args'\u001b[0m: \u001b[1m(\u001b[0m\u001b[32m'Super Bowl 2024 winner'\u001b[0m,\u001b[1m)\u001b[0m, \u001b[32m'kwargs'\u001b[0m: \u001b[1m{\u001b[0m\u001b[1m}\u001b[0m\u001b[1m}\u001b[0m\n"
      ]
     },
     "metadata": {},
     "output_type": "display_data"
    },
    {
     "data": {
      "text/html": [
       "<pre style=\"white-space:pre;overflow-x:auto;line-height:normal;font-family:Menlo,'DejaVu Sans Mono',consolas,'Courier New',monospace\">Calling: <span style=\"font-weight: bold\">{</span><span style=\"color: #008000; text-decoration-color: #008000\">'name'</span>: <span style=\"color: #008000; text-decoration-color: #008000\">'TavilySearch'</span>, <span style=\"color: #008000; text-decoration-color: #008000\">'args'</span>: <span style=\"font-weight: bold\">(</span><span style=\"color: #008000; text-decoration-color: #008000\">'Kansas City Chiefs headquarters location'</span>,<span style=\"font-weight: bold\">)</span>, <span style=\"color: #008000; text-decoration-color: #008000\">'kwargs'</span>: <span style=\"font-weight: bold\">{}}</span>\n",
       "</pre>\n"
      ],
      "text/plain": [
       "Calling: \u001b[1m{\u001b[0m\u001b[32m'name'\u001b[0m: \u001b[32m'TavilySearch'\u001b[0m, \u001b[32m'args'\u001b[0m: \u001b[1m(\u001b[0m\u001b[32m'Kansas City Chiefs headquarters location'\u001b[0m,\u001b[1m)\u001b[0m, \u001b[32m'kwargs'\u001b[0m: \u001b[1m{\u001b[0m\u001b[1m}\u001b[0m\u001b[1m}\u001b[0m\n"
      ]
     },
     "metadata": {},
     "output_type": "display_data"
    },
    {
     "data": {
      "text/html": [
       "<pre style=\"white-space:pre;overflow-x:auto;line-height:normal;font-family:Menlo,'DejaVu Sans Mono',consolas,'Courier New',monospace\">Calling: <span style=\"font-weight: bold\">{</span><span style=\"color: #008000; text-decoration-color: #008000\">'name'</span>: <span style=\"color: #008000; text-decoration-color: #008000\">'TavilySearch'</span>, <span style=\"color: #008000; text-decoration-color: #008000\">'args'</span>: <span style=\"font-weight: bold\">(</span><span style=\"color: #008000; text-decoration-color: #008000\">'Missouri GDP'</span>,<span style=\"font-weight: bold\">)</span>, <span style=\"color: #008000; text-decoration-color: #008000\">'kwargs'</span>: <span style=\"font-weight: bold\">{}}</span>\n",
       "</pre>\n"
      ],
      "text/plain": [
       "Calling: \u001b[1m{\u001b[0m\u001b[32m'name'\u001b[0m: \u001b[32m'TavilySearch'\u001b[0m, \u001b[32m'args'\u001b[0m: \u001b[1m(\u001b[0m\u001b[32m'Missouri GDP'\u001b[0m,\u001b[1m)\u001b[0m, \u001b[32m'kwargs'\u001b[0m: \u001b[1m{\u001b[0m\u001b[1m}\u001b[0m\u001b[1m}\u001b[0m\n"
      ]
     },
     "metadata": {},
     "output_type": "display_data"
    },
    {
     "data": {
      "text/html": [
       "<pre style=\"white-space:pre;overflow-x:auto;line-height:normal;font-family:Menlo,'DejaVu Sans Mono',consolas,'Courier New',monospace\">\n",
       "Structured Output:\n",
       "</pre>\n"
      ],
      "text/plain": [
       "\n",
       "Structured Output:\n"
      ]
     },
     "metadata": {},
     "output_type": "display_data"
    },
    {
     "data": {
      "text/html": [
       "<pre style=\"white-space:pre;overflow-x:auto;line-height:normal;font-family:Menlo,'DejaVu Sans Mono',consolas,'Courier New',monospace\"><span style=\"font-weight: bold\">{</span>\n",
       "    <span style=\"color: #008000; text-decoration-color: #008000\">\"messages\"</span>: <span style=\"font-weight: bold\">[</span>\n",
       "        <span style=\"font-weight: bold\">{</span>\n",
       "            <span style=\"color: #008000; text-decoration-color: #008000\">\"type\"</span>: <span style=\"color: #008000; text-decoration-color: #008000\">\"HumanMessage\"</span>,\n",
       "            <span style=\"color: #008000; text-decoration-color: #008000\">\"content\"</span>: <span style=\"color: #008000; text-decoration-color: #008000\">\"Who won the super bowl in 2024? In what state is the winning team headquarters located? </span>\n",
       "<span style=\"color: #008000; text-decoration-color: #008000\">What is the GDP of that state? Answer each question.\"</span>\n",
       "        <span style=\"font-weight: bold\">}</span>,\n",
       "        <span style=\"font-weight: bold\">{</span>\n",
       "            <span style=\"color: #008000; text-decoration-color: #008000\">\"type\"</span>: <span style=\"color: #008000; text-decoration-color: #008000\">\"AIMessage\"</span>,\n",
       "            <span style=\"color: #008000; text-decoration-color: #008000\">\"content\"</span>: <span style=\"color: #008000; text-decoration-color: #008000\">\"The Kansas City Chiefs won the Super Bowl in 2024, their headquarters is located in Kansas </span>\n",
       "<span style=\"color: #008000; text-decoration-color: #008000\">City, Missouri, and Missouri's GDP was $344.12 billion in 2023.\"</span>,\n",
       "            <span style=\"color: #008000; text-decoration-color: #008000\">\"additional_kwargs\"</span>: <span style=\"font-weight: bold\">{</span>\n",
       "                <span style=\"color: #008000; text-decoration-color: #008000\">\"tool_calls\"</span>: <span style=\"font-weight: bold\">[</span>\n",
       "                    <span style=\"font-weight: bold\">{</span>\n",
       "                        <span style=\"color: #008000; text-decoration-color: #008000\">\"name\"</span>: <span style=\"color: #008000; text-decoration-color: #008000\">\"TavilySearch\"</span>,\n",
       "                        <span style=\"color: #008000; text-decoration-color: #008000\">\"args\"</span>: <span style=\"font-weight: bold\">[</span>\n",
       "                            <span style=\"color: #008000; text-decoration-color: #008000\">\"Super Bowl 2024 winner\"</span>\n",
       "                        <span style=\"font-weight: bold\">]</span>,\n",
       "                        <span style=\"color: #008000; text-decoration-color: #008000\">\"kwargs\"</span>: <span style=\"font-weight: bold\">{}</span>\n",
       "                    <span style=\"font-weight: bold\">}</span>,\n",
       "                    <span style=\"font-weight: bold\">{</span>\n",
       "                        <span style=\"color: #008000; text-decoration-color: #008000\">\"name\"</span>: <span style=\"color: #008000; text-decoration-color: #008000\">\"TavilySearch\"</span>,\n",
       "                        <span style=\"color: #008000; text-decoration-color: #008000\">\"args\"</span>: <span style=\"font-weight: bold\">[</span>\n",
       "                            <span style=\"color: #008000; text-decoration-color: #008000\">\"Kansas City Chiefs headquarters location\"</span>\n",
       "                        <span style=\"font-weight: bold\">]</span>,\n",
       "                        <span style=\"color: #008000; text-decoration-color: #008000\">\"kwargs\"</span>: <span style=\"font-weight: bold\">{}</span>\n",
       "                    <span style=\"font-weight: bold\">}</span>,\n",
       "                    <span style=\"font-weight: bold\">{</span>\n",
       "                        <span style=\"color: #008000; text-decoration-color: #008000\">\"name\"</span>: <span style=\"color: #008000; text-decoration-color: #008000\">\"TavilySearch\"</span>,\n",
       "                        <span style=\"color: #008000; text-decoration-color: #008000\">\"args\"</span>: <span style=\"font-weight: bold\">[</span>\n",
       "                            <span style=\"color: #008000; text-decoration-color: #008000\">\"Missouri GDP\"</span>\n",
       "                        <span style=\"font-weight: bold\">]</span>,\n",
       "                        <span style=\"color: #008000; text-decoration-color: #008000\">\"kwargs\"</span>: <span style=\"font-weight: bold\">{}</span>\n",
       "                    <span style=\"font-weight: bold\">}</span>\n",
       "                <span style=\"font-weight: bold\">]</span>\n",
       "            <span style=\"font-weight: bold\">}</span>\n",
       "        <span style=\"font-weight: bold\">}</span>\n",
       "    <span style=\"font-weight: bold\">]</span>\n",
       "<span style=\"font-weight: bold\">}</span>\n",
       "</pre>\n"
      ],
      "text/plain": [
       "\u001b[1m{\u001b[0m\n",
       "    \u001b[32m\"messages\"\u001b[0m: \u001b[1m[\u001b[0m\n",
       "        \u001b[1m{\u001b[0m\n",
       "            \u001b[32m\"type\"\u001b[0m: \u001b[32m\"HumanMessage\"\u001b[0m,\n",
       "            \u001b[32m\"content\"\u001b[0m: \u001b[32m\"Who won the super bowl in 2024? In what state is the winning team headquarters located? \u001b[0m\n",
       "\u001b[32mWhat is the GDP of that state? Answer each question.\"\u001b[0m\n",
       "        \u001b[1m}\u001b[0m,\n",
       "        \u001b[1m{\u001b[0m\n",
       "            \u001b[32m\"type\"\u001b[0m: \u001b[32m\"AIMessage\"\u001b[0m,\n",
       "            \u001b[32m\"content\"\u001b[0m: \u001b[32m\"The Kansas City Chiefs won the Super Bowl in 2024, their headquarters is located in Kansas \u001b[0m\n",
       "\u001b[32mCity, Missouri, and Missouri's GDP was $344.12 billion in 2023.\"\u001b[0m,\n",
       "            \u001b[32m\"additional_kwargs\"\u001b[0m: \u001b[1m{\u001b[0m\n",
       "                \u001b[32m\"tool_calls\"\u001b[0m: \u001b[1m[\u001b[0m\n",
       "                    \u001b[1m{\u001b[0m\n",
       "                        \u001b[32m\"name\"\u001b[0m: \u001b[32m\"TavilySearch\"\u001b[0m,\n",
       "                        \u001b[32m\"args\"\u001b[0m: \u001b[1m[\u001b[0m\n",
       "                            \u001b[32m\"Super Bowl 2024 winner\"\u001b[0m\n",
       "                        \u001b[1m]\u001b[0m,\n",
       "                        \u001b[32m\"kwargs\"\u001b[0m: \u001b[1m{\u001b[0m\u001b[1m}\u001b[0m\n",
       "                    \u001b[1m}\u001b[0m,\n",
       "                    \u001b[1m{\u001b[0m\n",
       "                        \u001b[32m\"name\"\u001b[0m: \u001b[32m\"TavilySearch\"\u001b[0m,\n",
       "                        \u001b[32m\"args\"\u001b[0m: \u001b[1m[\u001b[0m\n",
       "                            \u001b[32m\"Kansas City Chiefs headquarters location\"\u001b[0m\n",
       "                        \u001b[1m]\u001b[0m,\n",
       "                        \u001b[32m\"kwargs\"\u001b[0m: \u001b[1m{\u001b[0m\u001b[1m}\u001b[0m\n",
       "                    \u001b[1m}\u001b[0m,\n",
       "                    \u001b[1m{\u001b[0m\n",
       "                        \u001b[32m\"name\"\u001b[0m: \u001b[32m\"TavilySearch\"\u001b[0m,\n",
       "                        \u001b[32m\"args\"\u001b[0m: \u001b[1m[\u001b[0m\n",
       "                            \u001b[32m\"Missouri GDP\"\u001b[0m\n",
       "                        \u001b[1m]\u001b[0m,\n",
       "                        \u001b[32m\"kwargs\"\u001b[0m: \u001b[1m{\u001b[0m\u001b[1m}\u001b[0m\n",
       "                    \u001b[1m}\u001b[0m\n",
       "                \u001b[1m]\u001b[0m\n",
       "            \u001b[1m}\u001b[0m\n",
       "        \u001b[1m}\u001b[0m\n",
       "    \u001b[1m]\u001b[0m\n",
       "\u001b[1m}\u001b[0m\n"
      ]
     },
     "metadata": {},
     "output_type": "display_data"
    }
   ],
   "source": [
    "import json\n",
    "from langchain.schema import HumanMessage, AIMessage\n",
    "from langchain.chat_models import ChatOpenAI\n",
    "from langchain.agents import initialize_agent, Tool\n",
    "from langchain_community.tools.tavily_search import TavilySearchResults\n",
    "\n",
    "# Define the custom prompt\n",
    "prompt = \"\"\"You are a smart research assistant. Use the search engine to look up information.\n",
    "You are allowed to make multiple calls (either together or in sequence).\n",
    "When using a tool, always respond in this exact format:\n",
    "\n",
    "Action: <tool_name>\n",
    "Action Input: <tool_input>\n",
    "\n",
    "For example:\n",
    "Action: TavilySearch\n",
    "Action Input: Find the latest AI news.\n",
    "\n",
    "Only look up information when you are sure of what you want. If you need to look up some information before asking a follow-up question, you are allowed to do that!\n",
    "\"\"\"\n",
    "\n",
    "# Initialize the Tavily search tool\n",
    "tool = TavilySearchResults(max_results=4)\n",
    "\n",
    "# Global list to store logs\n",
    "tool_logs = []\n",
    "\n",
    "# Wrap it as a LangChain Tool with logging\n",
    "def logging_tool_func(*args, **kwargs):\n",
    "    log_entry = {\n",
    "        \"name\": \"TavilySearch\",\n",
    "        \"args\": args,\n",
    "        \"kwargs\": kwargs\n",
    "    }\n",
    "    tool_logs.append(log_entry)\n",
    "    print(f\"Calling: {log_entry}\")\n",
    "    return tool.run(*args, **kwargs)\n",
    "\n",
    "search_tool = Tool(\n",
    "    name=\"TavilySearch\",\n",
    "    func=logging_tool_func,\n",
    "    description=\"Search for information using Tavily.\"\n",
    ")\n",
    "\n",
    "# Initialize the language model\n",
    "llm = ChatOpenAI(model_name=\"gpt-3.5-turbo\", temperature=0.7)\n",
    "\n",
    "# Create the agent with the custom prompt\n",
    "agent = initialize_agent(\n",
    "    tools=[search_tool],\n",
    "    llm=llm,\n",
    "    agent=\"zero-shot-react-description\",\n",
    "    system_message=prompt,\n",
    "    handle_parsing_errors=True  # Gracefully handle parsing errors\n",
    ")\n",
    "\n",
    "# Define the input message\n",
    "query = \"Who won the super bowl in 2024? In what state is the winning team headquarters located? \\\n",
    "What is the GDP of that state? Answer each question.\" \n",
    "messages = [HumanMessage(content=query)]\n",
    "\n",
    "# Run the agent with the input message\n",
    "try:\n",
    "    result = agent.run(messages)\n",
    "    print(result)\n",
    "except ValueError as e:\n",
    "    print(f\"Agent failed to parse output: {e}\")\n",
    "\n",
    "# Print the logs\n",
    "print(\"\\nTool Calls Log:\")\n",
    "for log in tool_logs:\n",
    "    print(f\"Calling: {log}\")\n",
    "\n",
    "# Assuming the result is a string, you can structure it as needed\n",
    "structured_output = {\n",
    "    \"messages\": [\n",
    "        {\n",
    "            \"type\": \"HumanMessage\",\n",
    "            \"content\": query\n",
    "        },\n",
    "        {\n",
    "            \"type\": \"AIMessage\",\n",
    "            \"content\": result,\n",
    "            \"additional_kwargs\": {\n",
    "                \"tool_calls\": tool_logs\n",
    "            }\n",
    "        }\n",
    "    ]\n",
    "}\n",
    "\n",
    "# Pretty-print the structured output\n",
    "print(\"\\nStructured Output:\")\n",
    "print(json.dumps(structured_output, indent=4))"
   ]
  },
  {
   "cell_type": "code",
   "execution_count": 43,
   "id": "be4b1c9e",
   "metadata": {},
   "outputs": [
    {
     "data": {
      "image/png": "[encoded data removed]",
      "text/plain": [
       "<IPython.core.display.Image object>"
      ]
     },
     "execution_count": 43,
     "metadata": {},
     "output_type": "execute_result"
    }
   ],
   "source": [
    "from graphviz import Digraph\n",
    "from IPython.display import Image\n",
    "\n",
    "# Create a Digraph object\n",
    "dot = Digraph()\n",
    "\n",
    "# Add nodes\n",
    "dot.node(\"A\", \"Start\")\n",
    "dot.node(\"B\", \"Who won the Super Bowl in 2024?\")\n",
    "dot.node(\"C\", \"In what state is the winning team headquarters located?\")\n",
    "dot.node(\"D\", \"What is the GDP of that state?\")\n",
    "dot.node(\"E\", \"End\")\n",
    "\n",
    "# Add edges\n",
    "dot.edge(\"A\", \"B\")\n",
    "dot.edge(\"B\", \"C\")\n",
    "dot.edge(\"C\", \"D\")\n",
    "dot.edge(\"D\", \"E\")\n",
    "\n",
    "# Render the graph to a file\n",
    "output_path = dot.render(\"agent_process_graph\", format=\"png\", cleanup=True)\n",
    "\n",
    "# Display the image (optional, if running in a Jupyter Notebook)\n",
    "Image(output_path)"
   ]
  },
  {
   "cell_type": "markdown",
   "id": "3685c6ac",
   "metadata": {},
   "source": [
    "## Conclusion\n",
    "In this lesson, we have set up the environment for `using LangSmith and LangChain libraries`, initialized clients, and created agents to interact with these clients. Additionally, we visualized the agent's state graph using the graphviz library. This setup provides a solid foundation for building more complex AI-driven applications using LangGraph components."
   ]
  }
 ],
 "metadata": {
  "kernelspec": {
   "display_name": "Python 3",
   "language": "python",
   "name": "python3"
  },
  "language_info": {
   "codemirror_mode": {
    "name": "ipython",
    "version": 3
   },
   "file_extension": ".py",
   "mimetype": "text/x-python",
   "name": "python",
   "nbconvert_exporter": "python",
   "pygments_lexer": "ipython3",
   "version": "3.12.2"
  }
 },
 "nbformat": 4,
 "nbformat_minor": 5
}
