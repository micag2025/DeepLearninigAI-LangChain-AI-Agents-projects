{
 "cells": [
  {
   "cell_type": "markdown",
   "id": "911b3b37-3b29-4833-94f2-bfe47af00c83",
   "metadata": {},
   "source": [
    "# Essay Writer ✍️"
   ]
  },
  {
   "cell_type": "markdown",
   "id": "5bc59f93",
   "metadata": {},
   "source": [
    "### Introduction\n",
    "\n",
    "This notebook aims to provide a comprehensive and structured approach to building an essay writer using various language processing tools and models. It demonstrates the integration of environmental variables, language models, and custom-defined prompts to generate, reflect, and improve essay drafts iteratively."
   ]
  },
  {
   "cell_type": "markdown",
   "id": "7637aabf",
   "metadata": {},
   "source": [
    "## Setting Up the Environment for Langgraph\n",
    "To start, we need to load environment variables from a `.env` file. This file should contain our API keys."
   ]
  },
  {
   "cell_type": "code",
   "execution_count": 1,
   "id": "f5762271-8736-4e94-9444-8c92bd0e8074",
   "metadata": {},
   "outputs": [],
   "source": [
    "# Load environmental variables\n",
    "from dotenv import load_dotenv\n",
    "_ = load_dotenv()"
   ]
  },
  {
   "cell_type": "code",
   "execution_count": 2,
   "id": "d0168aee-bce9-4d60-b827-f86a88187e31",
   "metadata": {},
   "outputs": [],
   "source": [
    "# Import necessary libraries and modules\n",
    "from langgraph.graph import StateGraph, END\n",
    "from typing import TypedDict, Annotated, List\n",
    "import operator\n",
    "from langgraph.checkpoint.sqlite import SqliteSaver\n",
    "from langchain_core.messages import AnyMessage, SystemMessage, HumanMessage, AIMessage, ChatMessage\n",
    "\n",
    "# Initialize memory with SqliteSaver\n",
    "memory = SqliteSaver.from_conn_string(\":memory:\")"
   ]
  },
  {
   "cell_type": "code",
   "execution_count": 3,
   "id": "2589c5b6-6cc2-4594-9a17-dccdcf676054",
   "metadata": {},
   "outputs": [],
   "source": [
    "# Define the AgentState class using TypedDict\n",
    "class AgentState(TypedDict):\n",
    "    task: str\n",
    "    plan: str\n",
    "    draft: str\n",
    "    critique: str\n",
    "    content: List[str]\n",
    "    revision_number: int\n",
    "    max_revisions: int"
   ]
  },
  {
   "cell_type": "code",
   "execution_count": 4,
   "id": "27ec8acb",
   "metadata": {},
   "outputs": [],
   "source": [
    "# Import the ChatOpenAI model from langchain\n",
    "from langchain.chat_models import ChatOpenAI"
   ]
  },
  {
   "cell_type": "code",
   "execution_count": 5,
   "id": "a2ba84ec-c172-4de7-ac55-e3158a531b23",
   "metadata": {},
   "outputs": [
    {
     "name": "stderr",
     "output_type": "stream",
     "text": [
      "C:\\Users\\Michela\\AppData\\Local\\Temp\\ipykernel_16292\\616840920.py:2: LangChainDeprecationWarning: The class `ChatOpenAI` was deprecated in LangChain 0.0.10 and will be removed in 1.0. An updated version of the class exists in the :class:`~langchain-openai package and should be used instead. To use it run `pip install -U :class:`~langchain-openai` and import as `from :class:`~langchain_openai import ChatOpenAI``.\n",
      "  model = ChatOpenAI(model=\"gpt-3.5-turbo\", temperature=0)\n"
     ]
    }
   ],
   "source": [
    "# Initialize the ChatOpenAI model with specific parameters\n",
    "model = ChatOpenAI(model=\"gpt-3.5-turbo\", temperature=0)"
   ]
  },
  {
   "cell_type": "markdown",
   "id": "52475c28",
   "metadata": {},
   "source": [
    "### Define prompts for various stages of essay writing\n"
   ]
  },
  {
   "cell_type": "code",
   "execution_count": 6,
   "id": "876d5092-b8ef-4e38-b4d7-0e80c609bf7a",
   "metadata": {},
   "outputs": [],
   "source": [
    "# Outline Prompt\n",
    "PLAN_PROMPT = \"\"\"You are an expert writer tasked with writing a high level outline of an essay. \\\n",
    "Write such an outline for the user provided topic. Give an outline of the essay along with any relevant notes \\\n",
    "or instructions for the sections.\"\"\""
   ]
  },
  {
   "cell_type": "code",
   "execution_count": 7,
   "id": "10084a02-2928-4945-9f7c-ad3f5b33caf7",
   "metadata": {},
   "outputs": [],
   "source": [
    "# Writer Prompt\n",
    "WRITER_PROMPT = \"\"\"You are an essay assistant tasked with writing excellent 5-paragraph essays.\\\n",
    "Generate the best essay possible for the user's request and the initial outline. \\\n",
    "If the user provides critique, respond with a revised version of your previous attempts. \\\n",
    "Utilize all the information below as needed: \n",
    "\n",
    "------\n",
    "\n",
    "{content}\"\"\""
   ]
  },
  {
   "cell_type": "code",
   "execution_count": 8,
   "id": "714d1205-f8fc-4912-b148-2a45da99219c",
   "metadata": {},
   "outputs": [],
   "source": [
    "# Reflection Prompt\n",
    "REFLECTION_PROMPT = \"\"\"You are a teacher grading an essay submission. \\\n",
    "Generate critique and recommendations for the user's submission. \\\n",
    "Provide detailed recommendations, including requests for length, depth, style, etc.\"\"\""
   ]
  },
  {
   "cell_type": "code",
   "execution_count": 9,
   "id": "83588e70-254f-4f83-a510-c8ae81e729b0",
   "metadata": {},
   "outputs": [],
   "source": [
    "# Research Plan Prompt\n",
    "RESEARCH_PLAN_PROMPT = \"\"\"You are a researcher charged with providing information that can \\\n",
    "be used when writing the following essay. Generate a list of search queries that will gather \\\n",
    "any relevant information. Only generate 3 queries max.\"\"\"\n"
   ]
  },
  {
   "cell_type": "code",
   "execution_count": 10,
   "id": "6cb3ef4c-58b3-401b-b104-0d51e553d982",
   "metadata": {},
   "outputs": [],
   "source": [
    "# Research Critique Prompt\n",
    "RESEARCH_CRITIQUE_PROMPT = \"\"\"You are a researcher charged with providing information that can \\\n",
    "be used when making any requested revisions (as outlined below). \\\n",
    "Generate a list of search queries that will gather any relevant information. Only generate 3 queries max.\"\"\"\n"
   ]
  },
  {
   "cell_type": "markdown",
   "id": "599e7a57",
   "metadata": {},
   "source": [
    "#### Define the Queries Class"
   ]
  },
  {
   "cell_type": "code",
   "execution_count": 11,
   "id": "e4e42892",
   "metadata": {},
   "outputs": [],
   "source": [
    "# Define the Queries class using pydantic BaseModel\n",
    "from pydantic import BaseModel\n",
    "class Queries(BaseModel):\n",
    "    queries: List[str]"
   ]
  },
  {
   "cell_type": "markdown",
   "id": "534cb135",
   "metadata": {},
   "source": [
    "#### Load environment variables and print the API key to verify it is loaded correctly"
   ]
  },
  {
   "cell_type": "code",
   "execution_count": null,
   "id": "e3edff06",
   "metadata": {},
   "outputs": [
    {
     "name": "stdout",
     "output_type": "stream",
     "text": [
      "TAVILY_API_KEY: tvly-*****\n"
     ]
    }
   ],
   "source": [
    "#from dotenv import load_dotenv\n",
    "#import os\n",
    "from dotenv import load_dotenv\n",
    "import os\n",
    "# Load environment variables\n",
    "load_dotenv()\n",
    "\n",
    "\n",
    "# Print the Tavily API key (masked)\n",
    "print(f\"TAVILY_API_KEY: {os.getenv('TAVILY_API_KEY')[:5]}*****\")\n"
   ]
  },
  {
   "cell_type": "markdown",
   "id": "bf054830",
   "metadata": {},
   "source": [
    "#### Initialize the TavilyClient with the API key"
   ]
  },
  {
   "cell_type": "markdown",
   "id": "ab9d4006",
   "metadata": {},
   "source": [
    "**Note** Here to proceed is necessary to install the tavily library \n",
    "``` py\n",
    "py -m pip install --upgrade tavily-python\n",
    "```"
   ]
  },
  {
   "cell_type": "code",
   "execution_count": 13,
   "id": "0722c3d4-4cbf-43bf-81b0-50f634c4ce61",
   "metadata": {},
   "outputs": [],
   "source": [
    "# Initialize the TavilyClient with the API key\n",
    "from tavily import TavilyClient\n",
    "import os\n",
    "tavily = TavilyClient(api_key=os.environ[\"TAVILY_API_KEY\"])"
   ]
  },
  {
   "cell_type": "markdown",
   "id": "0bdb5c72",
   "metadata": {},
   "source": [
    "#### Define Functions for StateGraph Nodes\n",
    "Define various nodes for the StateGraph"
   ]
  },
  {
   "cell_type": "code",
   "execution_count": 14,
   "id": "6b2f82fe-3ec4-4917-be51-9fb10d1317fa",
   "metadata": {},
   "outputs": [],
   "source": [
    "# Plan Node\n",
    "def plan_node(state: AgentState):\n",
    "    messages = [\n",
    "        SystemMessage(content=PLAN_PROMPT), \n",
    "        HumanMessage(content=state['task'])\n",
    "    ]\n",
    "    response = model.invoke(messages)\n",
    "    return {\"plan\": response.content}"
   ]
  },
  {
   "cell_type": "code",
   "execution_count": 15,
   "id": "ee0fe1c7-77e2-499c-a2f9-1f739bb6ddf0",
   "metadata": {},
   "outputs": [],
   "source": [
    "# Research Plan Node\n",
    "def research_plan_node(state: AgentState):\n",
    "    queries = model.with_structured_output(Queries).invoke([\n",
    "        SystemMessage(content=RESEARCH_PLAN_PROMPT),\n",
    "        HumanMessage(content=state['task'])\n",
    "    ])\n",
    "    content = state['content'] or []\n",
    "    for q in queries.queries:\n",
    "        response = tavily.search(query=q, max_results=2)\n",
    "        for r in response['results']:\n",
    "            content.append(r['content'])\n",
    "    return {\"content\": content}"
   ]
  },
  {
   "cell_type": "code",
   "execution_count": 17,
   "id": "98f303b1-a4d0-408c-8cc0-515ff980717f",
   "metadata": {},
   "outputs": [],
   "source": [
    "# Generation Node\n",
    "def generation_node(state: AgentState):\n",
    "    content = \"\\n\\n\".join(state['content'] or [])\n",
    "    user_message = HumanMessage(\n",
    "        content=f\"{state['task']}\\n\\nHere is my plan:\\n\\n{state['plan']}\")\n",
    "    messages = [\n",
    "        SystemMessage(\n",
    "            content=WRITER_PROMPT.format(content=content)\n",
    "        ),\n",
    "        user_message\n",
    "        ]\n",
    "    response = model.invoke(messages)\n",
    "    return {\n",
    "        \"draft\": response.content, \n",
    "        \"revision_number\": state.get(\"revision_number\", 1) + 1\n",
    "    }\n"
   ]
  },
  {
   "cell_type": "code",
   "execution_count": 18,
   "id": "bf4dcb93-6298-4cfd-b3ce-61dfac7fb35f",
   "metadata": {},
   "outputs": [],
   "source": [
    "# Reflection Node\n",
    "def reflection_node(state: AgentState):\n",
    "    messages = [\n",
    "        SystemMessage(content=REFLECTION_PROMPT), \n",
    "        HumanMessage(content=state['draft'])\n",
    "    ]\n",
    "    response = model.invoke(messages)\n",
    "    return {\"critique\": response.content}"
   ]
  },
  {
   "cell_type": "code",
   "execution_count": 19,
   "id": "932883a4-c722-42bb-aec0-b4f41c5c81a4",
   "metadata": {},
   "outputs": [],
   "source": [
    "# Research Critique Node\n",
    "def research_critique_node(state: AgentState):\n",
    "    queries = model.with_structured_output(Queries).invoke([\n",
    "        SystemMessage(content=RESEARCH_CRITIQUE_PROMPT),\n",
    "        HumanMessage(content=state['critique'])\n",
    "    ])\n",
    "    content = state['content'] or []\n",
    "    for q in queries.queries:\n",
    "        response = tavily.search(query=q, max_results=2)\n",
    "        for r in response['results']:\n",
    "            content.append(r['content'])\n",
    "    return {\"content\": content}"
   ]
  },
  {
   "cell_type": "code",
   "execution_count": 20,
   "id": "ff362f49-dcf1-4ea1-a86c-e516e9ab897d",
   "metadata": {},
   "outputs": [],
   "source": [
    "# Define the condition to determine if the process should continue\n",
    "def should_continue(state):\n",
    "    if state[\"revision_number\"] > state[\"max_revisions\"]:\n",
    "        return END\n",
    "    return \"reflect\""
   ]
  },
  {
   "cell_type": "code",
   "execution_count": 21,
   "id": "a7e15a20-83d7-434c-8551-bce8dcc32be0",
   "metadata": {},
   "outputs": [],
   "source": [
    "builder = StateGraph(AgentState)"
   ]
  },
  {
   "cell_type": "code",
   "execution_count": 22,
   "id": "54ab2c74-f32e-490c-a85d-932d11444210",
   "metadata": {},
   "outputs": [
    {
     "data": {
      "text/plain": [
       "<langgraph.graph.state.StateGraph at 0x18f6cef01a0>"
      ]
     },
     "execution_count": 22,
     "metadata": {},
     "output_type": "execute_result"
    }
   ],
   "source": [
    "# Build the state graph by adding nodes and setting the entry point\n",
    "builder.add_node(\"planner\", plan_node)\n",
    "builder.add_node(\"generate\", generation_node)\n",
    "builder.add_node(\"reflect\", reflection_node)\n",
    "builder.add_node(\"research_plan\", research_plan_node)\n",
    "builder.add_node(\"research_critique\", research_critique_node)"
   ]
  },
  {
   "cell_type": "code",
   "execution_count": 23,
   "id": "a833d3ce-bd31-4319-811d-decff226b970",
   "metadata": {},
   "outputs": [
    {
     "data": {
      "text/plain": [
       "<langgraph.graph.state.StateGraph at 0x18f6cef01a0>"
      ]
     },
     "execution_count": 23,
     "metadata": {},
     "output_type": "execute_result"
    }
   ],
   "source": [
    "builder.set_entry_point(\"planner\")"
   ]
  },
  {
   "cell_type": "code",
   "execution_count": 24,
   "id": "76e93cce-6eab-4c7c-ac64-e9993fdb30d6",
   "metadata": {},
   "outputs": [
    {
     "data": {
      "text/plain": [
       "<langgraph.graph.state.StateGraph at 0x18f6cef01a0>"
      ]
     },
     "execution_count": 24,
     "metadata": {},
     "output_type": "execute_result"
    }
   ],
   "source": [
    "# Add conditional edges and compile the graph\n",
    "builder.add_conditional_edges(\n",
    "    \"generate\", \n",
    "    should_continue, \n",
    "    {END: END, \"reflect\": \"reflect\"}\n",
    ")\n"
   ]
  },
  {
   "cell_type": "code",
   "execution_count": 25,
   "id": "fd2d0990-a932-423f-9ff3-5cada58c5f32",
   "metadata": {},
   "outputs": [
    {
     "data": {
      "text/plain": [
       "<langgraph.graph.state.StateGraph at 0x18f6cef01a0>"
      ]
     },
     "execution_count": 25,
     "metadata": {},
     "output_type": "execute_result"
    }
   ],
   "source": [
    "builder.add_edge(\"planner\", \"research_plan\")\n",
    "builder.add_edge(\"research_plan\", \"generate\")\n",
    "\n",
    "builder.add_edge(\"reflect\", \"research_critique\")\n",
    "builder.add_edge(\"research_critique\", \"generate\")"
   ]
  },
  {
   "cell_type": "code",
   "execution_count": null,
   "id": "728df38e",
   "metadata": {},
   "outputs": [],
   "source": [
    "#import pygraphviz\n",
    "#from graphviz import Digraph\n",
    "#from IPython.display import Image\n",
    "\n",
    "#Image(graph.get_graph().draw_png())"
   ]
  },
  {
   "cell_type": "markdown",
   "id": "bd1ebf5f",
   "metadata": {},
   "source": [
    "Since not able to import pygraphviz, let's try an alternative method to get the graph"
   ]
  },
  {
   "cell_type": "markdown",
   "id": "c3585899",
   "metadata": {},
   "source": [
    "- Method 1 "
   ]
  },
  {
   "cell_type": "code",
   "execution_count": 26,
   "id": "27cde654-64e2-48bc-80a9-0ed668ccb7dc",
   "metadata": {},
   "outputs": [],
   "source": [
    "graph = builder.compile(checkpointer=memory)"
   ]
  },
  {
   "cell_type": "code",
   "execution_count": 27,
   "id": "2d860f7b",
   "metadata": {},
   "outputs": [
    {
     "name": "stdout",
     "output_type": "stream",
     "text": [
      "Graph(nodes={'__start__': Node(id='__start__', name='__start__', data=<class 'langchain_core.utils.pydantic.LangGraphInput'>, metadata=None), 'planner': Node(id='planner', name='planner', data=planner(tags=None, recurse=True, explode_args=False, func_accepts_config=False, func_accepts={'writer': False, 'store': False, 'previous': False}), metadata=None), 'generate': Node(id='generate', name='generate', data=generate(tags=None, recurse=True, explode_args=False, func_accepts_config=False, func_accepts={'writer': False, 'store': False, 'previous': False}), metadata=None), 'reflect': Node(id='reflect', name='reflect', data=reflect(tags=None, recurse=True, explode_args=False, func_accepts_config=False, func_accepts={'writer': False, 'store': False, 'previous': False}), metadata=None), 'research_plan': Node(id='research_plan', name='research_plan', data=research_plan(tags=None, recurse=True, explode_args=False, func_accepts_config=False, func_accepts={'writer': False, 'store': False, 'previous': False}), metadata=None), 'research_critique': Node(id='research_critique', name='research_critique', data=research_critique(tags=None, recurse=True, explode_args=False, func_accepts_config=False, func_accepts={'writer': False, 'store': False, 'previous': False}), metadata=None), '__end__': Node(id='__end__', name='__end__', data=<class 'langchain_core.utils.pydantic.LangGraphOutput'>, metadata=None)}, edges=[Edge(source='__start__', target='planner', data=None, conditional=False), Edge(source='planner', target='research_plan', data=None, conditional=False), Edge(source='reflect', target='research_critique', data=None, conditional=False), Edge(source='research_critique', target='generate', data=None, conditional=False), Edge(source='research_plan', target='generate', data=None, conditional=False), Edge(source='generate', target='__end__', data=None, conditional=True), Edge(source='generate', target='reflect', data=None, conditional=True)])\n"
     ]
    }
   ],
   "source": [
    "graph_structure = graph.get_graph()\n",
    "print(graph_structure)\n"
   ]
  },
  {
   "cell_type": "code",
   "execution_count": 28,
   "id": "1aa15e4a",
   "metadata": {},
   "outputs": [
    {
     "data": {
      "image/png": "[encoded data removed]",
      "text/plain": [
       "<Figure size 800x600 with 1 Axes>"
      ]
     },
     "metadata": {},
     "output_type": "display_data"
    }
   ],
   "source": [
    "import networkx as nx\n",
    "import matplotlib.pyplot as plt\n",
    "\n",
    "# Get the LangGraph structure\n",
    "graph_structure = graph.get_graph()\n",
    "\n",
    "# Create a directed graph\n",
    "nx_graph = nx.DiGraph()\n",
    "\n",
    "# Add nodes from the 'nodes' dictionary\n",
    "for node_id in graph_structure.nodes.keys():\n",
    "    nx_graph.add_node(node_id)\n",
    "\n",
    "# Add edges from the 'edges' list\n",
    "for edge in graph_structure.edges:\n",
    "    nx_graph.add_edge(edge.source, edge.target)\n",
    "\n",
    "# Draw the graph\n",
    "plt.figure(figsize=(8, 6))\n",
    "nx.draw(nx_graph, with_labels=True, node_color=\"lightblue\", edge_color=\"gray\", node_size=2000, font_size=10)\n",
    "plt.show()\n"
   ]
  },
  {
   "cell_type": "markdown",
   "id": "f6b0e63b",
   "metadata": {},
   "source": [
    "- Method 2 "
   ]
  },
  {
   "cell_type": "code",
   "execution_count": 29,
   "id": "57fc4512",
   "metadata": {},
   "outputs": [
    {
     "data": {
      "image/png": "[encoded data removed]",
      "text/plain": [
       "<IPython.core.display.Image object>"
      ]
     },
     "metadata": {},
     "output_type": "display_data"
    }
   ],
   "source": [
    "from graphviz import Digraph\n",
    "from IPython.display import Image, display\n",
    "\n",
    "# Create a new Digraph\n",
    "diagram = Digraph(format=\"png\")\n",
    "diagram.attr(rankdir=\"LR\")\n",
    "# Define nodes\n",
    "diagram.attr(\"node\", shape=\"ellipse\", style=\"filled\", color=\"lightblue\")\n",
    "diagram.node(\"__start__\")\n",
    "\n",
    "diagram.attr(\"node\", shape=\"ellipse\", style=\"filled\", color=\"yellow\")\n",
    "diagram.node(\"planner\")\n",
    "diagram.node(\"research_plan\")\n",
    "diagram.node(\"generate\")\n",
    "diagram.node(\"reflect\")\n",
    "diagram.node(\"research_critique\")\n",
    "\n",
    "diagram.attr(\"node\", shape=\"ellipse\", style=\"filled\", color=\"orange\")\n",
    "diagram.node(\"__end__\")\n",
    "\n",
    "# Define edges\n",
    "diagram.edge(\"__start__\", \"planner\")\n",
    "diagram.edge(\"planner\", \"research_plan\")\n",
    "diagram.edge(\"research_plan\", \"generate\")\n",
    "diagram.edge(\"generate\", \"reflect\", style=\"dotted\")\n",
    "diagram.edge(\"reflect\", \"research_critique\")\n",
    "diagram.edge(\"research_critique\", \"generate\")\n",
    "diagram.edge(\"generate\", \"__end__\", style=\"dotted\")\n",
    "\n",
    "\n",
    "# Render the diagram to a file\n",
    "diagram.render(\"state_diagram\", format=\"png\", cleanup=True)\n",
    "\n",
    "# Display the rendered diagram in the notebook\n",
    "display(Image(\"state_diagram.png\"))"
   ]
  },
  {
   "cell_type": "markdown",
   "id": "be875e6c",
   "metadata": {},
   "source": [
    "**Explanation graph** The above graph  represents the `workflow and decision-making process of the essay writer agent`. Here's a short description of the graph:  \n",
    "\n",
    "- _Start Node (start)_: This is the entry point of the graph.  \n",
    "- _Planner Node (planner)_: This node generates a high-level outline of the essay based on the user's task.  \n",
    "- _Research Plan Node (research_plan)_: This node generates a list of search queries to gather relevant information for the essay.  \n",
    "- _Generate Node (generate)_: This node generates the essay draft using the initial outline and gathered content.  \n",
    "- _Reflect Node (reflect)_: This node provides critique and recommendations for improving the essay draft.  \n",
    "- _Research Critique Node (research_critique)_: This node generates additional search queries to gather information for the requested revisions.  \n",
    "- _End Node (end)_: This is the termination point of the graph.  \n",
    "- _Conditional Edges_: These edges determine whether the process should continue with further revisions or terminate. If the revision number exceeds the maximum allowed revisions, the process ends.  \n",
    "\n",
    "The graph visually represents the flow of nodes, starting from the initial planning to generating the draft, reflecting on it, and making revisions based on research, ultimately leading to the conclusion of the process."
   ]
  },
  {
   "cell_type": "markdown",
   "id": "4d1664b5-75e0-46b7-9c2b-4ac9171f4597",
   "metadata": {},
   "source": [
    "## Essay Writer Interface"
   ]
  },
  {
   "cell_type": "markdown",
   "id": "c2046d69",
   "metadata": {},
   "source": [
    "Here ww will set up an interactive user interface for the essay writer. This interface is created using the `ewriter` and `writer_gui functions` imported from the `helper module`. The interface runs a local server, providing a web-based GUI where users can interact with the essay writing agent. It allows users to input tasks, generate essay drafts, and receive feedback and revisions in an iterative manner. The interface is accessible via a local URL and can be shared publicly if needed."
   ]
  },
  {
   "cell_type": "code",
   "execution_count": 31,
   "id": "c36723ae",
   "metadata": {},
   "outputs": [
    {
     "name": "stdout",
     "output_type": "stream",
     "text": [
      "* Running on local URL:  http://127.0.0.1:7861\n",
      "\n",
      "To create a public link, set `share=True` in `launch()`.\n"
     ]
    },
    {
     "data": {
      "text/html": [
       "<div><iframe src=\"http://127.0.0.1:7861/\" width=\"100%\" height=\"500\" allow=\"autoplay; camera; microphone; clipboard-read; clipboard-write;\" frameborder=\"0\" allowfullscreen></iframe></div>"
      ],
      "text/plain": [
       "<IPython.core.display.HTML object>"
      ]
     },
     "metadata": {},
     "output_type": "display_data"
    }
   ],
   "source": [
    "import warnings\n",
    "warnings.filterwarnings(\"ignore\", message=\".*TqdmWarning.*\")\n",
    "from dotenv import load_dotenv\n",
    "\n",
    "_ = load_dotenv()\n",
    "\n",
    "from langgraph.graph import StateGraph, END\n",
    "from typing import TypedDict, Annotated, List\n",
    "import operator\n",
    "from langchain_core.messages import SystemMessage, HumanMessage\n",
    "from langchain_openai import ChatOpenAI\n",
    "from pydantic import BaseModel\n",
    "from tavily import TavilyClient\n",
    "import os\n",
    "import gradio as gr\n",
    "\n",
    "class AgentState(TypedDict):\n",
    "    task: str\n",
    "    lnode: str\n",
    "    plan: str\n",
    "    research_queries: List[str]\n",
    "    draft: str\n",
    "    critique: str\n",
    "    content: List[str]\n",
    "    revision_number: int\n",
    "    max_revisions: int\n",
    "    count: Annotated[int, operator.add]\n",
    "\n",
    "class Queries(BaseModel):\n",
    "    queries: List[str]\n",
    "\n",
    "class Ewriter():\n",
    "    def __init__(self):\n",
    "        self.model = ChatOpenAI(model=\"gpt-3.5-turbo\", temperature=0)\n",
    "        self.PLAN_PROMPT = \"You are an expert writer tasked with writing a high-level outline of a short 3-paragraph essay.\"\n",
    "        self.RESEARCH_PROMPT = \"Generate three research queries to help in writing an essay on the given topic.\"\n",
    "        self.WRITER_PROMPT = \"You are an essay assistant tasked with writing an excellent 3-paragraph essay.\"\n",
    "        self.REFLECTION_PROMPT = \"You are a teacher grading an essay. Provide critique and suggestions.\"\n",
    "        self.tavily = TavilyClient(api_key=os.environ[\"TAVILY_API_KEY\"])\n",
    "        \n",
    "        builder = StateGraph(AgentState)\n",
    "        builder.add_node(\"planner\", self.plan_node)\n",
    "        builder.add_node(\"research\", self.research_node)\n",
    "        builder.add_node(\"generate\", self.generation_node)\n",
    "        builder.add_node(\"reflect\", self.reflection_node)\n",
    "        builder.set_entry_point(\"planner\")\n",
    "        builder.add_edge(\"planner\", \"research\")\n",
    "        builder.add_edge(\"research\", \"generate\")\n",
    "        builder.add_edge(\"generate\", \"reflect\")\n",
    "        builder.add_edge(\"reflect\", END)\n",
    "        \n",
    "        self.graph = builder.compile()\n",
    "\n",
    "    def plan_node(self, state: AgentState):\n",
    "        try:\n",
    "            response = self.model.invoke([SystemMessage(content=self.PLAN_PROMPT), HumanMessage(content=state['task'])])\n",
    "            return {\"plan\": response.content, \"lnode\": \"planner\", \"count\": 1}\n",
    "        except Exception as e:\n",
    "            return {\"plan\": f\"Error occurred in planning: {str(e)}\", \"lnode\": \"planner\", \"count\": 0}\n",
    "\n",
    "    def research_node(self, state: AgentState):\n",
    "        try:\n",
    "            response = self.model.invoke([SystemMessage(content=self.RESEARCH_PROMPT), HumanMessage(content=state['task'])])\n",
    "            return {\"research_queries\": response.content.split('\\n'), \"lnode\": \"research\", \"count\": 1}\n",
    "        except Exception as e:\n",
    "            return {\"research_queries\": f\"Error occurred in research: {str(e)}\", \"lnode\": \"research\", \"count\": 0}\n",
    "\n",
    "    def generation_node(self, state: AgentState):\n",
    "        try:\n",
    "            response = self.model.invoke([SystemMessage(content=self.WRITER_PROMPT), HumanMessage(content=state['task'])])\n",
    "            return {\"draft\": response.content, \"lnode\": \"generate\", \"count\": 1}\n",
    "        except Exception as e:\n",
    "            return {\"draft\": f\"Error occurred in generation: {str(e)}\", \"lnode\": \"generate\", \"count\": 0}\n",
    "    \n",
    "    def reflection_node(self, state: AgentState):\n",
    "        try:\n",
    "            response = self.model.invoke([SystemMessage(content=self.REFLECTION_PROMPT), HumanMessage(content=state['draft'])])\n",
    "            return {\"critique\": response.content, \"lnode\": \"reflect\", \"count\": 1}\n",
    "        except Exception as e:\n",
    "            return {\"critique\": f\"Error occurred in reflection: {str(e)}\", \"lnode\": \"reflect\", \"count\": 0}\n",
    "\n",
    "class WriterGui():\n",
    "    def __init__(self, graph):\n",
    "        self.graph = graph\n",
    "        self.demo = self.create_interface()\n",
    "    \n",
    "    def run_agent(self, topic, revision_number, max_revisions):\n",
    "        config = {'task': topic, 'max_revisions': max_revisions, 'revision_number': revision_number, 'lnode': \"\", 'count': 0}\n",
    "        response = self.graph.invoke(config)\n",
    "        return response[\"draft\"], response[\"lnode\"], response[\"count\"], response.get(\"critique\", \"\"), response.get(\"research_queries\", [])\n",
    "\n",
    "    def continue_agent(self, topic, revision_number, max_revisions, last_node, current_draft):\n",
    "        config = {'task': topic, 'max_revisions': max_revisions, 'revision_number': revision_number, 'lnode': last_node, 'draft': current_draft, 'count': 0}\n",
    "        response = self.graph.invoke(config)\n",
    "        return response[\"draft\"], response[\"lnode\"], response[\"count\"], response.get(\"critique\", \"\"), response.get(\"research_queries\", [])\n",
    "    \n",
    "    def create_interface(self):\n",
    "        with gr.Blocks() as demo:\n",
    "            with gr.Tabs():\n",
    "                with gr.Tab(\"Agent\"):\n",
    "                    topic_input = gr.Textbox(label=\"Essay Topic\")\n",
    "                    last_node = gr.Textbox(label=\"Last Node\", interactive=False)\n",
    "                    next_node = gr.Textbox(label=\"Next Node\", interactive=False)\n",
    "                    thread = gr.Textbox(label=\"Thread\", interactive=False)\n",
    "                    draft_rev = gr.Textbox(label=\"Draft Revision\", interactive=False)\n",
    "                    count = gr.Textbox(label=\"Count\", interactive=False)\n",
    "                    generate_button = gr.Button(\"Generate Essay\", variant=\"primary\")\n",
    "                    continue_button = gr.Button(\"Continue Essay\")\n",
    "                    \n",
    "                    with gr.Row():\n",
    "                        gr.Markdown(\"**Manage Agent**\")\n",
    "                    with gr.Row():\n",
    "                        output_text = gr.Textbox(label=\"Live Agent Output\", interactive=False)\n",
    "                    with gr.Row():\n",
    "                        critique_text = gr.Textbox(label=\"Critique\", interactive=False)\n",
    "                    with gr.Row():\n",
    "                        research_text = gr.Textbox(label=\"Research Queries\", interactive=False)\n",
    "                    \n",
    "                    generate_button.click(fn=self.run_agent, inputs=[topic_input, gr.State(0), gr.State(2)], outputs=[output_text, last_node, next_node, critique_text, research_text])\n",
    "                    continue_button.click(fn=self.continue_agent, inputs=[topic_input, gr.State(0), gr.State(2), last_node, draft_rev], outputs=[output_text, last_node, next_node, critique_text, research_text])\n",
    "            \n",
    "        return demo\n",
    "\n",
    "    def launch(self):\n",
    "        self.demo.launch()  # Removed share=True to prevent tunnel issue\n",
    "\n",
    "MultiAgent = Ewriter()\n",
    "app = WriterGui(MultiAgent.graph)\n",
    "app.launch()\n"
   ]
  },
  {
   "cell_type": "markdown",
   "id": "4baae64e",
   "metadata": {},
   "source": [
    "## Conclusion\n",
    "\n",
    "This notebook successfully demonstrates the integration of various language processing tools and models to create an iterative essay writing assistant. The structured approach, along with detailed comments and code optimization, ensures better readability and maintainability for future improvements."
   ]
  },
  {
   "cell_type": "code",
   "execution_count": null,
   "id": "592b5e62-a203-433c-92a0-3783f490cde1",
   "metadata": {},
   "outputs": [],
   "source": []
  },
  {
   "cell_type": "code",
   "execution_count": null,
   "id": "14fa923c-7e4f-42d1-965f-0f8ccd50fbd7",
   "metadata": {},
   "outputs": [],
   "source": []
  },
  {
   "cell_type": "code",
   "execution_count": null,
   "id": "570c6245-2837-4ac5-983b-95f61f3ac10d",
   "metadata": {},
   "outputs": [],
   "source": []
  },
  {
   "cell_type": "code",
   "execution_count": null,
   "id": "6b910915-b087-4d35-afff-0ec30a5852f1",
   "metadata": {},
   "outputs": [],
   "source": []
  },
  {
   "cell_type": "code",
   "execution_count": null,
   "id": "c4feb6cc-5129-4a99-bb45-851bc07b5709",
   "metadata": {},
   "outputs": [],
   "source": []
  },
  {
   "cell_type": "code",
   "execution_count": null,
   "id": "e85a02b4-96cc-4b01-8792-397a774eb499",
   "metadata": {},
   "outputs": [],
   "source": []
  },
  {
   "cell_type": "code",
   "execution_count": null,
   "id": "ae8b86a6-5e20-4252-b1d8-009b8318345a",
   "metadata": {},
   "outputs": [],
   "source": []
  },
  {
   "cell_type": "code",
   "execution_count": null,
   "id": "af925917-b746-48c9-ac74-62fefbe5246c",
   "metadata": {},
   "outputs": [],
   "source": []
  },
  {
   "cell_type": "code",
   "execution_count": null,
   "id": "d5048f2c-4d82-49a5-9cb1-918d78b39f7b",
   "metadata": {},
   "outputs": [],
   "source": []
  },
  {
   "cell_type": "code",
   "execution_count": null,
   "id": "393f7f1f-68b4-4462-bfa5-b6472ef1304a",
   "metadata": {},
   "outputs": [],
   "source": []
  },
  {
   "cell_type": "code",
   "execution_count": null,
   "id": "43ac0aa9-baa7-4b58-889d-2118cc00c6b5",
   "metadata": {},
   "outputs": [],
   "source": []
  },
  {
   "cell_type": "code",
   "execution_count": null,
   "id": "ed6098b9-e2a9-4767-8cb5-346db835c8d2",
   "metadata": {},
   "outputs": [],
   "source": []
  },
  {
   "cell_type": "code",
   "execution_count": null,
   "id": "2d23cf2a-a179-44dc-9ae3-2eddda4b67b4",
   "metadata": {},
   "outputs": [],
   "source": []
  },
  {
   "cell_type": "code",
   "execution_count": null,
   "id": "14a6005b-0221-4f5e-9be0-0580c1d03126",
   "metadata": {},
   "outputs": [],
   "source": []
  },
  {
   "cell_type": "code",
   "execution_count": null,
   "id": "41c1ec12-f1c8-41ae-bb3e-5f28997b9b99",
   "metadata": {},
   "outputs": [],
   "source": []
  },
  {
   "cell_type": "code",
   "execution_count": null,
   "id": "5c8c07d7-be17-4c17-82c5-6fe1db028b8b",
   "metadata": {},
   "outputs": [],
   "source": []
  },
  {
   "cell_type": "code",
   "execution_count": null,
   "id": "04592c8e-1cfe-4b26-93b5-caf1ed1e7d24",
   "metadata": {},
   "outputs": [],
   "source": []
  },
  {
   "cell_type": "code",
   "execution_count": null,
   "id": "6181c4a9-0e71-4f67-b71f-18a225e37202",
   "metadata": {},
   "outputs": [],
   "source": []
  },
  {
   "cell_type": "code",
   "execution_count": null,
   "id": "e1c478a9-7bfe-49e2-8a7d-1536271f45a6",
   "metadata": {},
   "outputs": [],
   "source": []
  },
  {
   "cell_type": "code",
   "execution_count": null,
   "id": "0a6d6771-3fad-4f37-9b32-45b36ad85c59",
   "metadata": {},
   "outputs": [],
   "source": []
  },
  {
   "cell_type": "code",
   "execution_count": null,
   "id": "a3629eb3-655d-467a-b413-63f547c2de08",
   "metadata": {},
   "outputs": [],
   "source": []
  },
  {
   "cell_type": "code",
   "execution_count": null,
   "id": "f772f251-2b61-4d10-97c5-61cef9207a76",
   "metadata": {},
   "outputs": [],
   "source": []
  },
  {
   "cell_type": "code",
   "execution_count": null,
   "id": "0de92979-7ac5-4a7c-91c1-10806b7d529c",
   "metadata": {},
   "outputs": [],
   "source": []
  },
  {
   "cell_type": "code",
   "execution_count": null,
   "id": "479c4325-f625-4bbf-9d74-cc58f10763f2",
   "metadata": {},
   "outputs": [],
   "source": []
  },
  {
   "cell_type": "code",
   "execution_count": null,
   "id": "c4070be7-72da-42f9-a25d-8a6c628788b8",
   "metadata": {},
   "outputs": [],
   "source": []
  },
  {
   "cell_type": "code",
   "execution_count": null,
   "id": "9289efbe-7033-4f32-8482-2039c5f9db90",
   "metadata": {},
   "outputs": [],
   "source": []
  },
  {
   "cell_type": "code",
   "execution_count": null,
   "id": "25e480bb-22ab-4acb-a42c-71da3d04a5b1",
   "metadata": {},
   "outputs": [],
   "source": []
  },
  {
   "cell_type": "code",
   "execution_count": null,
   "id": "90dea35c-7483-4b3d-b5e3-76eb3a0fe536",
   "metadata": {},
   "outputs": [],
   "source": []
  },
  {
   "cell_type": "code",
   "execution_count": null,
   "id": "e9ac5730-a9d5-4ea4-8546-ebcb265cf1da",
   "metadata": {},
   "outputs": [],
   "source": []
  },
  {
   "cell_type": "code",
   "execution_count": null,
   "id": "96e1f28b-46d8-4bcd-b2e4-730376ee7ccf",
   "metadata": {},
   "outputs": [],
   "source": []
  },
  {
   "cell_type": "code",
   "execution_count": null,
   "id": "22ac7020-b4f4-4bd2-a875-ccee93f83d83",
   "metadata": {},
   "outputs": [],
   "source": []
  },
  {
   "cell_type": "code",
   "execution_count": null,
   "id": "61f79eb9-d1c9-44b0-9efd-a8f9b380332a",
   "metadata": {},
   "outputs": [],
   "source": []
  },
  {
   "cell_type": "code",
   "execution_count": null,
   "id": "ce509206-bde1-43e4-a88f-8a565539d357",
   "metadata": {},
   "outputs": [],
   "source": []
  },
  {
   "cell_type": "code",
   "execution_count": null,
   "id": "bdba1590-9e7b-4c0f-9492-81a07d286c55",
   "metadata": {},
   "outputs": [],
   "source": []
  },
  {
   "cell_type": "code",
   "execution_count": null,
   "id": "aa8fe4a8-5372-479d-b248-af7a295c86c1",
   "metadata": {},
   "outputs": [],
   "source": []
  },
  {
   "cell_type": "code",
   "execution_count": null,
   "id": "7514720a-14bc-4552-ade5-fa03f86f4c73",
   "metadata": {},
   "outputs": [],
   "source": []
  }
 ],
 "metadata": {
  "kernelspec": {
   "display_name": "Python 3",
   "language": "python",
   "name": "python3"
  },
  "language_info": {
   "codemirror_mode": {
    "name": "ipython",
    "version": 3
   },
   "file_extension": ".py",
   "mimetype": "text/x-python",
   "name": "python",
   "nbconvert_exporter": "python",
   "pygments_lexer": "ipython3",
   "version": "3.12.2"
  }
 },
 "nbformat": 4,
 "nbformat_minor": 5
}
