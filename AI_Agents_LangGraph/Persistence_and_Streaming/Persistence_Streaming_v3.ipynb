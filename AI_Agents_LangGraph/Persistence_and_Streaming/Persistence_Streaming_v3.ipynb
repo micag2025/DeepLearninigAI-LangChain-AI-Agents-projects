{
 "cells": [
  {
   "cell_type": "markdown",
   "id": "b5789bc3-b1ae-42c7-94a8-2ef4f89946fc",
   "metadata": {},
   "source": [
    "# Persistence and Streaming 🌐"
   ]
  },
  {
   "cell_type": "markdown",
   "id": "e387aa81",
   "metadata": {},
   "source": [
    "## Introduction\n",
    "This notebook demonstrates the `integration of LangChain's persistence and streaming capabilities` using various tools and APIs. The aim is to build an agent that can fetch data, process it, and manage state efficiently."
   ]
  },
  {
   "cell_type": "markdown",
   "id": "109e05c1",
   "metadata": {},
   "source": [
    "## Persistence and Streaming\n",
    "Persistence and streaming are crucial concepts in the realm of AI and data management. `Persistence` refers to the ability of a system to retain data across sessions and restarts, ensuring that important information is not lost and can be accessed whenever needed. This is typically achieved using databases or file systems. `Streaming`, on the other hand, involves the continuous processing of data as it arrives in real-time, allowing for immediate analysis and response. This is particularly useful in applications such as real-time monitoring, live data feeds, and interactive AI agents. By combining persistence and streaming, systems can offer robust data handling capabilities, ensuring data integrity and providing timely insights."
   ]
  },
  {
   "cell_type": "markdown",
   "id": "6c682ae7",
   "metadata": {},
   "source": [
    "## Persistence"
   ]
  },
  {
   "cell_type": "markdown",
   "id": "972acb8f",
   "metadata": {},
   "source": [
    "### Import Required Libraries"
   ]
  },
  {
   "cell_type": "code",
   "execution_count": 1,
   "id": "c907215d",
   "metadata": {},
   "outputs": [],
   "source": [
    "# Import necessary modules from the langchain library\n",
    "from langchain_core.messages import AnyMessage, SystemMessage, HumanMessage, ToolMessage\n",
    "from langchain.chat_models import ChatOpenAI  # Correct import\n",
    "from langchain_community.tools.tavily_search import TavilySearchResults"
   ]
  },
  {
   "cell_type": "code",
   "execution_count": 2,
   "id": "781d371c",
   "metadata": {},
   "outputs": [],
   "source": [
    "# Import additional required libraries\n",
    "from langgraph.graph import StateGraph, END\n",
    "from typing import TypedDict, Annotated\n",
    "import operator"
   ]
  },
  {
   "cell_type": "markdown",
   "id": "59a3a75c",
   "metadata": {},
   "source": [
    "### Load Environment Variables\n",
    "Load the environment variables from a .env file to access the OpenAI API key."
   ]
  },
  {
   "cell_type": "code",
   "execution_count": null,
   "id": "1bbab7b8",
   "metadata": {},
   "outputs": [
    {
     "name": "stdout",
     "output_type": "stream",
     "text": [
      "TAVILY_API_KEY: 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\n"
     ]
    }
   ],
   "source": [
    "# Import the required libraries\n",
    "from dotenv import load_dotenv\n",
    "import os\n",
    "\n",
    "# Load environment variables\n",
    "load_dotenv()\n",
    "\n",
    "# Print the API key to verify it is loaded correctly\n",
    "#print(f\"TAVILY_API_KEY: {os.getenv('TAVILY_API_KEY')}\")\n",
    "\n",
    "# Print the Tavily API key (masked)\n",
    "print(f\"TAVILY_API_KEY: {os.getenv('TAVILY_API_KEY')[:5]}*****\")"
   ]
  },
  {
   "cell_type": "markdown",
   "id": "be8a0434",
   "metadata": {},
   "source": [
    "### Initialize Tavily Search Tool"
   ]
  },
  {
   "cell_type": "code",
   "execution_count": 4,
   "id": "da06a64f-a2d5-4a66-8090-9ada0930c684",
   "metadata": {
    "height": 30
   },
   "outputs": [],
   "source": [
    "# Initialize Tavily search tool\n",
    "tool = TavilySearchResults(max_results=2)"
   ]
  },
  {
   "cell_type": "markdown",
   "id": "12e8e4a0",
   "metadata": {},
   "source": [
    "### Define Agent State"
   ]
  },
  {
   "cell_type": "code",
   "execution_count": 5,
   "id": "2589c5b6-6cc2-4594-9a17-dccdcf676054",
   "metadata": {
    "height": 47
   },
   "outputs": [],
   "source": [
    "# Define the agent state\n",
    "class AgentState(TypedDict):\n",
    "    messages: Annotated[list[AnyMessage], operator.add]"
   ]
  },
  {
   "cell_type": "markdown",
   "id": "867cba8e",
   "metadata": {},
   "source": [
    "### Installing Required Package\n",
    "Ensure the required package is installed for saving checkpoints.\n",
    "\n",
    "```py\n",
    "pip install langgraph-checkpoint-sqlite\n",
    "```\n",
    "\n",
    "More info on [langgraph-checkpoint-sqlite](https://pypi.org/project/langgraph-checkpoint-sqlite/#files)"
   ]
  },
  {
   "cell_type": "code",
   "execution_count": 6,
   "id": "9c033522-d2fc-41ac-8e3c-5e35872bf88d",
   "metadata": {
    "height": 64
   },
   "outputs": [],
   "source": [
    "# Original code \n",
    "from langgraph.checkpoint.sqlite import SqliteSaver\n",
    "memory = SqliteSaver.from_conn_string(\":memory:\")"
   ]
  },
  {
   "cell_type": "markdown",
   "id": "95dab604",
   "metadata": {},
   "source": [
    "### Define the Agent Class"
   ]
  },
  {
   "cell_type": "code",
   "execution_count": 7,
   "id": "a2ba84ec-c172-4de7-ac55-e3158a531b23",
   "metadata": {
    "height": 574
   },
   "outputs": [],
   "source": [
    "# Define the Agent class\n",
    "class Agent:\n",
    "    def __init__(self, model, tools, checkpointer, system=\"\"):\n",
    "        self.system = system\n",
    "        graph = StateGraph(AgentState)\n",
    "        graph.add_node(\"llm\", self.call_openai)\n",
    "        graph.add_node(\"action\", self.take_action)\n",
    "        graph.add_conditional_edges(\"llm\", self.exists_action, {True: \"action\", False: END})\n",
    "        graph.add_edge(\"action\", \"llm\")\n",
    "        graph.set_entry_point(\"llm\")\n",
    "        self.graph = graph.compile(checkpointer=checkpointer)\n",
    "        self.tools = {t.name: t for t in tools}\n",
    "        self.model = model.bind_tools(tools)\n",
    "\n",
    "    def call_openai(self, state: AgentState):\n",
    "        messages = state['messages']\n",
    "        if self.system:\n",
    "            messages = [SystemMessage(content=self.system)] + messages\n",
    "        message = self.model.invoke(messages)\n",
    "        return {'messages': [message]}\n",
    "\n",
    "    def exists_action(self, state: AgentState):\n",
    "        result = state['messages'][-1]\n",
    "        return len(result.tool_calls) > 0\n",
    "\n",
    "    def take_action(self, state: AgentState):\n",
    "        tool_calls = state['messages'][-1].tool_calls\n",
    "        results = []\n",
    "        for t in tool_calls:\n",
    "            print(f\"Calling: {t}\")\n",
    "            result = self.tools[t['name']].invoke(t['args'])\n",
    "            results.append(ToolMessage(tool_call_id=t['id'], name=t['name'], content=str(result)))\n",
    "        print(\"Back to the model!\")\n",
    "        return {'messages': results}"
   ]
  },
  {
   "cell_type": "markdown",
   "id": "27d84609",
   "metadata": {},
   "source": [
    "### Custom Prompt\n",
    "Define a custom prompt for the LangChain model."
   ]
  },
  {
   "cell_type": "markdown",
   "id": "80eba0d3",
   "metadata": {},
   "source": [
    "Let's include the original custom prompt within LangChain’s \n",
    "````py\n",
    "prompt = \"\"\"You are a smart research assistant. Use the search engine to look up information. \\\n",
    "You are allowed to make multiple calls (either together or in sequence). \\\n",
    "Only look up information when you are sure of what you want. \\\n",
    "If you need to look up some information before asking a follow up question, you are allowed to do that!\n",
    "\"\"\"\n",
    "\n",
    "model = ChatOpenAI(model=\"gpt-3.5-turbo\")  #reduce inference cost\n",
    "abot = Agent(model, [tool], system=prompt)\n",
    "````"
   ]
  },
  {
   "cell_type": "markdown",
   "id": "b31eec9e",
   "metadata": {},
   "source": [
    "#### Example Query 1 "
   ]
  },
  {
   "cell_type": "code",
   "execution_count": 9,
   "id": "10084a02-2928-4945-9f7c-ad3f5b33caf7",
   "metadata": {
    "height": 30
   },
   "outputs": [],
   "source": [
    "#messages = [HumanMessage(content=\"What is the weather in sf?\")]\n",
    "#thread = {\"configurable\": {\"thread_id\": \"1\"}}"
   ]
  },
  {
   "cell_type": "code",
   "execution_count": 9,
   "id": "c7aa77b9",
   "metadata": {},
   "outputs": [
    {
     "name": "stdout",
     "output_type": "stream",
     "text": [
      "The weather in San Francisco is partly cloudy with a temperature of 46.9°F, humidity at 80%, and a wind speed of 5.0 kph from the west.\n",
      "The weather in San Francisco is partly cloudy with a temperature of 46.9°F, humidity at 80%, and a wind speed of 5.0 kph from the west.\n"
     ]
    }
   ],
   "source": [
    "from langchain.chat_models import ChatOpenAI\n",
    "from langchain.agents import initialize_agent, Tool\n",
    "from langchain_community.tools.tavily_search import TavilySearchResults\n",
    "from langchain.schema import HumanMessage\n",
    "\n",
    "# Define the custom prompt\n",
    "prompt = \"\"\"You are a smart research assistant. Use the search engine to look up information.\n",
    "You are allowed to make multiple calls (either together or in sequence).\n",
    "When using a tool, always respond in this exact format:\n",
    "\n",
    "Action: <tool_name>\n",
    "Action Input: <tool_input>\n",
    "\n",
    "For example:\n",
    "Action: TavilySearch\n",
    "Action Input: Find the latest AI news.\n",
    "\n",
    "Only look up information when you are sure of what you want. If you need to look up some information before asking a follow-up question, you are allowed to do that!\n",
    "\"\"\"\n",
    "\n",
    "# Initialize the Tavily search tool\n",
    "tool = TavilySearchResults(max_results=4)\n",
    "\n",
    "# Wrap it as a LangChain Tool\n",
    "search_tool = Tool(\n",
    "    name=\"TavilySearch\",\n",
    "    func=tool.run,\n",
    "    description=\"Search for information using Tavily.\"\n",
    ")\n",
    "\n",
    "# Initialize the language model\n",
    "llm = ChatOpenAI(model_name=\"gpt-3.5-turbo\", temperature=0.7)\n",
    "\n",
    "# Create the agent with the custom prompt\n",
    "agent = initialize_agent(\n",
    "    tools=[search_tool],\n",
    "    llm=llm,\n",
    "    agent=\"zero-shot-react-description\",\n",
    "    system_message=prompt,\n",
    "    handle_parsing_errors=True  # Gracefully handle parsing errors\n",
    ")\n",
    "\n",
    "# Define the messages\n",
    "messages = [HumanMessage(content=\"What is the weather in sf?\")]\n",
    "\n",
    "# Define the thread\n",
    "thread = {\"configurable\": {\"thread_id\": \"1\"}}\n",
    "\n",
    "# Run the agent with a query\n",
    "try:\n",
    "    response = agent.run(messages)\n",
    "    print(response)\n",
    "except ValueError as e:\n",
    "    print(f\"Agent failed to parse output: {e}\")\n",
    "\n",
    "# Since response is a string, you can print it directly\n",
    "print(response)"
   ]
  },
  {
   "cell_type": "code",
   "execution_count": 10,
   "id": "1c1acafc",
   "metadata": {},
   "outputs": [
    {
     "name": "stdout",
     "output_type": "stream",
     "text": [
      "The current weather in San Francisco is partly cloudy with a temperature of 46.9°F.\n",
      "The current weather in San Francisco is partly cloudy with a temperature of 46.9°F.\n"
     ]
    }
   ],
   "source": [
    "from langchain.chat_models import ChatOpenAI\n",
    "from langchain.agents import initialize_agent, Tool\n",
    "from langchain_community.tools.tavily_search import TavilySearchResults\n",
    "from langchain.schema import HumanMessage\n",
    "\n",
    "# Define the custom prompt\n",
    "prompt = \"\"\"You are a smart research assistant. Use the search engine to look up information.\n",
    "You are allowed to make multiple calls (either together or in sequence).\n",
    "When using a tool, always respond in this exact format:\n",
    "\n",
    "Action: <tool_name>\n",
    "Action Input: <tool_input>\n",
    "\n",
    "For example:\n",
    "Action: TavilySearch\n",
    "Action Input: Find the latest AI news.\n",
    "\n",
    "Only look up information when you are sure of what you want. If you need to look up some information before asking a follow-up question, you are allowed to do that!\n",
    "\"\"\"\n",
    "\n",
    "# Initialize the Tavily search tool\n",
    "tool = TavilySearchResults(max_results=4)\n",
    "\n",
    "# Wrap it as a LangChain Tool\n",
    "search_tool = Tool(\n",
    "    name=\"TavilySearch\",\n",
    "    func=tool.run,\n",
    "    description=\"Search for information using Tavily.\"\n",
    ")\n",
    "\n",
    "# Initialize the language model\n",
    "llm = ChatOpenAI(model_name=\"gpt-3.5-turbo\", temperature=0.7)\n",
    "\n",
    "# Create the agent with the custom prompt\n",
    "agent = initialize_agent(\n",
    "    tools=[search_tool],\n",
    "    llm=llm,\n",
    "    agent=\"zero-shot-react-description\",\n",
    "    system_message=prompt,\n",
    "    handle_parsing_errors=True  # Gracefully handle parsing errors\n",
    ")\n",
    "\n",
    "# Define the messages\n",
    "messages = [HumanMessage(content=\"What is the weather in sf?\")]\n",
    "\n",
    "# Define the thread\n",
    "thread = {\"configurable\": {\"thread_id\": \"1\"}}\n",
    "\n",
    "# Run the agent with a query\n",
    "try:\n",
    "    response = agent.run(messages)\n",
    "    print(response)\n",
    "except ValueError as e:\n",
    "    print(f\"Agent failed to parse output: {e}\")\n",
    "\n",
    "# Since response is a string, you can print it directly\n",
    "print(response)"
   ]
  },
  {
   "cell_type": "markdown",
   "id": "36c83306",
   "metadata": {},
   "source": [
    "Taking into consideration the persistence and snippet code \n",
    "```py\n",
    "for event in response.graph.stream({\"messages\": messages}, thread):\n",
    "    for v in event.values():\n",
    "        print(v['messages'])\n",
    "```\n",
    "However the issue is still not solved but in progress "
   ]
  },
  {
   "cell_type": "markdown",
   "id": "3bee65c6",
   "metadata": {},
   "source": [
    "- Method 1 "
   ]
  },
  {
   "cell_type": "code",
   "execution_count": 11,
   "id": "e8671b24",
   "metadata": {},
   "outputs": [
    {
     "name": "stdout",
     "output_type": "stream",
     "text": [
      "The current weather in San Francisco is partly cloudy with a temperature of 46.9°F.\n",
      "Mock message 1\n",
      "Mock message 2\n",
      "Mock message 3\n"
     ]
    }
   ],
   "source": [
    "from langchain.chat_models import ChatOpenAI\n",
    "from langchain.agents import initialize_agent, Tool\n",
    "from langchain_community.tools.tavily_search import TavilySearchResults\n",
    "from langchain.schema import HumanMessage\n",
    "import time\n",
    "\n",
    "# Define the custom prompt\n",
    "prompt = \"\"\"You are a smart research assistant. Use the search engine to look up information.\n",
    "You are allowed to make multiple calls (either together or in sequence).\n",
    "When using a tool, always respond in this exact format:\n",
    "\n",
    "Action: <tool_name>\n",
    "Action Input: <tool_input>\n",
    "\n",
    "For example:\n",
    "Action: TavilySearch\n",
    "Action Input: Find the latest AI news.\n",
    "\n",
    "Only look up information when you are sure of what you want. If you need to look up some information before asking a follow-up question, you are allowed to do that!\n",
    "\"\"\"\n",
    "\n",
    "# Initialize the Tavily search tool\n",
    "tool = TavilySearchResults(max_results=4)\n",
    "\n",
    "# Wrap it as a LangChain Tool\n",
    "search_tool = Tool(\n",
    "    name=\"TavilySearch\",\n",
    "    func=tool.run,\n",
    "    description=\"Search for information using Tavily.\"\n",
    ")\n",
    "\n",
    "# Initialize the language model\n",
    "llm = ChatOpenAI(model_name=\"gpt-3.5-turbo\", temperature=0.7)\n",
    "\n",
    "# Create the agent with the custom prompt\n",
    "agent = initialize_agent(\n",
    "    tools=[search_tool],\n",
    "    llm=llm,\n",
    "    agent=\"zero-shot-react-description\",\n",
    "    system_message=prompt,\n",
    "    handle_parsing_errors=True  # Gracefully handle parsing errors\n",
    ")\n",
    "\n",
    "# Define the messages\n",
    "messages = [HumanMessage(content=\"What is the weather in sf?\")]\n",
    "\n",
    "# Define the thread\n",
    "thread = {\"configurable\": {\"thread_id\": \"1\"}}\n",
    "\n",
    "# Run the agent with a query\n",
    "try:\n",
    "    response = agent.run(messages)\n",
    "    print(response)\n",
    "except ValueError as e:\n",
    "    print(f\"Agent failed to parse output: {e}\")\n",
    "\n",
    "# Mock object for streaming events\n",
    "class MockGraph:\n",
    "    def stream(self, data, thread):\n",
    "        for i in range(3):  # Simulate 3 events\n",
    "            yield {\"event\": {\"values\": [{\"messages\": f\"Mock message {i+1}\"}]}}\n",
    "            time.sleep(1)  # Simulate delay between events\n",
    "\n",
    "class MockStreamingObject:\n",
    "    def __init__(self):\n",
    "        self.graph = MockGraph()\n",
    "\n",
    "# Create an instance of the mock streaming object\n",
    "streaming_object = MockStreamingObject()\n",
    "\n",
    "# Example usage with the mock streaming object\n",
    "for event in streaming_object.graph.stream({\"messages\": messages}, thread):\n",
    "    for v in event[\"event\"][\"values\"]:\n",
    "        print(v['messages'])"
   ]
  },
  {
   "cell_type": "markdown",
   "id": "f15782e1",
   "metadata": {},
   "source": [
    "- Method 2"
   ]
  },
  {
   "cell_type": "code",
   "execution_count": 12,
   "id": "6a3c9a40",
   "metadata": {},
   "outputs": [
    {
     "name": "stdout",
     "output_type": "stream",
     "text": [
      "The current weather in San Francisco is 46.9°F with partly cloudy conditions.\n",
      "Actual message 1\n",
      "Actual message 2\n",
      "Actual message 3\n"
     ]
    }
   ],
   "source": [
    "from langchain.chat_models import ChatOpenAI\n",
    "from langchain.agents import initialize_agent, Tool\n",
    "from langchain_community.tools.tavily_search import TavilySearchResults\n",
    "from langchain.schema import HumanMessage\n",
    "\n",
    "# Define the custom prompt\n",
    "prompt = \"\"\"You are a smart research assistant. Use the search engine to look up information.\n",
    "You are allowed to make multiple calls (either together or in sequence).\n",
    "When using a tool, always respond in this exact format:\n",
    "\n",
    "Action: <tool_name>\n",
    "Action Input: <tool_input>\n",
    "\n",
    "For example:\n",
    "Action: TavilySearch\n",
    "Action Input: Find the latest AI news.\n",
    "\n",
    "Only look up information when you are sure of what you want. If you need to look up some information before asking a follow-up question, you are allowed to do that!\n",
    "\"\"\"\n",
    "\n",
    "# Initialize the Tavily search tool\n",
    "tool = TavilySearchResults(max_results=4)\n",
    "\n",
    "# Wrap it as a LangChain Tool\n",
    "search_tool = Tool(\n",
    "    name=\"TavilySearch\",\n",
    "    func=tool.run,\n",
    "    description=\"Search for information using Tavily.\"\n",
    ")\n",
    "\n",
    "# Initialize the language model\n",
    "llm = ChatOpenAI(model_name=\"gpt-3.5-turbo\", temperature=0.7)\n",
    "\n",
    "# Create the agent with the custom prompt\n",
    "agent = initialize_agent(\n",
    "    tools=[search_tool],\n",
    "    llm=llm,\n",
    "    agent=\"zero-shot-react-description\",\n",
    "    system_message=prompt,\n",
    "    handle_parsing_errors=True  # Gracefully handle parsing errors\n",
    ")\n",
    "\n",
    "# Define the messages\n",
    "messages = [HumanMessage(content=\"What is the weather in sf?\")]\n",
    "\n",
    "# Define the thread\n",
    "thread = {\"configurable\": {\"thread_id\": \"1\"}}\n",
    "\n",
    "# Run the agent with a query\n",
    "try:\n",
    "    response = agent.run(messages)\n",
    "    print(response)\n",
    "except ValueError as e:\n",
    "    print(f\"Agent failed to parse output: {e}\")\n",
    "\n",
    "# Assuming you have a valid object for streaming events\n",
    "class ValidGraph:\n",
    "    def stream(self, data, thread):\n",
    "        # Replace this with actual streaming logic\n",
    "        for i in range(3):  # Simulate 3 events\n",
    "            yield {\"event\": {\"values\": [{\"messages\": f\"Actual message {i+1}\"}]}}\n",
    "            time.sleep(1)  # Simulate delay between events\n",
    "\n",
    "class ValidStreamingObject:\n",
    "    def __init__(self):\n",
    "        self.graph = ValidGraph()\n",
    "\n",
    "# Create an instance of the valid streaming object\n",
    "streaming_object = ValidStreamingObject()\n",
    "\n",
    "# Example usage with the valid streaming object\n",
    "for event in streaming_object.graph.stream({\"messages\": messages}, thread):\n",
    "    for v in event[\"event\"][\"values\"]:\n",
    "        print(v['messages'])"
   ]
  },
  {
   "cell_type": "markdown",
   "id": "c504aec7",
   "metadata": {},
   "source": [
    "#### Example Query 2 "
   ]
  },
  {
   "cell_type": "markdown",
   "id": "98f44411",
   "metadata": {},
   "source": [
    "``` py\n",
    "messages = [HumanMessage(content=\"What about in la?\")]\n",
    "thread = {\"configurable\": {\"thread_id\": \"1\"}}\n",
    "for event in abot.graph.stream({\"messages\": messages}, thread):\n",
    "    for v in event.values():\n",
    "        print(v)\n",
    "```"
   ]
  },
  {
   "cell_type": "code",
   "execution_count": 13,
   "id": "90f9f2cf",
   "metadata": {},
   "outputs": [
    {
     "name": "stdout",
     "output_type": "stream",
     "text": [
      "Los Angeles is a diverse city with a large population and a wide range of attractions, landmarks, and educational institutions.\n",
      "Actual message 1\n",
      "Actual message 2\n",
      "Actual message 3\n"
     ]
    }
   ],
   "source": [
    "# Define the messages\n",
    "messages = [HumanMessage(content=\"What about in la?\")]\n",
    "\n",
    "# Define the thread\n",
    "thread = {\"configurable\": {\"thread_id\": \"1\"}}\n",
    "\n",
    "# Run the agent with a query\n",
    "try:\n",
    "    response = agent.run(messages)\n",
    "    print(response)\n",
    "except ValueError as e:\n",
    "    print(f\"Agent failed to parse output: {e}\")\n",
    "\n",
    "# Assuming you have a valid object for streaming events\n",
    "class ValidGraph:\n",
    "    def stream(self, data, thread):\n",
    "        # Replace this with actual streaming logic\n",
    "        for i in range(3):  # Simulate 3 events\n",
    "            yield {\"event\": {\"values\": [{\"messages\": f\"Actual message {i+1}\"}]}}\n",
    "            time.sleep(1)  # Simulate delay between events\n",
    "\n",
    "class ValidStreamingObject:\n",
    "    def __init__(self):\n",
    "        self.graph = ValidGraph()\n",
    "\n",
    "# Create an instance of the valid streaming object\n",
    "streaming_object = ValidStreamingObject()\n",
    "\n",
    "# Example usage with the valid streaming object\n",
    "for event in streaming_object.graph.stream({\"messages\": messages}, thread):\n",
    "    for v in event[\"event\"][\"values\"]:\n",
    "        print(v['messages'])"
   ]
  },
  {
   "cell_type": "markdown",
   "id": "debfb5bb",
   "metadata": {},
   "source": [
    "#### Example Query 3 "
   ]
  },
  {
   "cell_type": "markdown",
   "id": "c79c6d70",
   "metadata": {},
   "source": [
    "```py\n",
    "messages = [HumanMessage(content=\"Which one is warmer?\")]\n",
    "thread = {\"configurable\": {\"thread_id\": \"1\"}}\n",
    "for event in abot.graph.stream({\"messages\": messages}, thread):\n",
    "    for v in event.values():\n",
    "        print(v)\n",
    "```\n"
   ]
  },
  {
   "cell_type": "code",
   "execution_count": 14,
   "id": "e98884d1",
   "metadata": {},
   "outputs": [
    {
     "name": "stdout",
     "output_type": "stream",
     "text": [
      "The average temperature in Los Angeles ranges from 14.6 °C to 23.8 °C, while in San Francisco it ranges from 10.7 °C to 18.7 °C. Therefore, Los Angeles is generally warmer than San Francisco.\n",
      "Actual message 1\n",
      "Actual message 2\n",
      "Actual message 3\n"
     ]
    }
   ],
   "source": [
    "# Define the messages\n",
    "#messages = [HumanMessage(content=\"Which one is warmer?\")]\n",
    "messages = [HumanMessage(content=\"Which one is warmer la or sf?\")]\n",
    "\n",
    "# Define the thread\n",
    "thread = {\"configurable\": {\"thread_id\": \"1\"}}\n",
    "\n",
    "# Run the agent with a query\n",
    "try:\n",
    "    response = agent.run(messages)\n",
    "    print(response)\n",
    "except ValueError as e:\n",
    "    print(f\"Agent failed to parse output: {e}\")\n",
    "\n",
    "# Assuming you have a valid object for streaming events\n",
    "class ValidGraph:\n",
    "    def stream(self, data, thread):\n",
    "        # Replace this with actual streaming logic\n",
    "        for i in range(3):  # Simulate 3 events\n",
    "            yield {\"event\": {\"values\": [{\"messages\": f\"Actual message {i+1}\"}]}}\n",
    "            time.sleep(1)  # Simulate delay between events\n",
    "\n",
    "class ValidStreamingObject:\n",
    "    def __init__(self):\n",
    "        self.graph = ValidGraph()\n",
    "\n",
    "# Create an instance of the valid streaming object\n",
    "streaming_object = ValidStreamingObject()\n",
    "\n",
    "# Example usage with the valid streaming object\n",
    "for event in streaming_object.graph.stream({\"messages\": messages}, thread):\n",
    "    for v in event[\"event\"][\"values\"]:\n",
    "        print(v['messages'])"
   ]
  },
  {
   "cell_type": "markdown",
   "id": "ace59a36-3941-459e-b9d1-ac5a4a1ed3ae",
   "metadata": {},
   "source": [
    "## Streaming tokens"
   ]
  },
  {
   "cell_type": "markdown",
   "id": "608350eb",
   "metadata": {},
   "source": [
    "**Note** Ensure you have the required packages installed:\n",
    "```py\n",
    "# Install the Package Using pip (Recommended)\n",
    "py -m pip install langgraph-checkpoint-sqlite\n",
    "\n",
    "# Verify Installation To check if the package is installed correctly, run:\n",
    "py -m pip show langgraph-checkpoint-sqlite\n",
    "\n",
    "# other installation method Install the required package\n",
    "%pip install langgraph-checkpoint-sqlite\n",
    "\n",
    "```\n",
    "\n",
    "More info [`Installation`](https://pypi.org/project/langgraph-checkpoint-sqlite/)"
   ]
  },
  {
   "cell_type": "code",
   "execution_count": 15,
   "id": "f501ffb8",
   "metadata": {},
   "outputs": [],
   "source": [
    "from langgraph.checkpoint.sqlite.aio import AsyncSqliteSaver\n",
    "memory = AsyncSqliteSaver.from_conn_string(\":memory:\")\n",
    "#abot = Agent(model, [tool], system=prompt, checkpointer=memory)\n",
    "#messages = [HumanMessage(content=\"What is the weather in SF?\")]\n",
    "#thread = {\"configurable\": {\"thread_id\": \"4\"}}\n",
    "#async for event in abot.graph.astream_events({\"messages\": messages}, thread, version=\"v1\"):\n",
    "    #kind = event[\"event\"]\n",
    "    #if kind == \"on_chat_model_stream\":\n",
    "        #content = event[\"data\"][\"chunk\"].content\n",
    "        #if content:\n",
    "            # Empty content in the context of OpenAI means\n",
    "            # that the model is asking for a tool to be invoked.\n",
    "            # So we only print non-empty content\n",
    "            #print(content, end=\"|\")"
   ]
  },
  {
   "cell_type": "code",
   "execution_count": 16,
   "id": "c470e173",
   "metadata": {},
   "outputs": [
    {
     "name": "stdout",
     "output_type": "stream",
     "text": [
      "The weather in San Francisco today is partly cloudy with a temperature of 46.9°F.\n",
      "The weather in San Francisco today is partly cloudy with a temperature of 46.9°F.\n"
     ]
    }
   ],
   "source": [
    "from langchain.chat_models import ChatOpenAI\n",
    "from langchain.agents import initialize_agent, Tool\n",
    "from langchain_community.tools.tavily_search import TavilySearchResults\n",
    "from langchain.schema import HumanMessage\n",
    "\n",
    "# Define the custom prompt\n",
    "prompt = \"\"\"You are a smart research assistant. Use the search engine to look up information.\n",
    "You are allowed to make multiple calls (either together or in sequence).\n",
    "When using a tool, always respond in this exact format:\n",
    "\n",
    "Action: <tool_name>\n",
    "Action Input: <tool_input>\n",
    "\n",
    "For example:\n",
    "Action: TavilySearch\n",
    "Action Input: Find the latest AI news.\n",
    "\n",
    "Only look up information when you are sure of what you want. If you need to look up some information before asking a follow-up question, you are allowed to do that!\n",
    "\"\"\"\n",
    "\n",
    "# Initialize the Tavily search tool\n",
    "tool = TavilySearchResults(max_results=4)\n",
    "\n",
    "# Wrap it as a LangChain Tool\n",
    "search_tool = Tool(\n",
    "    name=\"TavilySearch\",\n",
    "    func=tool.run,\n",
    "    description=\"Search for information using Tavily.\"\n",
    ")\n",
    "\n",
    "# Initialize the language model\n",
    "llm = ChatOpenAI(model_name=\"gpt-3.5-turbo\", temperature=0.7)\n",
    "\n",
    "# Create the agent with the custom prompt\n",
    "agent = initialize_agent(\n",
    "    tools=[search_tool],\n",
    "    llm=llm,\n",
    "    agent=\"zero-shot-react-description\",\n",
    "    system_message=prompt,\n",
    "    handle_parsing_errors=True  # Gracefully handle parsing errors\n",
    ")\n",
    "\n",
    "# Define the messages\n",
    "messages = [HumanMessage(content=\"What is the weather in sf?\")]\n",
    "\n",
    "# Define the thread\n",
    "thread = {\"configurable\": {\"thread_id\": \"1\"}}\n",
    "\n",
    "# Run the agent with a query\n",
    "try:\n",
    "    response = agent.run(messages)\n",
    "    print(response)\n",
    "except ValueError as e:\n",
    "    print(f\"Agent failed to parse output: {e}\")\n",
    "\n",
    "# Since response is a string, you can print it directly\n",
    "print(response)"
   ]
  },
  {
   "cell_type": "markdown",
   "id": "595060f1",
   "metadata": {},
   "source": [
    " To enable token streaming, we  need to use agent.astream() (async streaming function) instead of agent.run(). Additionally, ChatOpenAI should be initialized with streaming=True. To sum up, to enalbel Token Streaming, thus in oder that the response streams token by token (like OpenAI API's streaming mode), let's consider the above code:"
   ]
  },
  {
   "cell_type": "code",
   "execution_count": null,
   "id": "8ef51c30",
   "metadata": {},
   "outputs": [
    {
     "name": "stdout",
     "output_type": "stream",
     "text": [
      "\n",
      "DEBUG EVENT: {'actions': [AgentAction(tool='tavily_search_results_json', tool_input=\"'current weather in San Francisco'\", log=\"I need to use the Tavily tool to search for the current weather in San Francisco.\\nAction: tavily_search_results_json\\nAction Input: 'current weather in San Francisco'\")], 'messages': [AIMessage(content=\"I need to use the Tavily tool to search for the current weather in San Francisco.\\nAction: tavily_search_results_json\\nAction Input: 'current weather in San Francisco'\", additional_kwargs={}, response_metadata={})]}\n",
      "\n",
      "DEBUG EVENT: {'steps': [AgentStep(action=AgentAction(tool='tavily_search_results_json', tool_input=\"'current weather in San Francisco'\", log=\"I need to use the Tavily tool to search for the current weather in San Francisco.\\nAction: tavily_search_results_json\\nAction Input: 'current weather in San Francisco'\"), observation=[{'url': 'https://www.weatherapi.com/', 'content': \"{'location': {'name': 'San Francisco', 'region': 'California', 'country': 'United States of America', 'lat': 37.775, 'lon': -122.4183, 'tz_id': 'America/Los_Angeles', 'localtime_epoch': 1738139933, 'localtime': '2025-01-29 00:38'}, 'current': {'last_updated_epoch': 1738139400, 'last_updated': '2025-01-29 00:30', 'temp_c': 8.3, 'temp_f': 46.9, 'is_day': 0, 'condition': {'text': 'Partly cloudy', 'icon': '//cdn.weatherapi.com/weather/64x64/night/116.png', 'code': 1003}, 'wind_mph': 3.1, 'wind_kph': 5.0, 'wind_degree': 262, 'wind_dir': 'W', 'pressure_mb': 1019.0, 'pressure_in': 30.09, 'precip_mm': 0.0, 'precip_in': 0.0, 'humidity': 80, 'cloud': 75, 'feelslike_c': 7.8, 'feelslike_f': 46.1, 'windchill_c': 5.3, 'windchill_f': 41.5, 'heatindex_c': 6.4, 'heatindex_f': 43.6, 'dewpoint_c': 6.1, 'dewpoint_f': 42.9, 'vis_km': 16.0, 'vis_miles': 9.0, 'uv': 0.0, 'gust_mph': 5.0, 'gust_kph': 8.1}}\"}, {'url': 'https://weathershogun.com/weather/usa/ca/san-francisco/480/january/2025-01-29', 'content': 'San Francisco, California weather forecast for Wednesday, January 29, 2025. Get the latest on temperature, precipitation, wind speed, and UV. ... °F °C Today Tomorrow Hourly 7 days 30 days January San Francisco, California Weather: Wednesday, January 29, 2025. Cloudy weather, overcast skies with clouds. Day 54'}, {'url': 'https://world-weather.info/forecast/usa/san_francisco/january-2025/', 'content': \"Weather in San Francisco in January 2025 (California) - Detailed Weather Forecast for a Month Weather World Weather in San Francisco Weather in San Francisco in January 2025 San Francisco Weather Forecast for January 2025, is based on previous years' statistical data. +55°+46° +54°+45° +57°+48° +55°+48° +55°+48° +55°+46° +57°+50° +59°+50° +57°+50° +59°+50° +55°+48° +57°+48° +57°+48° +57°+50° +55°+46° +55°+48° +57°+48° +57°+48° +57°+48° +55°+48° +57°+48° +55°+48° +55°+48° +55°+46° +57°+48° +57°+48° +59°+48° +59°+48° +59°+48° +59°+48° +61°+50° Extended weather forecast in San Francisco HourlyWeek10-Day14-Day30-DayYear Weather in Washington, D.C.+30° Sacramento+45° Pleasanton+50° Redwood City+54° San Leandro+54° San Mateo+54° San Rafael+50° San Ramon+48° South San Francisco+55° Vallejo+50° Palo Alto+52° Pacifica+59° Berkeley+48° Castro Valley+54° Concord+48° Daly City+55° Leona Heights+54° Centennial+54° world's temperature today day day Temperature units\"}, {'url': 'https://www.weather25.com/north-america/usa/california/san-francisco?page=month&month=January', 'content': 'San Francisco weather in January 2025 | Weather25.com San Francisco weather in January 2025 | San Francisco in January | Temperatures in San Francisco in January Weather in San Francisco in January - FAQ The average temperature in San Francisco in January is 7/15° C. On average, there are 4 rainy days in San Francisco during January. The weather in San Francisco in January is good. On average, there are 0 snowy days in San Francisco in January. More about the weather in San Francisco San Francisco 14 day weather Long range weather for San Francisco San Francisco weather in November San Francisco weather in December San Francisco Webcam Weather tomorrow Hotels in San Francisco'}])], 'messages': [HumanMessage(content='[{\"url\": \"https://www.weatherapi.com/\", \"content\": \"{\\'location\\': {\\'name\\': \\'San Francisco\\', \\'region\\': \\'California\\', \\'country\\': \\'United States of America\\', \\'lat\\': 37.775, \\'lon\\': -122.4183, \\'tz_id\\': \\'America/Los_Angeles\\', \\'localtime_epoch\\': 1738139933, \\'localtime\\': \\'2025-01-29 00:38\\'}, \\'current\\': {\\'last_updated_epoch\\': 1738139400, \\'last_updated\\': \\'2025-01-29 00:30\\', \\'temp_c\\': 8.3, \\'temp_f\\': 46.9, \\'is_day\\': 0, \\'condition\\': {\\'text\\': \\'Partly cloudy\\', \\'icon\\': \\'//cdn.weatherapi.com/weather/64x64/night/116.png\\', \\'code\\': 1003}, \\'wind_mph\\': 3.1, \\'wind_kph\\': 5.0, \\'wind_degree\\': 262, \\'wind_dir\\': \\'W\\', \\'pressure_mb\\': 1019.0, \\'pressure_in\\': 30.09, \\'precip_mm\\': 0.0, \\'precip_in\\': 0.0, \\'humidity\\': 80, \\'cloud\\': 75, \\'feelslike_c\\': 7.8, \\'feelslike_f\\': 46.1, \\'windchill_c\\': 5.3, \\'windchill_f\\': 41.5, \\'heatindex_c\\': 6.4, \\'heatindex_f\\': 43.6, \\'dewpoint_c\\': 6.1, \\'dewpoint_f\\': 42.9, \\'vis_km\\': 16.0, \\'vis_miles\\': 9.0, \\'uv\\': 0.0, \\'gust_mph\\': 5.0, \\'gust_kph\\': 8.1}}\"}, {\"url\": \"https://weathershogun.com/weather/usa/ca/san-francisco/480/january/2025-01-29\", \"content\": \"San Francisco, California weather forecast for Wednesday, January 29, 2025. Get the latest on temperature, precipitation, wind speed, and UV. ... °F °C Today Tomorrow Hourly 7 days 30 days January San Francisco, California Weather: Wednesday, January 29, 2025. Cloudy weather, overcast skies with clouds. Day 54\"}, {\"url\": \"https://world-weather.info/forecast/usa/san_francisco/january-2025/\", \"content\": \"Weather in San Francisco in January 2025 (California) - Detailed Weather Forecast for a Month Weather World Weather in San Francisco Weather in San Francisco in January 2025 San Francisco Weather Forecast for January 2025, is based on previous years\\' statistical data. +55°+46° +54°+45° +57°+48° +55°+48° +55°+48° +55°+46° +57°+50° +59°+50° +57°+50° +59°+50° +55°+48° +57°+48° +57°+48° +57°+50° +55°+46° +55°+48° +57°+48° +57°+48° +57°+48° +55°+48° +57°+48° +55°+48° +55°+48° +55°+46° +57°+48° +57°+48° +59°+48° +59°+48° +59°+48° +59°+48° +61°+50° Extended weather forecast in San Francisco HourlyWeek10-Day14-Day30-DayYear Weather in Washington, D.C.+30° Sacramento+45° Pleasanton+50° Redwood City+54° San Leandro+54° San Mateo+54° San Rafael+50° San Ramon+48° South San Francisco+55° Vallejo+50° Palo Alto+52° Pacifica+59° Berkeley+48° Castro Valley+54° Concord+48° Daly City+55° Leona Heights+54° Centennial+54° world\\'s temperature today day day Temperature units\"}, {\"url\": \"https://www.weather25.com/north-america/usa/california/san-francisco?page=month&month=January\", \"content\": \"San Francisco weather in January 2025 | Weather25.com San Francisco weather in January 2025 | San Francisco in January | Temperatures in San Francisco in January Weather in San Francisco in January - FAQ The average temperature in San Francisco in January is 7/15° C. On average, there are 4 rainy days in San Francisco during January. The weather in San Francisco in January is good. On average, there are 0 snowy days in San Francisco in January. More about the weather in San Francisco San Francisco 14 day weather Long range weather for San Francisco San Francisco weather in November San Francisco weather in December San Francisco Webcam Weather tomorrow Hotels in San Francisco\"}]', additional_kwargs={}, response_metadata={})]}\n",
      "\n",
      "DEBUG EVENT: {'steps': [AgentStep(action=AgentAction(tool='_Exception', tool_input=\"Invalid Format: Missing 'Action Input:' after 'Action:'\", log='I need to extract the current weather information from the structured JSON results.\\nAction: Extract current weather information'), observation=\"Invalid Format: Missing 'Action Input:' after 'Action:'\")], 'messages': [HumanMessage(content=\"Invalid Format: Missing 'Action Input:' after 'Action:'\", additional_kwargs={}, response_metadata={})]}\n",
      "\n",
      "DEBUG EVENT: {'actions': [AgentAction(tool='Extract current weather information', tool_input='JSON results', log='I need to extract the current weather information from the structured JSON results.\\nAction: Extract current weather information\\nAction Input: JSON results')], 'messages': [AIMessage(content='I need to extract the current weather information from the structured JSON results.\\nAction: Extract current weather information\\nAction Input: JSON results', additional_kwargs={}, response_metadata={})]}\n",
      "\n",
      "DEBUG EVENT: {'steps': [AgentStep(action=AgentAction(tool='Extract current weather information', tool_input='JSON results', log='I need to extract the current weather information from the structured JSON results.\\nAction: Extract current weather information\\nAction Input: JSON results'), observation='Extract current weather information is not a valid tool, try one of [tavily_search_results_json].')], 'messages': [HumanMessage(content='Extract current weather information is not a valid tool, try one of [tavily_search_results_json].', additional_kwargs={}, response_metadata={})]}\n",
      "\n",
      "DEBUG EVENT: {'actions': [AgentAction(tool='tavily_search_results_json', tool_input=\"'current weather in San Francisco'\", log=\"I need to extract the current weather information from the structured JSON results using the Tavily tool.\\nAction: tavily_search_results_json\\nAction Input: 'current weather in San Francisco'\")], 'messages': [AIMessage(content=\"I need to extract the current weather information from the structured JSON results using the Tavily tool.\\nAction: tavily_search_results_json\\nAction Input: 'current weather in San Francisco'\", additional_kwargs={}, response_metadata={})]}\n",
      "\n",
      "DEBUG EVENT: {'steps': [AgentStep(action=AgentAction(tool='tavily_search_results_json', tool_input=\"'current weather in San Francisco'\", log=\"I need to extract the current weather information from the structured JSON results using the Tavily tool.\\nAction: tavily_search_results_json\\nAction Input: 'current weather in San Francisco'\"), observation=[{'url': 'https://www.weatherapi.com/', 'content': \"{'location': {'name': 'San Francisco', 'region': 'California', 'country': 'United States of America', 'lat': 37.775, 'lon': -122.4183, 'tz_id': 'America/Los_Angeles', 'localtime_epoch': 1738139933, 'localtime': '2025-01-29 00:38'}, 'current': {'last_updated_epoch': 1738139400, 'last_updated': '2025-01-29 00:30', 'temp_c': 8.3, 'temp_f': 46.9, 'is_day': 0, 'condition': {'text': 'Partly cloudy', 'icon': '//cdn.weatherapi.com/weather/64x64/night/116.png', 'code': 1003}, 'wind_mph': 3.1, 'wind_kph': 5.0, 'wind_degree': 262, 'wind_dir': 'W', 'pressure_mb': 1019.0, 'pressure_in': 30.09, 'precip_mm': 0.0, 'precip_in': 0.0, 'humidity': 80, 'cloud': 75, 'feelslike_c': 7.8, 'feelslike_f': 46.1, 'windchill_c': 5.3, 'windchill_f': 41.5, 'heatindex_c': 6.4, 'heatindex_f': 43.6, 'dewpoint_c': 6.1, 'dewpoint_f': 42.9, 'vis_km': 16.0, 'vis_miles': 9.0, 'uv': 0.0, 'gust_mph': 5.0, 'gust_kph': 8.1}}\"}, {'url': 'https://weathershogun.com/weather/usa/ca/san-francisco/480/january/2025-01-29', 'content': 'San Francisco, California weather forecast for Wednesday, January 29, 2025. Get the latest on temperature, precipitation, wind speed, and UV. ... °F °C Today Tomorrow Hourly 7 days 30 days January San Francisco, California Weather: Wednesday, January 29, 2025. Cloudy weather, overcast skies with clouds. Day 54'}, {'url': 'https://world-weather.info/forecast/usa/san_francisco/january-2025/', 'content': \"Weather in San Francisco in January 2025 (California) - Detailed Weather Forecast for a Month Weather World Weather in San Francisco Weather in San Francisco in January 2025 San Francisco Weather Forecast for January 2025, is based on previous years' statistical data. +55°+46° +54°+45° +57°+48° +55°+48° +55°+48° +55°+46° +57°+50° +59°+50° +57°+50° +59°+50° +55°+48° +57°+48° +57°+48° +57°+50° +55°+46° +55°+48° +57°+48° +57°+48° +57°+48° +55°+48° +57°+48° +55°+48° +55°+48° +55°+46° +57°+48° +57°+48° +59°+48° +59°+48° +59°+48° +59°+48° +61°+50° Extended weather forecast in San Francisco HourlyWeek10-Day14-Day30-DayYear Weather in Washington, D.C.+30° Sacramento+45° Pleasanton+50° Redwood City+54° San Leandro+54° San Mateo+54° San Rafael+50° San Ramon+48° South San Francisco+55° Vallejo+50° Palo Alto+52° Pacifica+59° Berkeley+48° Castro Valley+54° Concord+48° Daly City+55° Leona Heights+54° Centennial+54° world's temperature today day day Temperature units\"}, {'url': 'https://www.easeweather.com/north-america/united-states/california/city-and-county-of-san-francisco/san-francisco/january', 'content': \"January 2025 Weather - San Francisco Weather in San Francisco for January 2025 Your guide to San Francisco weather in January - trends and predictions In general, the average temperature in San Francisco at the beginning of January is 13\\xa0°F. San Francisco experiences heavy rainfall in January, with over 20 rainy days and an average total precipitation 110.4\\xa0mm. New Year's Day weather in San Francisco 🎉 - See the complete forecast for Monday, January 1. San Francisco in January average weather Temperatures trend during January in San Francisco San Francisco in January - FAQ Explore the daily rainfall trends and prepare for San Franciscos January weather\\xa0💧 Get accurate weather forecasts for San Francisco, located at latitude 37.775 and longitude -122.419.\"}])], 'messages': [HumanMessage(content='[{\"url\": \"https://www.weatherapi.com/\", \"content\": \"{\\'location\\': {\\'name\\': \\'San Francisco\\', \\'region\\': \\'California\\', \\'country\\': \\'United States of America\\', \\'lat\\': 37.775, \\'lon\\': -122.4183, \\'tz_id\\': \\'America/Los_Angeles\\', \\'localtime_epoch\\': 1738139933, \\'localtime\\': \\'2025-01-29 00:38\\'}, \\'current\\': {\\'last_updated_epoch\\': 1738139400, \\'last_updated\\': \\'2025-01-29 00:30\\', \\'temp_c\\': 8.3, \\'temp_f\\': 46.9, \\'is_day\\': 0, \\'condition\\': {\\'text\\': \\'Partly cloudy\\', \\'icon\\': \\'//cdn.weatherapi.com/weather/64x64/night/116.png\\', \\'code\\': 1003}, \\'wind_mph\\': 3.1, \\'wind_kph\\': 5.0, \\'wind_degree\\': 262, \\'wind_dir\\': \\'W\\', \\'pressure_mb\\': 1019.0, \\'pressure_in\\': 30.09, \\'precip_mm\\': 0.0, \\'precip_in\\': 0.0, \\'humidity\\': 80, \\'cloud\\': 75, \\'feelslike_c\\': 7.8, \\'feelslike_f\\': 46.1, \\'windchill_c\\': 5.3, \\'windchill_f\\': 41.5, \\'heatindex_c\\': 6.4, \\'heatindex_f\\': 43.6, \\'dewpoint_c\\': 6.1, \\'dewpoint_f\\': 42.9, \\'vis_km\\': 16.0, \\'vis_miles\\': 9.0, \\'uv\\': 0.0, \\'gust_mph\\': 5.0, \\'gust_kph\\': 8.1}}\"}, {\"url\": \"https://weathershogun.com/weather/usa/ca/san-francisco/480/january/2025-01-29\", \"content\": \"San Francisco, California weather forecast for Wednesday, January 29, 2025. Get the latest on temperature, precipitation, wind speed, and UV. ... °F °C Today Tomorrow Hourly 7 days 30 days January San Francisco, California Weather: Wednesday, January 29, 2025. Cloudy weather, overcast skies with clouds. Day 54\"}, {\"url\": \"https://world-weather.info/forecast/usa/san_francisco/january-2025/\", \"content\": \"Weather in San Francisco in January 2025 (California) - Detailed Weather Forecast for a Month Weather World Weather in San Francisco Weather in San Francisco in January 2025 San Francisco Weather Forecast for January 2025, is based on previous years\\' statistical data. +55°+46° +54°+45° +57°+48° +55°+48° +55°+48° +55°+46° +57°+50° +59°+50° +57°+50° +59°+50° +55°+48° +57°+48° +57°+48° +57°+50° +55°+46° +55°+48° +57°+48° +57°+48° +57°+48° +55°+48° +57°+48° +55°+48° +55°+48° +55°+46° +57°+48° +57°+48° +59°+48° +59°+48° +59°+48° +59°+48° +61°+50° Extended weather forecast in San Francisco HourlyWeek10-Day14-Day30-DayYear Weather in Washington, D.C.+30° Sacramento+45° Pleasanton+50° Redwood City+54° San Leandro+54° San Mateo+54° San Rafael+50° San Ramon+48° South San Francisco+55° Vallejo+50° Palo Alto+52° Pacifica+59° Berkeley+48° Castro Valley+54° Concord+48° Daly City+55° Leona Heights+54° Centennial+54° world\\'s temperature today day day Temperature units\"}, {\"url\": \"https://www.easeweather.com/north-america/united-states/california/city-and-county-of-san-francisco/san-francisco/january\", \"content\": \"January 2025 Weather - San Francisco Weather in San Francisco for January 2025 Your guide to San Francisco weather in January - trends and predictions In general, the average temperature in San Francisco at the beginning of January is 13\\xa0°F. San Francisco experiences heavy rainfall in January, with over 20 rainy days and an average total precipitation 110.4\\xa0mm. New Year\\'s Day weather in San Francisco 🎉 - See the complete forecast for Monday, January 1. San Francisco in January average weather Temperatures trend during January in San Francisco San Francisco in January - FAQ Explore the daily rainfall trends and prepare for San Franciscos January weather\\xa0💧 Get accurate weather forecasts for San Francisco, located at latitude 37.775 and longitude -122.419.\"}]', additional_kwargs={}, response_metadata={})]}\n",
      "\n",
      "DEBUG EVENT: {'actions': [AgentAction(tool='Extract current weather information', tool_input='JSON results', log='I need to extract the current weather information from the structured JSON results.\\nAction: Extract current weather information\\nAction Input: JSON results')], 'messages': [AIMessage(content='I need to extract the current weather information from the structured JSON results.\\nAction: Extract current weather information\\nAction Input: JSON results', additional_kwargs={}, response_metadata={})]}\n",
      "\n",
      "DEBUG EVENT: {'steps': [AgentStep(action=AgentAction(tool='Extract current weather information', tool_input='JSON results', log='I need to extract the current weather information from the structured JSON results.\\nAction: Extract current weather information\\nAction Input: JSON results'), observation='Extract current weather information is not a valid tool, try one of [tavily_search_results_json].')], 'messages': [HumanMessage(content='Extract current weather information is not a valid tool, try one of [tavily_search_results_json].', additional_kwargs={}, response_metadata={})]}\n",
      "\n",
      "DEBUG EVENT: {'actions': [AgentAction(tool='tavily_search_results_json', tool_input=\"'current weather in San Francisco'\", log=\"I need to extract the current weather information from the structured JSON results using the Tavily tool.\\nAction: tavily_search_results_json\\nAction Input: 'current weather in San Francisco'\")], 'messages': [AIMessage(content=\"I need to extract the current weather information from the structured JSON results using the Tavily tool.\\nAction: tavily_search_results_json\\nAction Input: 'current weather in San Francisco'\", additional_kwargs={}, response_metadata={})]}\n",
      "\n",
      "DEBUG EVENT: {'steps': [AgentStep(action=AgentAction(tool='tavily_search_results_json', tool_input=\"'current weather in San Francisco'\", log=\"I need to extract the current weather information from the structured JSON results using the Tavily tool.\\nAction: tavily_search_results_json\\nAction Input: 'current weather in San Francisco'\"), observation=[{'url': 'https://www.weatherapi.com/', 'content': \"{'location': {'name': 'San Francisco', 'region': 'California', 'country': 'United States of America', 'lat': 37.775, 'lon': -122.4183, 'tz_id': 'America/Los_Angeles', 'localtime_epoch': 1738139933, 'localtime': '2025-01-29 00:38'}, 'current': {'last_updated_epoch': 1738139400, 'last_updated': '2025-01-29 00:30', 'temp_c': 8.3, 'temp_f': 46.9, 'is_day': 0, 'condition': {'text': 'Partly cloudy', 'icon': '//cdn.weatherapi.com/weather/64x64/night/116.png', 'code': 1003}, 'wind_mph': 3.1, 'wind_kph': 5.0, 'wind_degree': 262, 'wind_dir': 'W', 'pressure_mb': 1019.0, 'pressure_in': 30.09, 'precip_mm': 0.0, 'precip_in': 0.0, 'humidity': 80, 'cloud': 75, 'feelslike_c': 7.8, 'feelslike_f': 46.1, 'windchill_c': 5.3, 'windchill_f': 41.5, 'heatindex_c': 6.4, 'heatindex_f': 43.6, 'dewpoint_c': 6.1, 'dewpoint_f': 42.9, 'vis_km': 16.0, 'vis_miles': 9.0, 'uv': 0.0, 'gust_mph': 5.0, 'gust_kph': 8.1}}\"}, {'url': 'https://weathershogun.com/weather/usa/ca/san-francisco/480/january/2025-01-29', 'content': 'San Francisco, California weather forecast for Wednesday, January 29, 2025. Get the latest on temperature, precipitation, wind speed, and UV. ... °F °C Today Tomorrow Hourly 7 days 30 days January San Francisco, California Weather: Wednesday, January 29, 2025. Cloudy weather, overcast skies with clouds. Day 54'}, {'url': 'https://world-weather.info/forecast/usa/san_francisco/january-2025/', 'content': \"Weather in San Francisco in January 2025 (California) - Detailed Weather Forecast for a Month Weather World Weather in San Francisco Weather in San Francisco in January 2025 San Francisco Weather Forecast for January 2025, is based on previous years' statistical data. +55°+46° +54°+45° +57°+48° +55°+48° +55°+48° +55°+46° +57°+50° +59°+50° +57°+50° +59°+50° +55°+48° +57°+48° +57°+48° +57°+50° +55°+46° +55°+48° +57°+48° +57°+48° +57°+48° +55°+48° +57°+48° +55°+48° +55°+48° +55°+46° +57°+48° +57°+48° +59°+48° +59°+48° +59°+48° +59°+48° +61°+50° Extended weather forecast in San Francisco HourlyWeek10-Day14-Day30-DayYear Weather in Washington, D.C.+30° Sacramento+45° Pleasanton+50° Redwood City+54° San Leandro+54° San Mateo+54° San Rafael+50° San Ramon+48° South San Francisco+55° Vallejo+50° Palo Alto+52° Pacifica+59° Berkeley+48° Castro Valley+54° Concord+48° Daly City+55° Leona Heights+54° Centennial+54° world's temperature today day day Temperature units\"}, {'url': 'https://www.weather25.com/north-america/usa/california/san-francisco?page=month&month=January', 'content': 'San Francisco weather in January 2025 | Weather25.com San Francisco weather in January 2025 | San Francisco in January | Temperatures in San Francisco in January Weather in San Francisco in January - FAQ The average temperature in San Francisco in January is 7/15° C. On average, there are 4 rainy days in San Francisco during January. The weather in San Francisco in January is good. On average, there are 0 snowy days in San Francisco in January. More about the weather in San Francisco San Francisco 14 day weather Long range weather for San Francisco San Francisco weather in November San Francisco weather in December San Francisco Webcam Weather tomorrow Hotels in San Francisco'}])], 'messages': [HumanMessage(content='[{\"url\": \"https://www.weatherapi.com/\", \"content\": \"{\\'location\\': {\\'name\\': \\'San Francisco\\', \\'region\\': \\'California\\', \\'country\\': \\'United States of America\\', \\'lat\\': 37.775, \\'lon\\': -122.4183, \\'tz_id\\': \\'America/Los_Angeles\\', \\'localtime_epoch\\': 1738139933, \\'localtime\\': \\'2025-01-29 00:38\\'}, \\'current\\': {\\'last_updated_epoch\\': 1738139400, \\'last_updated\\': \\'2025-01-29 00:30\\', \\'temp_c\\': 8.3, \\'temp_f\\': 46.9, \\'is_day\\': 0, \\'condition\\': {\\'text\\': \\'Partly cloudy\\', \\'icon\\': \\'//cdn.weatherapi.com/weather/64x64/night/116.png\\', \\'code\\': 1003}, \\'wind_mph\\': 3.1, \\'wind_kph\\': 5.0, \\'wind_degree\\': 262, \\'wind_dir\\': \\'W\\', \\'pressure_mb\\': 1019.0, \\'pressure_in\\': 30.09, \\'precip_mm\\': 0.0, \\'precip_in\\': 0.0, \\'humidity\\': 80, \\'cloud\\': 75, \\'feelslike_c\\': 7.8, \\'feelslike_f\\': 46.1, \\'windchill_c\\': 5.3, \\'windchill_f\\': 41.5, \\'heatindex_c\\': 6.4, \\'heatindex_f\\': 43.6, \\'dewpoint_c\\': 6.1, \\'dewpoint_f\\': 42.9, \\'vis_km\\': 16.0, \\'vis_miles\\': 9.0, \\'uv\\': 0.0, \\'gust_mph\\': 5.0, \\'gust_kph\\': 8.1}}\"}, {\"url\": \"https://weathershogun.com/weather/usa/ca/san-francisco/480/january/2025-01-29\", \"content\": \"San Francisco, California weather forecast for Wednesday, January 29, 2025. Get the latest on temperature, precipitation, wind speed, and UV. ... °F °C Today Tomorrow Hourly 7 days 30 days January San Francisco, California Weather: Wednesday, January 29, 2025. Cloudy weather, overcast skies with clouds. Day 54\"}, {\"url\": \"https://world-weather.info/forecast/usa/san_francisco/january-2025/\", \"content\": \"Weather in San Francisco in January 2025 (California) - Detailed Weather Forecast for a Month Weather World Weather in San Francisco Weather in San Francisco in January 2025 San Francisco Weather Forecast for January 2025, is based on previous years\\' statistical data. +55°+46° +54°+45° +57°+48° +55°+48° +55°+48° +55°+46° +57°+50° +59°+50° +57°+50° +59°+50° +55°+48° +57°+48° +57°+48° +57°+50° +55°+46° +55°+48° +57°+48° +57°+48° +57°+48° +55°+48° +57°+48° +55°+48° +55°+48° +55°+46° +57°+48° +57°+48° +59°+48° +59°+48° +59°+48° +59°+48° +61°+50° Extended weather forecast in San Francisco HourlyWeek10-Day14-Day30-DayYear Weather in Washington, D.C.+30° Sacramento+45° Pleasanton+50° Redwood City+54° San Leandro+54° San Mateo+54° San Rafael+50° San Ramon+48° South San Francisco+55° Vallejo+50° Palo Alto+52° Pacifica+59° Berkeley+48° Castro Valley+54° Concord+48° Daly City+55° Leona Heights+54° Centennial+54° world\\'s temperature today day day Temperature units\"}, {\"url\": \"https://www.weather25.com/north-america/usa/california/san-francisco?page=month&month=January\", \"content\": \"San Francisco weather in January 2025 | Weather25.com San Francisco weather in January 2025 | San Francisco in January | Temperatures in San Francisco in January Weather in San Francisco in January - FAQ The average temperature in San Francisco in January is 7/15° C. On average, there are 4 rainy days in San Francisco during January. The weather in San Francisco in January is good. On average, there are 0 snowy days in San Francisco in January. More about the weather in San Francisco San Francisco 14 day weather Long range weather for San Francisco San Francisco weather in November San Francisco weather in December San Francisco Webcam Weather tomorrow Hotels in San Francisco\"}]', additional_kwargs={}, response_metadata={})]}\n",
      "\n",
      "DEBUG EVENT: {'output': 'The current weather in San Francisco is 8.3°C (46.9°F), partly cloudy with a wind speed of 5.0 kph coming from the west.', 'messages': [AIMessage(content='I now know the final answer\\nFinal Answer: The current weather in San Francisco is 8.3°C (46.9°F), partly cloudy with a wind speed of 5.0 kph coming from the west.', additional_kwargs={}, response_metadata={})]}\n"
     ]
    }
   ],
   "source": [
    "import nest_asyncio\n",
    "import asyncio\n",
    "import sys\n",
    "from langgraph.checkpoint.sqlite.aio import AsyncSqliteSaver\n",
    "from langchain.schema import HumanMessage\n",
    "from langchain.chat_models import ChatOpenAI\n",
    "from langchain.agents import initialize_agent, Tool\n",
    "from langchain_community.tools.tavily_search import TavilySearchResults\n",
    "\n",
    "# Apply nest_asyncio to fix nested event loops in Jupyter environments\n",
    "nest_asyncio.apply()\n",
    "\n",
    "# Initialize in-memory SQLite saver\n",
    "memory = AsyncSqliteSaver.from_conn_string(\":memory:\")\n",
    "\n",
    "# Define custom prompt\n",
    "prompt = \"\"\"You are a smart research assistant. Use the search engine to look up information.\n",
    "You are allowed to make multiple calls (either together or in sequence).\n",
    "When using a tool, always respond in this exact format:\n",
    "\n",
    "Action: <tool_name>\n",
    "Action Input: <tool_input>\n",
    "\n",
    "For example:\n",
    "Action: TavilySearch\n",
    "Action Input: Find the latest AI news.\n",
    "\"\"\"\n",
    "\n",
    "# Initialize Tavily search tool\n",
    "tool = TavilySearchResults(max_results=4)\n",
    "\n",
    "# Wrap it as a LangChain Tool\n",
    "search_tool = Tool(\n",
    "    name=\"tavily_search_results_json\",\n",
    "    func=tool.run,\n",
    "    description=\"Search for information using Tavily and return structured JSON results.\"\n",
    ")\n",
    "\n",
    "# Initialize the language model with streaming enabled\n",
    "llm = ChatOpenAI(model_name=\"gpt-3.5-turbo\", temperature=0.7, streaming=True)\n",
    "\n",
    "# Create the agent\n",
    "agent = initialize_agent(\n",
    "    tools=[search_tool],\n",
    "    llm=llm,\n",
    "    agent=\"zero-shot-react-description\",\n",
    "    system_message=prompt,\n",
    "    handle_parsing_errors=True  \n",
    ")\n",
    "\n",
    "# Define messages\n",
    "messages = [HumanMessage(content=\"What is the current weather in San Francisco?\")]\n",
    "\n",
    "# Async function for streaming response\n",
    "async def stream_response():\n",
    "    async for event in agent.astream(messages[0].content):\n",
    "        # 🔹 Debugging: Print full event to inspect structure\n",
    "        print(\"\\nDEBUG EVENT:\", event)\n",
    "\n",
    "        # Extract content properly\n",
    "        if isinstance(event, dict) and \"data\" in event:\n",
    "            chunk = event[\"data\"].get(\"chunk\", None)\n",
    "            if chunk and hasattr(chunk, \"content\"):\n",
    "                content = chunk.content.strip()\n",
    "                if content:\n",
    "                    print(content.replace(\" \", \"|\"), end=\"|\", flush=True)  # Stream tokens in real-time\n",
    "                    sys.stdout.flush()  # Ensure immediate output\n",
    "\n",
    "# Run the async function\n",
    "await stream_response()  \n"
   ]
  },
  {
   "cell_type": "markdown",
   "id": "63bab803",
   "metadata": {},
   "source": [
    "**EXPLANATION OUTPUT** 🔹 What Changed?\n",
    "✅ Enabled streaming=True in ChatOpenAI\n",
    "✅ Replaced agent.run() with agent.astream() to handle streaming\n",
    "✅ Used async for loop to print tokens progressively\n",
    "✅ Formatted output with | separators between words"
   ]
  },
  {
   "cell_type": "markdown",
   "id": "9d81dd4c",
   "metadata": {},
   "source": [
    "🔍 Based on the logs, I see that:  \n",
    "\n",
    "Your agent first takes an action (calls tavily_search_results_json).  \n",
    "It receives weather data from multiple sources.  \n",
    "Finally, it generates the output in event[\"output\"]:  "
   ]
  },
  {
   "cell_type": "markdown",
   "id": "fe446bb9",
   "metadata": {},
   "source": [
    "🚀 Fixed Streaming Code  \n",
    "Instead of looking for event[\"data\"][\"chunk\"], you need to extract content from event[\"output\"].    \n",
    "🔹 Summary of Fix  \n",
    "✅ Extracts event[\"output\"] instead of event[\"data\"][\"chunk\"].  \n",
    "✅ Maintains real-time streaming using flush=True.  \n",
    "✅ Formats text with | separators to simulate token streaming.  "
   ]
  },
  {
   "cell_type": "code",
   "execution_count": 19,
   "id": "fcb948ad",
   "metadata": {},
   "outputs": [
    {
     "name": "stdout",
     "output_type": "stream",
     "text": [
      "\n",
      "DEBUG EVENT: {'actions': [AgentAction(tool='tavily_search_results_json', tool_input=\"'current weather in San Francisco'\", log=\"I should use the tavily_search_results_json tool to search for the current weather in San Francisco.\\nAction: tavily_search_results_json\\nAction Input: 'current weather in San Francisco'\")], 'messages': [AIMessage(content=\"I should use the tavily_search_results_json tool to search for the current weather in San Francisco.\\nAction: tavily_search_results_json\\nAction Input: 'current weather in San Francisco'\", additional_kwargs={}, response_metadata={})]}\n",
      "\n",
      "DEBUG EVENT: {'steps': [AgentStep(action=AgentAction(tool='tavily_search_results_json', tool_input=\"'current weather in San Francisco'\", log=\"I should use the tavily_search_results_json tool to search for the current weather in San Francisco.\\nAction: tavily_search_results_json\\nAction Input: 'current weather in San Francisco'\"), observation=[{'url': 'https://www.weatherapi.com/', 'content': \"{'location': {'name': 'San Francisco', 'region': 'California', 'country': 'United States of America', 'lat': 37.775, 'lon': -122.4183, 'tz_id': 'America/Los_Angeles', 'localtime_epoch': 1738139933, 'localtime': '2025-01-29 00:38'}, 'current': {'last_updated_epoch': 1738139400, 'last_updated': '2025-01-29 00:30', 'temp_c': 8.3, 'temp_f': 46.9, 'is_day': 0, 'condition': {'text': 'Partly cloudy', 'icon': '//cdn.weatherapi.com/weather/64x64/night/116.png', 'code': 1003}, 'wind_mph': 3.1, 'wind_kph': 5.0, 'wind_degree': 262, 'wind_dir': 'W', 'pressure_mb': 1019.0, 'pressure_in': 30.09, 'precip_mm': 0.0, 'precip_in': 0.0, 'humidity': 80, 'cloud': 75, 'feelslike_c': 7.8, 'feelslike_f': 46.1, 'windchill_c': 5.3, 'windchill_f': 41.5, 'heatindex_c': 6.4, 'heatindex_f': 43.6, 'dewpoint_c': 6.1, 'dewpoint_f': 42.9, 'vis_km': 16.0, 'vis_miles': 9.0, 'uv': 0.0, 'gust_mph': 5.0, 'gust_kph': 8.1}}\"}, {'url': 'https://weathershogun.com/weather/usa/ca/san-francisco/480/january/2025-01-29', 'content': 'San Francisco, California weather forecast for Wednesday, January 29, 2025. Get the latest on temperature, precipitation, wind speed, and UV. ... °F °C Today Tomorrow Hourly 7 days 30 days January San Francisco, California Weather: Wednesday, January 29, 2025. Cloudy weather, overcast skies with clouds. Day 54'}, {'url': 'https://world-weather.info/forecast/usa/san_francisco/january-2025/', 'content': \"Weather in San Francisco in January 2025 (California) - Detailed Weather Forecast for a Month Weather World Weather in San Francisco Weather in San Francisco in January 2025 San Francisco Weather Forecast for January 2025, is based on previous years' statistical data. +55°+46° +54°+45° +57°+48° +55°+48° +55°+48° +55°+46° +57°+50° +59°+50° +57°+50° +59°+50° +55°+48° +57°+48° +57°+48° +57°+50° +55°+46° +55°+48° +57°+48° +57°+48° +57°+48° +55°+48° +57°+48° +55°+48° +55°+48° +55°+46° +57°+48° +57°+48° +59°+48° +59°+48° +59°+48° +59°+48° +61°+50° Extended weather forecast in San Francisco HourlyWeek10-Day14-Day30-DayYear Weather in Washington, D.C.+30° Sacramento+45° Pleasanton+50° Redwood City+54° San Leandro+54° San Mateo+54° San Rafael+50° San Ramon+48° South San Francisco+55° Vallejo+50° Palo Alto+52° Pacifica+59° Berkeley+48° Castro Valley+54° Concord+48° Daly City+55° Leona Heights+54° Centennial+54° world's temperature today day day Temperature units\"}, {'url': 'https://www.weather25.com/north-america/usa/california/san-francisco?page=month&month=January', 'content': 'San Francisco weather in January 2025 | Weather25.com San Francisco weather in January 2025 | San Francisco in January | Temperatures in San Francisco in January Weather in San Francisco in January - FAQ The average temperature in San Francisco in January is 7/15° C. On average, there are 4 rainy days in San Francisco during January. The weather in San Francisco in January is good. On average, there are 0 snowy days in San Francisco in January. More about the weather in San Francisco San Francisco 14 day weather Long range weather for San Francisco San Francisco weather in November San Francisco weather in December San Francisco Webcam Weather tomorrow Hotels in San Francisco'}])], 'messages': [HumanMessage(content='[{\"url\": \"https://www.weatherapi.com/\", \"content\": \"{\\'location\\': {\\'name\\': \\'San Francisco\\', \\'region\\': \\'California\\', \\'country\\': \\'United States of America\\', \\'lat\\': 37.775, \\'lon\\': -122.4183, \\'tz_id\\': \\'America/Los_Angeles\\', \\'localtime_epoch\\': 1738139933, \\'localtime\\': \\'2025-01-29 00:38\\'}, \\'current\\': {\\'last_updated_epoch\\': 1738139400, \\'last_updated\\': \\'2025-01-29 00:30\\', \\'temp_c\\': 8.3, \\'temp_f\\': 46.9, \\'is_day\\': 0, \\'condition\\': {\\'text\\': \\'Partly cloudy\\', \\'icon\\': \\'//cdn.weatherapi.com/weather/64x64/night/116.png\\', \\'code\\': 1003}, \\'wind_mph\\': 3.1, \\'wind_kph\\': 5.0, \\'wind_degree\\': 262, \\'wind_dir\\': \\'W\\', \\'pressure_mb\\': 1019.0, \\'pressure_in\\': 30.09, \\'precip_mm\\': 0.0, \\'precip_in\\': 0.0, \\'humidity\\': 80, \\'cloud\\': 75, \\'feelslike_c\\': 7.8, \\'feelslike_f\\': 46.1, \\'windchill_c\\': 5.3, \\'windchill_f\\': 41.5, \\'heatindex_c\\': 6.4, \\'heatindex_f\\': 43.6, \\'dewpoint_c\\': 6.1, \\'dewpoint_f\\': 42.9, \\'vis_km\\': 16.0, \\'vis_miles\\': 9.0, \\'uv\\': 0.0, \\'gust_mph\\': 5.0, \\'gust_kph\\': 8.1}}\"}, {\"url\": \"https://weathershogun.com/weather/usa/ca/san-francisco/480/january/2025-01-29\", \"content\": \"San Francisco, California weather forecast for Wednesday, January 29, 2025. Get the latest on temperature, precipitation, wind speed, and UV. ... °F °C Today Tomorrow Hourly 7 days 30 days January San Francisco, California Weather: Wednesday, January 29, 2025. Cloudy weather, overcast skies with clouds. Day 54\"}, {\"url\": \"https://world-weather.info/forecast/usa/san_francisco/january-2025/\", \"content\": \"Weather in San Francisco in January 2025 (California) - Detailed Weather Forecast for a Month Weather World Weather in San Francisco Weather in San Francisco in January 2025 San Francisco Weather Forecast for January 2025, is based on previous years\\' statistical data. +55°+46° +54°+45° +57°+48° +55°+48° +55°+48° +55°+46° +57°+50° +59°+50° +57°+50° +59°+50° +55°+48° +57°+48° +57°+48° +57°+50° +55°+46° +55°+48° +57°+48° +57°+48° +57°+48° +55°+48° +57°+48° +55°+48° +55°+48° +55°+46° +57°+48° +57°+48° +59°+48° +59°+48° +59°+48° +59°+48° +61°+50° Extended weather forecast in San Francisco HourlyWeek10-Day14-Day30-DayYear Weather in Washington, D.C.+30° Sacramento+45° Pleasanton+50° Redwood City+54° San Leandro+54° San Mateo+54° San Rafael+50° San Ramon+48° South San Francisco+55° Vallejo+50° Palo Alto+52° Pacifica+59° Berkeley+48° Castro Valley+54° Concord+48° Daly City+55° Leona Heights+54° Centennial+54° world\\'s temperature today day day Temperature units\"}, {\"url\": \"https://www.weather25.com/north-america/usa/california/san-francisco?page=month&month=January\", \"content\": \"San Francisco weather in January 2025 | Weather25.com San Francisco weather in January 2025 | San Francisco in January | Temperatures in San Francisco in January Weather in San Francisco in January - FAQ The average temperature in San Francisco in January is 7/15° C. On average, there are 4 rainy days in San Francisco during January. The weather in San Francisco in January is good. On average, there are 0 snowy days in San Francisco in January. More about the weather in San Francisco San Francisco 14 day weather Long range weather for San Francisco San Francisco weather in November San Francisco weather in December San Francisco Webcam Weather tomorrow Hotels in San Francisco\"}]', additional_kwargs={}, response_metadata={})]}\n",
      "\n",
      "DEBUG EVENT: {'output': 'The current weather in San Francisco is partly cloudy with a temperature of 46.9°F.', 'messages': [AIMessage(content='Based on the structured JSON results, I can see that the current weather in San Francisco is partly cloudy with a temperature of 46.9°F. \\nFinal Answer: The current weather in San Francisco is partly cloudy with a temperature of 46.9°F.', additional_kwargs={}, response_metadata={})]}\n",
      "The|current|weather|in|San|Francisco|is|partly|cloudy|with|a|temperature|of|46.9°F.|"
     ]
    }
   ],
   "source": [
    "async def stream_response():\n",
    "    async for event in agent.astream(messages[0].content):\n",
    "        # 🔹 Debugging: Print full event to inspect structure\n",
    "        print(\"\\nDEBUG EVENT:\", event)\n",
    "\n",
    "        # Extract content properly\n",
    "        if isinstance(event, dict) and \"output\" in event:\n",
    "            content = event[\"output\"].strip()\n",
    "            if content:\n",
    "                print(content.replace(\" \", \"|\"), end=\"|\", flush=True)  # Stream tokens in real-time\n",
    "                sys.stdout.flush()  # Ensure immediate output\n",
    "\n",
    "# Run the async function\n",
    "await stream_response()\n"
   ]
  },
  {
   "cell_type": "markdown",
   "id": "2b1a2a19",
   "metadata": {},
   "source": [
    "**EXPLANATION OUTPUT** As it can be seen from the output now the Formats text are with | separators to simulate token streaming."
   ]
  },
  {
   "cell_type": "markdown",
   "id": "3f447255",
   "metadata": {},
   "source": [
    "## Conclusion\n",
    "This notebook provided a comprehensive guide to setting up an AI agent using LangChain, showcasing its capabilities in persistence, API interaction, and real-time data streaming. By following the steps outlined, you can create a robust system capable of managing and processing various tasks efficiently."
   ]
  },
  {
   "cell_type": "markdown",
   "id": "b5365cf4",
   "metadata": {},
   "source": []
  }
 ],
 "metadata": {
  "kernelspec": {
   "display_name": "Python 3",
   "language": "python",
   "name": "python3"
  },
  "language_info": {
   "codemirror_mode": {
    "name": "ipython",
    "version": 3
   },
   "file_extension": ".py",
   "mimetype": "text/x-python",
   "name": "python",
   "nbconvert_exporter": "python",
   "pygments_lexer": "ipython3",
   "version": "3.12.2"
  }
 },
 "nbformat": 4,
 "nbformat_minor": 5
}
