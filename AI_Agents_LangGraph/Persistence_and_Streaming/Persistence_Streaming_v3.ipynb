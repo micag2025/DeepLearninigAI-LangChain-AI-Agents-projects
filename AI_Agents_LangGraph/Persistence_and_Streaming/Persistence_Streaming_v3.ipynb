{
 "cells": [
  {
   "cell_type": "markdown",
   "id": "b5789bc3-b1ae-42c7-94a8-2ef4f89946fc",
   "metadata": {},
   "source": [
    "# Persistence and Streaming 🌐"
   ]
  },
  {
   "cell_type": "markdown",
   "id": "e387aa81",
   "metadata": {},
   "source": [
    "## Introduction\n",
    "This notebook demonstrates the `integration of LangChain's persistence and streaming capabilities` using various tools and APIs. The aim is to build an agent that can fetch data, process it, and manage state efficiently."
   ]
  },
  {
   "cell_type": "markdown",
   "id": "109e05c1",
   "metadata": {},
   "source": [
    "## Persistence and Streaming\n",
    "Persistence and streaming are crucial concepts in the realm of AI and data management. `Persistence` refers to the ability of a system to retain data across sessions and restarts, ensuring that important information is not lost and can be accessed whenever needed. This is typically achieved using databases or file systems. `Streaming`, on the other hand, involves the continuous processing of data as it arrives in real-time, allowing for immediate analysis and response. This is particularly useful in applications such as real-time monitoring, live data feeds, and interactive AI agents. By combining persistence and streaming, systems can offer robust data handling capabilities, ensuring data integrity and providing timely insights."
   ]
  },
  {
   "cell_type": "markdown",
   "id": "6c682ae7",
   "metadata": {},
   "source": [
    "## Persistence"
   ]
  },
  {
   "cell_type": "markdown",
   "id": "972acb8f",
   "metadata": {},
   "source": [
    "### Import Required Libraries"
   ]
  },
  {
   "cell_type": "code",
   "execution_count": 1,
   "id": "c907215d",
   "metadata": {},
   "outputs": [],
   "source": [
    "# Import necessary modules from the langchain library\n",
    "from langchain_core.messages import AnyMessage, SystemMessage, HumanMessage, ToolMessage\n",
    "from langchain.chat_models import ChatOpenAI  # Correct import\n",
    "from langchain_community.tools.tavily_search import TavilySearchResults"
   ]
  },
  {
   "cell_type": "code",
   "execution_count": 2,
   "id": "781d371c",
   "metadata": {},
   "outputs": [],
   "source": [
    "# Import additional required libraries\n",
    "from langgraph.graph import StateGraph, END\n",
    "from typing import TypedDict, Annotated\n",
    "import operator"
   ]
  },
  {
   "cell_type": "markdown",
   "id": "59a3a75c",
   "metadata": {},
   "source": [
    "### Load Environment Variables\n",
    "Load the environment variables from a .env file to access the OpenAI API key."
   ]
  },
  {
   "cell_type": "code",
   "execution_count": 3,
   "id": "1bbab7b8",
   "metadata": {},
   "outputs": [
    {
     "name": "stdout",
     "output_type": "stream",
     "text": [
      "TAVILY_API_KEY: tvly-*****\n"
     ]
    }
   ],
   "source": [
    "# Import the required libraries\n",
    "from dotenv import load_dotenv\n",
    "import os\n",
    "\n",
    "# Load environment variables\n",
    "load_dotenv()\n",
    "\n",
    "\n",
    "# Print the Tavily API key (masked)\n",
    "print(f\"TAVILY_API_KEY: {os.getenv('TAVILY_API_KEY')[:5]}*****\")"
   ]
  },
  {
   "cell_type": "markdown",
   "id": "be8a0434",
   "metadata": {},
   "source": [
    "### Initialize Tavily Search Tool"
   ]
  },
  {
   "cell_type": "code",
   "execution_count": 4,
   "id": "da06a64f-a2d5-4a66-8090-9ada0930c684",
   "metadata": {
    "height": 30
   },
   "outputs": [],
   "source": [
    "# Initialize Tavily search tool\n",
    "tool = TavilySearchResults(max_results=2)"
   ]
  },
  {
   "cell_type": "markdown",
   "id": "12e8e4a0",
   "metadata": {},
   "source": [
    "### Define Agent State"
   ]
  },
  {
   "cell_type": "code",
   "execution_count": 5,
   "id": "2589c5b6-6cc2-4594-9a17-dccdcf676054",
   "metadata": {
    "height": 47
   },
   "outputs": [],
   "source": [
    "# Define the agent state\n",
    "class AgentState(TypedDict):\n",
    "    messages: Annotated[list[AnyMessage], operator.add]"
   ]
  },
  {
   "cell_type": "markdown",
   "id": "867cba8e",
   "metadata": {},
   "source": [
    "**Note** Ensure the required package is installed for saving checkpoints.\n",
    "\n",
    "```py\n",
    "pip install langgraph-checkpoint-sqlite\n",
    "```\n",
    "\n",
    "More info on [langgraph-checkpoint-sqlite](https://pypi.org/project/langgraph-checkpoint-sqlite/#files)"
   ]
  },
  {
   "cell_type": "code",
   "execution_count": 6,
   "id": "9c033522-d2fc-41ac-8e3c-5e35872bf88d",
   "metadata": {
    "height": 64
   },
   "outputs": [],
   "source": [
    "# Original code \n",
    "from langgraph.checkpoint.sqlite import SqliteSaver\n",
    "memory = SqliteSaver.from_conn_string(\":memory:\")"
   ]
  },
  {
   "cell_type": "markdown",
   "id": "95dab604",
   "metadata": {},
   "source": [
    "### Define the Agent Class"
   ]
  },
  {
   "cell_type": "code",
   "execution_count": 7,
   "id": "a2ba84ec-c172-4de7-ac55-e3158a531b23",
   "metadata": {
    "height": 574
   },
   "outputs": [],
   "source": [
    "# Define the Agent class\n",
    "class Agent:\n",
    "    def __init__(self, model, tools, checkpointer, system=\"\"):\n",
    "        self.system = system\n",
    "        graph = StateGraph(AgentState)\n",
    "        graph.add_node(\"llm\", self.call_openai)\n",
    "        graph.add_node(\"action\", self.take_action)\n",
    "        graph.add_conditional_edges(\"llm\", self.exists_action, {True: \"action\", False: END})\n",
    "        graph.add_edge(\"action\", \"llm\")\n",
    "        graph.set_entry_point(\"llm\")\n",
    "        self.graph = graph.compile(checkpointer=checkpointer)\n",
    "        self.tools = {t.name: t for t in tools}\n",
    "        self.model = model.bind_tools(tools)\n",
    "\n",
    "    def call_openai(self, state: AgentState):\n",
    "        messages = state['messages']\n",
    "        if self.system:\n",
    "            messages = [SystemMessage(content=self.system)] + messages\n",
    "        message = self.model.invoke(messages)\n",
    "        return {'messages': [message]}\n",
    "\n",
    "    def exists_action(self, state: AgentState):\n",
    "        result = state['messages'][-1]\n",
    "        return len(result.tool_calls) > 0\n",
    "\n",
    "    def take_action(self, state: AgentState):\n",
    "        tool_calls = state['messages'][-1].tool_calls\n",
    "        results = []\n",
    "        for t in tool_calls:\n",
    "            print(f\"Calling: {t}\")\n",
    "            result = self.tools[t['name']].invoke(t['args'])\n",
    "            results.append(ToolMessage(tool_call_id=t['id'], name=t['name'], content=str(result)))\n",
    "        print(\"Back to the model!\")\n",
    "        return {'messages': results}"
   ]
  },
  {
   "cell_type": "markdown",
   "id": "27d84609",
   "metadata": {},
   "source": [
    "### Custom Prompt\n",
    "Define a custom prompt for the LangChain model."
   ]
  },
  {
   "cell_type": "markdown",
   "id": "80eba0d3",
   "metadata": {},
   "source": [
    "Let's include the original custom prompt within LangChain’s \n",
    "````py\n",
    "prompt = \"\"\"You are a smart research assistant. Use the search engine to look up information. \\\n",
    "You are allowed to make multiple calls (either together or in sequence). \\\n",
    "Only look up information when you are sure of what you want. \\\n",
    "If you need to look up some information before asking a follow up question, you are allowed to do that!\n",
    "\"\"\"\n",
    "\n",
    "model = ChatOpenAI(model=\"gpt-3.5-turbo\")  #reduce inference cost\n",
    "abot = Agent(model, [tool], system=prompt)\n",
    "````"
   ]
  },
  {
   "cell_type": "markdown",
   "id": "b31eec9e",
   "metadata": {},
   "source": [
    "#### Example Query 1 "
   ]
  },
  {
   "cell_type": "code",
   "execution_count": 8,
   "id": "c7aa77b9",
   "metadata": {},
   "outputs": [
    {
     "name": "stderr",
     "output_type": "stream",
     "text": [
      "C:\\Users\\Michela\\AppData\\Local\\Temp\\ipykernel_12724\\149761321.py:32: LangChainDeprecationWarning: The class `ChatOpenAI` was deprecated in LangChain 0.0.10 and will be removed in 1.0. An updated version of the class exists in the :class:`~langchain-openai package and should be used instead. To use it run `pip install -U :class:`~langchain-openai` and import as `from :class:`~langchain_openai import ChatOpenAI``.\n",
      "  llm = ChatOpenAI(model_name=\"gpt-3.5-turbo\", temperature=0.7)\n",
      "C:\\Users\\Michela\\AppData\\Local\\Temp\\ipykernel_12724\\149761321.py:35: LangChainDeprecationWarning: LangChain agents will continue to be supported, but it is recommended for new use cases to be built with LangGraph. LangGraph offers a more flexible and full-featured framework for building agents, including support for tool-calling, persistence of state, and human-in-the-loop workflows. For details, refer to the `LangGraph documentation <https://langchain-ai.github.io/langgraph/>`_ as well as guides for `Migrating from AgentExecutor <https://python.langchain.com/docs/how_to/migrate_agent/>`_ and LangGraph's `Pre-built ReAct agent <https://langchain-ai.github.io/langgraph/how-tos/create-react-agent/>`_.\n",
      "  agent = initialize_agent(\n",
      "C:\\Users\\Michela\\AppData\\Local\\Temp\\ipykernel_12724\\149761321.py:51: LangChainDeprecationWarning: The method `Chain.run` was deprecated in langchain 0.1.0 and will be removed in 1.0. Use :meth:`~invoke` instead.\n",
      "  response = agent.run(messages)\n"
     ]
    },
    {
     "name": "stdout",
     "output_type": "stream",
     "text": [
      "The current weather in San Francisco is partly cloudy with a temperature of 55.0°F.\n",
      "The current weather in San Francisco is partly cloudy with a temperature of 55.0°F.\n"
     ]
    }
   ],
   "source": [
    "from langchain.chat_models import ChatOpenAI\n",
    "from langchain.agents import initialize_agent, Tool\n",
    "from langchain_community.tools.tavily_search import TavilySearchResults\n",
    "from langchain.schema import HumanMessage\n",
    "\n",
    "# Define the custom prompt\n",
    "prompt = \"\"\"You are a smart research assistant. Use the search engine to look up information.\n",
    "You are allowed to make multiple calls (either together or in sequence).\n",
    "When using a tool, always respond in this exact format:\n",
    "\n",
    "Action: <tool_name>\n",
    "Action Input: <tool_input>\n",
    "\n",
    "For example:\n",
    "Action: TavilySearch\n",
    "Action Input: Find the latest AI news.\n",
    "\n",
    "Only look up information when you are sure of what you want. If you need to look up some information before asking a follow-up question, you are allowed to do that!\n",
    "\"\"\"\n",
    "\n",
    "# Initialize the Tavily search tool\n",
    "tool = TavilySearchResults(max_results=4)\n",
    "\n",
    "# Wrap it as a LangChain Tool\n",
    "search_tool = Tool(\n",
    "    name=\"TavilySearch\",\n",
    "    func=tool.run,\n",
    "    description=\"Search for information using Tavily.\"\n",
    ")\n",
    "\n",
    "# Initialize the language model\n",
    "llm = ChatOpenAI(model_name=\"gpt-3.5-turbo\", temperature=0.7)\n",
    "\n",
    "# Create the agent with the custom prompt\n",
    "agent = initialize_agent(\n",
    "    tools=[search_tool],\n",
    "    llm=llm,\n",
    "    agent=\"zero-shot-react-description\",\n",
    "    system_message=prompt,\n",
    "    handle_parsing_errors=True  # Gracefully handle parsing errors\n",
    ")\n",
    "\n",
    "# Define the messages\n",
    "messages = [HumanMessage(content=\"What is the weather in sf?\")]\n",
    "\n",
    "# Define the thread\n",
    "thread = {\"configurable\": {\"thread_id\": \"1\"}}\n",
    "\n",
    "# Run the agent with a query\n",
    "try:\n",
    "    response = agent.run(messages)\n",
    "    print(response)\n",
    "except ValueError as e:\n",
    "    print(f\"Agent failed to parse output: {e}\")\n",
    "\n",
    "# Since response is a string, you can print it directly\n",
    "print(response)"
   ]
  },
  {
   "cell_type": "code",
   "execution_count": 9,
   "id": "1c1acafc",
   "metadata": {},
   "outputs": [
    {
     "name": "stdout",
     "output_type": "stream",
     "text": [
      "The current weather in San Francisco is partly cloudy with a temperature of 55.0°F.\n",
      "The current weather in San Francisco is partly cloudy with a temperature of 55.0°F.\n"
     ]
    }
   ],
   "source": [
    "from langchain.chat_models import ChatOpenAI\n",
    "from langchain.agents import initialize_agent, Tool\n",
    "from langchain_community.tools.tavily_search import TavilySearchResults\n",
    "from langchain.schema import HumanMessage\n",
    "\n",
    "# Define the custom prompt\n",
    "prompt = \"\"\"You are a smart research assistant. Use the search engine to look up information.\n",
    "You are allowed to make multiple calls (either together or in sequence).\n",
    "When using a tool, always respond in this exact format:\n",
    "\n",
    "Action: <tool_name>\n",
    "Action Input: <tool_input>\n",
    "\n",
    "For example:\n",
    "Action: TavilySearch\n",
    "Action Input: Find the latest AI news.\n",
    "\n",
    "Only look up information when you are sure of what you want. If you need to look up some information before asking a follow-up question, you are allowed to do that!\n",
    "\"\"\"\n",
    "\n",
    "# Initialize the Tavily search tool\n",
    "tool = TavilySearchResults(max_results=4)\n",
    "\n",
    "# Wrap it as a LangChain Tool\n",
    "search_tool = Tool(\n",
    "    name=\"TavilySearch\",\n",
    "    func=tool.run,\n",
    "    description=\"Search for information using Tavily.\"\n",
    ")\n",
    "\n",
    "# Initialize the language model\n",
    "llm = ChatOpenAI(model_name=\"gpt-3.5-turbo\", temperature=0.7)\n",
    "\n",
    "# Create the agent with the custom prompt\n",
    "agent = initialize_agent(\n",
    "    tools=[search_tool],\n",
    "    llm=llm,\n",
    "    agent=\"zero-shot-react-description\",\n",
    "    system_message=prompt,\n",
    "    handle_parsing_errors=True  # Gracefully handle parsing errors\n",
    ")\n",
    "\n",
    "# Define the messages\n",
    "messages = [HumanMessage(content=\"What is the weather in sf?\")]\n",
    "\n",
    "# Define the thread\n",
    "thread = {\"configurable\": {\"thread_id\": \"1\"}}\n",
    "\n",
    "# Run the agent with a query\n",
    "try:\n",
    "    response = agent.run(messages)\n",
    "    print(response)\n",
    "except ValueError as e:\n",
    "    print(f\"Agent failed to parse output: {e}\")\n",
    "\n",
    "# Since response is a string, you can print it directly\n",
    "print(response)"
   ]
  },
  {
   "cell_type": "markdown",
   "id": "36c83306",
   "metadata": {},
   "source": [
    "Taking into consideration the persistence and snippet code \n",
    "```py\n",
    "for event in response.graph.stream({\"messages\": messages}, thread):\n",
    "    for v in event.values():\n",
    "        print(v['messages'])\n",
    "```\n"
   ]
  },
  {
   "cell_type": "markdown",
   "id": "3bee65c6",
   "metadata": {},
   "source": [
    "- Method 1 "
   ]
  },
  {
   "cell_type": "code",
   "execution_count": 10,
   "id": "e8671b24",
   "metadata": {},
   "outputs": [
    {
     "name": "stdout",
     "output_type": "stream",
     "text": [
      "The current weather in San Francisco is partly cloudy with a temperature of 55.0°F, wind speed of 14.3 mph, and humidity of 77%.\n",
      "Mock message 1\n",
      "Mock message 2\n",
      "Mock message 3\n"
     ]
    }
   ],
   "source": [
    "from langchain.chat_models import ChatOpenAI\n",
    "from langchain.agents import initialize_agent, Tool\n",
    "from langchain_community.tools.tavily_search import TavilySearchResults\n",
    "from langchain.schema import HumanMessage\n",
    "import time\n",
    "\n",
    "# Define the custom prompt\n",
    "prompt = \"\"\"You are a smart research assistant. Use the search engine to look up information.\n",
    "You are allowed to make multiple calls (either together or in sequence).\n",
    "When using a tool, always respond in this exact format:\n",
    "\n",
    "Action: <tool_name>\n",
    "Action Input: <tool_input>\n",
    "\n",
    "For example:\n",
    "Action: TavilySearch\n",
    "Action Input: Find the latest AI news.\n",
    "\n",
    "Only look up information when you are sure of what you want. If you need to look up some information before asking a follow-up question, you are allowed to do that!\n",
    "\"\"\"\n",
    "\n",
    "# Initialize the Tavily search tool\n",
    "tool = TavilySearchResults(max_results=4)\n",
    "\n",
    "# Wrap it as a LangChain Tool\n",
    "search_tool = Tool(\n",
    "    name=\"TavilySearch\",\n",
    "    func=tool.run,\n",
    "    description=\"Search for information using Tavily.\"\n",
    ")\n",
    "\n",
    "# Initialize the language model\n",
    "llm = ChatOpenAI(model_name=\"gpt-3.5-turbo\", temperature=0.7)\n",
    "\n",
    "# Create the agent with the custom prompt\n",
    "agent = initialize_agent(\n",
    "    tools=[search_tool],\n",
    "    llm=llm,\n",
    "    agent=\"zero-shot-react-description\",\n",
    "    system_message=prompt,\n",
    "    handle_parsing_errors=True  # Gracefully handle parsing errors\n",
    ")\n",
    "\n",
    "# Define the messages\n",
    "messages = [HumanMessage(content=\"What is the weather in sf?\")]\n",
    "\n",
    "# Define the thread\n",
    "thread = {\"configurable\": {\"thread_id\": \"1\"}}\n",
    "\n",
    "# Run the agent with a query\n",
    "try:\n",
    "    response = agent.run(messages)\n",
    "    print(response)\n",
    "except ValueError as e:\n",
    "    print(f\"Agent failed to parse output: {e}\")\n",
    "\n",
    "# Mock object for streaming events\n",
    "class MockGraph:\n",
    "    def stream(self, data, thread):\n",
    "        for i in range(3):  # Simulate 3 events\n",
    "            yield {\"event\": {\"values\": [{\"messages\": f\"Mock message {i+1}\"}]}}\n",
    "            time.sleep(1)  # Simulate delay between events\n",
    "\n",
    "class MockStreamingObject:\n",
    "    def __init__(self):\n",
    "        self.graph = MockGraph()\n",
    "\n",
    "# Create an instance of the mock streaming object\n",
    "streaming_object = MockStreamingObject()\n",
    "\n",
    "# Example usage with the mock streaming object\n",
    "for event in streaming_object.graph.stream({\"messages\": messages}, thread):\n",
    "    for v in event[\"event\"][\"values\"]:\n",
    "        print(v['messages'])"
   ]
  },
  {
   "cell_type": "markdown",
   "id": "f15782e1",
   "metadata": {},
   "source": [
    "- Method 2"
   ]
  },
  {
   "cell_type": "code",
   "execution_count": 11,
   "id": "6a3c9a40",
   "metadata": {},
   "outputs": [
    {
     "name": "stdout",
     "output_type": "stream",
     "text": [
      "The current temperature in San Francisco is around 49°F.\n",
      "Actual message 1\n",
      "Actual message 2\n",
      "Actual message 3\n"
     ]
    }
   ],
   "source": [
    "from langchain.chat_models import ChatOpenAI\n",
    "from langchain.agents import initialize_agent, Tool\n",
    "from langchain_community.tools.tavily_search import TavilySearchResults\n",
    "from langchain.schema import HumanMessage\n",
    "\n",
    "# Define the custom prompt\n",
    "prompt = \"\"\"You are a smart research assistant. Use the search engine to look up information.\n",
    "You are allowed to make multiple calls (either together or in sequence).\n",
    "When using a tool, always respond in this exact format:\n",
    "\n",
    "Action: <tool_name>\n",
    "Action Input: <tool_input>\n",
    "\n",
    "For example:\n",
    "Action: TavilySearch\n",
    "Action Input: Find the latest AI news.\n",
    "\n",
    "Only look up information when you are sure of what you want. If you need to look up some information before asking a follow-up question, you are allowed to do that!\n",
    "\"\"\"\n",
    "\n",
    "# Initialize the Tavily search tool\n",
    "tool = TavilySearchResults(max_results=4)\n",
    "\n",
    "# Wrap it as a LangChain Tool\n",
    "search_tool = Tool(\n",
    "    name=\"TavilySearch\",\n",
    "    func=tool.run,\n",
    "    description=\"Search for information using Tavily.\"\n",
    ")\n",
    "\n",
    "# Initialize the language model\n",
    "llm = ChatOpenAI(model_name=\"gpt-3.5-turbo\", temperature=0.7)\n",
    "\n",
    "# Create the agent with the custom prompt\n",
    "agent = initialize_agent(\n",
    "    tools=[search_tool],\n",
    "    llm=llm,\n",
    "    agent=\"zero-shot-react-description\",\n",
    "    system_message=prompt,\n",
    "    handle_parsing_errors=True  # Gracefully handle parsing errors\n",
    ")\n",
    "\n",
    "# Define the messages\n",
    "messages = [HumanMessage(content=\"What is the weather in sf?\")]\n",
    "\n",
    "# Define the thread\n",
    "thread = {\"configurable\": {\"thread_id\": \"1\"}}\n",
    "\n",
    "# Run the agent with a query\n",
    "try:\n",
    "    response = agent.run(messages)\n",
    "    print(response)\n",
    "except ValueError as e:\n",
    "    print(f\"Agent failed to parse output: {e}\")\n",
    "\n",
    "# Assuming you have a valid object for streaming events\n",
    "class ValidGraph:\n",
    "    def stream(self, data, thread):\n",
    "        # Replace this with actual streaming logic\n",
    "        for i in range(3):  # Simulate 3 events\n",
    "            yield {\"event\": {\"values\": [{\"messages\": f\"Actual message {i+1}\"}]}}\n",
    "            time.sleep(1)  # Simulate delay between events\n",
    "\n",
    "class ValidStreamingObject:\n",
    "    def __init__(self):\n",
    "        self.graph = ValidGraph()\n",
    "\n",
    "# Create an instance of the valid streaming object\n",
    "streaming_object = ValidStreamingObject()\n",
    "\n",
    "# Example usage with the valid streaming object\n",
    "for event in streaming_object.graph.stream({\"messages\": messages}, thread):\n",
    "    for v in event[\"event\"][\"values\"]:\n",
    "        print(v['messages'])"
   ]
  },
  {
   "cell_type": "markdown",
   "id": "c504aec7",
   "metadata": {},
   "source": [
    "#### Example Query 2 "
   ]
  },
  {
   "cell_type": "code",
   "execution_count": 12,
   "id": "90f9f2cf",
   "metadata": {},
   "outputs": [
    {
     "name": "stdout",
     "output_type": "stream",
     "text": [
      "Information about \"la Los Angeles\" can be found on Wikipedia, the official website of the City of Los Angeles, and Discover Los Angeles.\n",
      "Actual message 1\n",
      "Actual message 2\n",
      "Actual message 3\n"
     ]
    }
   ],
   "source": [
    "# Define the messages\n",
    "messages = [HumanMessage(content=\"What about in la?\")]\n",
    "\n",
    "# Define the thread\n",
    "thread = {\"configurable\": {\"thread_id\": \"1\"}}\n",
    "\n",
    "# Run the agent with a query\n",
    "try:\n",
    "    response = agent.run(messages)\n",
    "    print(response)\n",
    "except ValueError as e:\n",
    "    print(f\"Agent failed to parse output: {e}\")\n",
    "\n",
    "# Assuming you have a valid object for streaming events\n",
    "class ValidGraph:\n",
    "    def stream(self, data, thread):\n",
    "        # Replace this with actual streaming logic\n",
    "        for i in range(3):  # Simulate 3 events\n",
    "            yield {\"event\": {\"values\": [{\"messages\": f\"Actual message {i+1}\"}]}}\n",
    "            time.sleep(1)  # Simulate delay between events\n",
    "\n",
    "class ValidStreamingObject:\n",
    "    def __init__(self):\n",
    "        self.graph = ValidGraph()\n",
    "\n",
    "# Create an instance of the valid streaming object\n",
    "streaming_object = ValidStreamingObject()\n",
    "\n",
    "# Example usage with the valid streaming object\n",
    "for event in streaming_object.graph.stream({\"messages\": messages}, thread):\n",
    "    for v in event[\"event\"][\"values\"]:\n",
    "        print(v['messages'])"
   ]
  },
  {
   "cell_type": "markdown",
   "id": "debfb5bb",
   "metadata": {},
   "source": [
    "#### Example Query 3 "
   ]
  },
  {
   "cell_type": "code",
   "execution_count": 13,
   "id": "e98884d1",
   "metadata": {},
   "outputs": [
    {
     "name": "stdout",
     "output_type": "stream",
     "text": [
      "Los Angeles is warmer than San Francisco.\n",
      "Actual message 1\n",
      "Actual message 2\n",
      "Actual message 3\n"
     ]
    }
   ],
   "source": [
    "# Define the messages\n",
    "#messages = [HumanMessage(content=\"Which one is warmer?\")]\n",
    "messages = [HumanMessage(content=\"Which one is warmer la or sf?\")]\n",
    "\n",
    "# Define the thread\n",
    "thread = {\"configurable\": {\"thread_id\": \"1\"}}\n",
    "\n",
    "# Run the agent with a query\n",
    "try:\n",
    "    response = agent.run(messages)\n",
    "    print(response)\n",
    "except ValueError as e:\n",
    "    print(f\"Agent failed to parse output: {e}\")\n",
    "\n",
    "# Assuming you have a valid object for streaming events\n",
    "class ValidGraph:\n",
    "    def stream(self, data, thread):\n",
    "        # Replace this with actual streaming logic\n",
    "        for i in range(3):  # Simulate 3 events\n",
    "            yield {\"event\": {\"values\": [{\"messages\": f\"Actual message {i+1}\"}]}}\n",
    "            time.sleep(1)  # Simulate delay between events\n",
    "\n",
    "class ValidStreamingObject:\n",
    "    def __init__(self):\n",
    "        self.graph = ValidGraph()\n",
    "\n",
    "# Create an instance of the valid streaming object\n",
    "streaming_object = ValidStreamingObject()\n",
    "\n",
    "# Example usage with the valid streaming object\n",
    "for event in streaming_object.graph.stream({\"messages\": messages}, thread):\n",
    "    for v in event[\"event\"][\"values\"]:\n",
    "        print(v['messages'])"
   ]
  },
  {
   "cell_type": "markdown",
   "id": "ace59a36-3941-459e-b9d1-ac5a4a1ed3ae",
   "metadata": {},
   "source": [
    "## Streaming tokens"
   ]
  },
  {
   "cell_type": "markdown",
   "id": "608350eb",
   "metadata": {},
   "source": [
    "**Note** Ensure you have the required packages installed:\n",
    "```py\n",
    "# Install the Package Using pip (Recommended)\n",
    "py -m pip install langgraph-checkpoint-sqlite\n",
    "%pip install langgraph-checkpoint-sqlite\n",
    "\n",
    "# Verify Installation  run:\n",
    "py -m pip show langgraph-checkpoint-sqlite \n",
    "\n",
    "```\n",
    "\n",
    "More info [`Installation`](https://pypi.org/project/langgraph-checkpoint-sqlite/)"
   ]
  },
  {
   "cell_type": "code",
   "execution_count": 14,
   "id": "f501ffb8",
   "metadata": {},
   "outputs": [],
   "source": [
    "from langgraph.checkpoint.sqlite.aio import AsyncSqliteSaver\n",
    "memory = AsyncSqliteSaver.from_conn_string(\":memory:\")\n"
   ]
  },
  {
   "cell_type": "code",
   "execution_count": 15,
   "id": "c470e173",
   "metadata": {},
   "outputs": [
    {
     "name": "stdout",
     "output_type": "stream",
     "text": [
      "The weather in San Francisco today is partly cloudy with a temperature of 55.0°F.\n",
      "The weather in San Francisco today is partly cloudy with a temperature of 55.0°F.\n"
     ]
    }
   ],
   "source": [
    "from langchain.chat_models import ChatOpenAI\n",
    "from langchain.agents import initialize_agent, Tool\n",
    "from langchain_community.tools.tavily_search import TavilySearchResults\n",
    "from langchain.schema import HumanMessage\n",
    "\n",
    "# Define the custom prompt\n",
    "prompt = \"\"\"You are a smart research assistant. Use the search engine to look up information.\n",
    "You are allowed to make multiple calls (either together or in sequence).\n",
    "When using a tool, always respond in this exact format:\n",
    "\n",
    "Action: <tool_name>\n",
    "Action Input: <tool_input>\n",
    "\n",
    "For example:\n",
    "Action: TavilySearch\n",
    "Action Input: Find the latest AI news.\n",
    "\n",
    "Only look up information when you are sure of what you want. If you need to look up some information before asking a follow-up question, you are allowed to do that!\n",
    "\"\"\"\n",
    "\n",
    "# Initialize the Tavily search tool\n",
    "tool = TavilySearchResults(max_results=4)\n",
    "\n",
    "# Wrap it as a LangChain Tool\n",
    "search_tool = Tool(\n",
    "    name=\"TavilySearch\",\n",
    "    func=tool.run,\n",
    "    description=\"Search for information using Tavily.\"\n",
    ")\n",
    "\n",
    "# Initialize the language model\n",
    "llm = ChatOpenAI(model_name=\"gpt-3.5-turbo\", temperature=0.7)\n",
    "\n",
    "# Create the agent with the custom prompt\n",
    "agent = initialize_agent(\n",
    "    tools=[search_tool],\n",
    "    llm=llm,\n",
    "    agent=\"zero-shot-react-description\",\n",
    "    system_message=prompt,\n",
    "    handle_parsing_errors=True  # Gracefully handle parsing errors\n",
    ")\n",
    "\n",
    "# Define the messages\n",
    "messages = [HumanMessage(content=\"What is the weather in sf?\")]\n",
    "\n",
    "# Define the thread\n",
    "thread = {\"configurable\": {\"thread_id\": \"1\"}}\n",
    "\n",
    "# Run the agent with a query\n",
    "try:\n",
    "    response = agent.run(messages)\n",
    "    print(response)\n",
    "except ValueError as e:\n",
    "    print(f\"Agent failed to parse output: {e}\")\n",
    "\n",
    "# Since response is a string, you can print it directly\n",
    "print(response)"
   ]
  },
  {
   "cell_type": "markdown",
   "id": "595060f1",
   "metadata": {},
   "source": [
    " To enable token streaming, we  need to use agent.astream() (async streaming function) instead of agent.run(). Additionally, ChatOpenAI should be initialized with streaming=True. To sum up, to enalbel Token Streaming, thus in oder that the response streams token by token (like OpenAI API's streaming mode), let's consider the above code:"
   ]
  },
  {
   "cell_type": "code",
   "execution_count": 16,
   "id": "05f9280e",
   "metadata": {},
   "outputs": [
    {
     "name": "stdout",
     "output_type": "stream",
     "text": [
      "\n",
      "DEBUG EVENT: {'actions': [AgentAction(tool='tavily_search_results_json', tool_input=\"'current weather in San Francisco'\", log=\"I should use the Tavily tool to search for the current weather in San Francisco.\\nAction: tavily_search_results_json\\nAction Input: 'current weather in San Francisco'\")], 'messages': [AIMessage(content=\"I should use the Tavily tool to search for the current weather in San Francisco.\\nAction: tavily_search_results_json\\nAction Input: 'current weather in San Francisco'\", additional_kwargs={}, response_metadata={})]}\n",
      "\n",
      "DEBUG EVENT: {'steps': [AgentStep(action=AgentAction(tool='tavily_search_results_json', tool_input=\"'current weather in San Francisco'\", log=\"I should use the Tavily tool to search for the current weather in San Francisco.\\nAction: tavily_search_results_json\\nAction Input: 'current weather in San Francisco'\"), observation=[{'url': 'https://www.weatherapi.com/', 'content': \"{'location': {'name': 'San Francisco', 'region': 'California', 'country': 'United States of America', 'lat': 37.775, 'lon': -122.4183, 'tz_id': 'America/Los_Angeles', 'localtime_epoch': 1739562831, 'localtime': '2025-02-14 11:53'}, 'current': {'last_updated_epoch': 1739562300, 'last_updated': '2025-02-14 11:45', 'temp_c': 12.8, 'temp_f': 55.0, 'is_day': 1, 'condition': {'text': 'Partly cloudy', 'icon': '//cdn.weatherapi.com/weather/64x64/day/116.png', 'code': 1003}, 'wind_mph': 14.3, 'wind_kph': 23.0, 'wind_degree': 291, 'wind_dir': 'WNW', 'pressure_mb': 1022.0, 'pressure_in': 30.19, 'precip_mm': 0.0, 'precip_in': 0.0, 'humidity': 77, 'cloud': 75, 'feelslike_c': 10.7, 'feelslike_f': 51.2, 'windchill_c': 6.9, 'windchill_f': 44.4, 'heatindex_c': 9.6, 'heatindex_f': 49.4, 'dewpoint_c': 6.3, 'dewpoint_f': 43.3, 'vis_km': 16.0, 'vis_miles': 9.0, 'uv': 2.5, 'gust_mph': 18.7, 'gust_kph': 30.1}}\"}, {'url': 'https://weathershogun.com/weather/usa/ca/san-francisco/480/february/2025-02-14', 'content': \"San Francisco, CA - Weather Forecast San Francisco, CA Today Tomorrow Hourly 7 days 30 days February San Francisco, California Weather: High Wind Warning (Strong winds expected that may cause property damage and pose a threat to life.) High Surf Warning (Issued for dangerously large waves and strong rip currents. Expect coastal flooding and hazardous swimming conditions.) Flood Watch (Flooding is possible in the near future; stay informed and prepared for potential evacuation or disruptions) Day 57° Night 41° Wind 15 mph 7 days 30 days Weather Forecast History Last Year's Weather on This Day (February 14, 2024) Day 57° 52° Please note that while we strive for accuracy, the information provided may not always be correct.\"}, {'url': 'https://www.yahoo.com/news/february-14-2025-san-francisco-132402102.html', 'content': 'February 14, 2025 San Francisco Bay Area weather forecast. KRON San Francisco. Fri, February 14, 2025 at 5:24 AM PST.'}, {'url': 'https://world-weather.info/forecast/usa/san_francisco/february-2025/', 'content': \"Weather in San Francisco in February 2025 (California) - Detailed Weather Forecast for a Month Weather World Weather in San Francisco Weather in San Francisco in February 2025 San Francisco Weather Forecast for February 2025, is based on previous years' statistical data. +59°+50° +59°+52° +59°+50° +61°+52° +59°+50° +61°+50° +61°+52° +63°+52° +61°+52° +61°+50° +61°+50° +61°+50° +59°+50° +59°+50° +61°+50° +61°+52° +59°+50° +59°+48° +57°+48° +59°+50° +59°+48° +59°+50° +57°+46° +61°+50° +61°+50° +59°+50° +59°+48° +59°+50° Extended weather forecast in San Francisco HourlyWeek10-Day14-Day30-DayYear Weather in large and nearby cities Weather in Washington, D.C.+41° Sacramento+55° Pleasanton+55° Redwood City+55° San Leandro+55° San Mateo+54° San Rafael+52° San Ramon+52° South San Francisco+54° Vallejo+50° Palo Alto+55° Pacifica+55° Berkeley+54° Castro Valley+55° Concord+52° Daly City+54° Noverd+52° Sign Hill+54° world's temperature today day day Temperature units\"}])], 'messages': [HumanMessage(content='[{\"url\": \"https://www.weatherapi.com/\", \"content\": \"{\\'location\\': {\\'name\\': \\'San Francisco\\', \\'region\\': \\'California\\', \\'country\\': \\'United States of America\\', \\'lat\\': 37.775, \\'lon\\': -122.4183, \\'tz_id\\': \\'America/Los_Angeles\\', \\'localtime_epoch\\': 1739562831, \\'localtime\\': \\'2025-02-14 11:53\\'}, \\'current\\': {\\'last_updated_epoch\\': 1739562300, \\'last_updated\\': \\'2025-02-14 11:45\\', \\'temp_c\\': 12.8, \\'temp_f\\': 55.0, \\'is_day\\': 1, \\'condition\\': {\\'text\\': \\'Partly cloudy\\', \\'icon\\': \\'//cdn.weatherapi.com/weather/64x64/day/116.png\\', \\'code\\': 1003}, \\'wind_mph\\': 14.3, \\'wind_kph\\': 23.0, \\'wind_degree\\': 291, \\'wind_dir\\': \\'WNW\\', \\'pressure_mb\\': 1022.0, \\'pressure_in\\': 30.19, \\'precip_mm\\': 0.0, \\'precip_in\\': 0.0, \\'humidity\\': 77, \\'cloud\\': 75, \\'feelslike_c\\': 10.7, \\'feelslike_f\\': 51.2, \\'windchill_c\\': 6.9, \\'windchill_f\\': 44.4, \\'heatindex_c\\': 9.6, \\'heatindex_f\\': 49.4, \\'dewpoint_c\\': 6.3, \\'dewpoint_f\\': 43.3, \\'vis_km\\': 16.0, \\'vis_miles\\': 9.0, \\'uv\\': 2.5, \\'gust_mph\\': 18.7, \\'gust_kph\\': 30.1}}\"}, {\"url\": \"https://weathershogun.com/weather/usa/ca/san-francisco/480/february/2025-02-14\", \"content\": \"San Francisco, CA - Weather Forecast San Francisco, CA Today Tomorrow Hourly 7 days 30 days February San Francisco, California Weather: High Wind Warning (Strong winds expected that may cause property damage and pose a threat to life.) High Surf Warning (Issued for dangerously large waves and strong rip currents. Expect coastal flooding and hazardous swimming conditions.) Flood Watch (Flooding is possible in the near future; stay informed and prepared for potential evacuation or disruptions) Day 57° Night 41° Wind 15 mph 7 days 30 days Weather Forecast History Last Year\\'s Weather on This Day (February 14, 2024) Day 57° 52° Please note that while we strive for accuracy, the information provided may not always be correct.\"}, {\"url\": \"https://www.yahoo.com/news/february-14-2025-san-francisco-132402102.html\", \"content\": \"February 14, 2025 San Francisco Bay Area weather forecast. KRON San Francisco. Fri, February 14, 2025 at 5:24 AM PST.\"}, {\"url\": \"https://world-weather.info/forecast/usa/san_francisco/february-2025/\", \"content\": \"Weather in San Francisco in February 2025 (California) - Detailed Weather Forecast for a Month Weather World Weather in San Francisco Weather in San Francisco in February 2025 San Francisco Weather Forecast for February 2025, is based on previous years\\' statistical data. +59°+50° +59°+52° +59°+50° +61°+52° +59°+50° +61°+50° +61°+52° +63°+52° +61°+52° +61°+50° +61°+50° +61°+50° +59°+50° +59°+50° +61°+50° +61°+52° +59°+50° +59°+48° +57°+48° +59°+50° +59°+48° +59°+50° +57°+46° +61°+50° +61°+50° +59°+50° +59°+48° +59°+50° Extended weather forecast in San Francisco HourlyWeek10-Day14-Day30-DayYear Weather in large and nearby cities Weather in Washington, D.C.+41° Sacramento+55° Pleasanton+55° Redwood City+55° San Leandro+55° San Mateo+54° San Rafael+52° San Ramon+52° South San Francisco+54° Vallejo+50° Palo Alto+55° Pacifica+55° Berkeley+54° Castro Valley+55° Concord+52° Daly City+54° Noverd+52° Sign Hill+54° world\\'s temperature today day day Temperature units\"}]', additional_kwargs={}, response_metadata={})]}\n",
      "\n",
      "DEBUG EVENT: {'steps': [AgentStep(action=AgentAction(tool='_Exception', tool_input=\"Invalid Format: Missing 'Action Input:' after 'Action:'\", log='I have found multiple sources with the current weather information for San Francisco.\\nThought: I should review the structured JSON results to extract the necessary details.\\nAction: Review the structured JSON results'), observation=\"Invalid Format: Missing 'Action Input:' after 'Action:'\")], 'messages': [HumanMessage(content=\"Invalid Format: Missing 'Action Input:' after 'Action:'\", additional_kwargs={}, response_metadata={})]}\n",
      "\n",
      "DEBUG EVENT: {'actions': [AgentAction(tool='Review the structured JSON results', tool_input='[{\\'url\\': \\'https://www.weatherapi.com/\\', \\'content\\': \"{\\'location\\': {\\'name\\': \\'San Francisco\\', \\'region\\': \\'California\\', \\'country\\': \\'United States of America\\', \\'lat\\': 37.775, \\'lon\\': -122.4183, \\'tz_id\\': \\'America/Los_Angeles\\', \\'localtime_epoch\\': 1739562831, \\'localtime\\': \\'2025-02-14 11:53\\'}, \\'current\\': {\\'last_updated_epoch\\': 1739562300, \\'last_updated\\': \\'2025-02-14 11:45\\', \\'temp_c\\': 12.8, \\'temp_f\\': 55.0, \\'is_day\\': 1, \\'condition\\': {\\'text\\': \\'Partly cloudy\\', \\'icon\\': \\'//cdn.weatherapi.com/weather/64x64/day/116.png\\', \\'code\\': 1003}, \\'wind_mph\\': 14.3, \\'wind_kph\\': 23.0, \\'wind_degree\\': 291, \\'wind_dir\\': \\'WNW\\', \\'pressure_mb\\': 1022.0, \\'pressure_in\\': 30.19, \\'precip_mm\\': 0.0, \\'precip_in\\': 0.0, \\'humidity\\': 77, \\'cloud\\': 75, \\'feelslike_c\\': 10.7, \\'feelslike_f\\': 51.2, \\'windchill_c\\': 6.9, \\'windchill_f\\': 44.4, \\'heatindex_c\\': 9.6, \\'heatindex_f\\': 49.4, \\'dewpoint_c\\': 6.3, \\'dewpoint_f\\': 43.3, \\'vis_km\\': 16.0, \\'vis_miles\\': 9.0, \\'uv\\': 2.5, \\'gust_mph\\': 18.7, \\'gust_kph\\': 30.1}}\"}, {\\'url\\': \\'https://weathershogun.com/weather/usa/ca/san-francisco/480/february/2025-02-14\\', \\'content\\': \"San Francisco, CA - Weather Forecast San Francisco, CA Today Tomorrow Hourly 7 days 30 days February San Francisco, California Weather: High Wind Warning (Strong winds expected that may cause property damage and pose a threat to life.) High Surf Warning (Issued for dangerously large waves and strong rip currents. Expect coastal flooding and hazardous swimming conditions.) Flood Watch (Flooding is possible in the near future; stay informed and prepared for potential evacuation or disruptions) Day 57° Night 41° Wind 15 mph 7 days 30 days Weather Forecast History Last Year\\'s Weather on This Day (February 14, 2024) Day 57° 52° Please note that while we strive for accuracy, the information provided may not always be correct.\"}, {\\'url\\': \\'https://www.yahoo.com/news/february-14-2025-san-francisco-132402102.html\\', \\'content\\': \\'February 14, 2025 San Francisco Bay Area weather forecast. KRON San Francisco. Fri, February 14, 2025 at 5:24 AM PST.\\'}, {\\'url\\': \\'https://world-weather.info/forecast/usa/san_francisco/february-2025/\\', \\'content\\': \"Weather in San Francisco in February 2025 (California) - Detailed Weather Forecast for a Month Weather World Weather in San Francisco Weather in San Francisco in February 2025 San Francisco Weather Forecast for February 2025, is based on previous years\\' statistical data. +59°+50° +59°+52° +59°+50° +61°+52° +59°+50° +61°+50° +61°+52° +63°+52° +61°+52° +61°+50° +61°+50° +61°+50° +59°+50° +59°+50° +61°+50° +61°+52° +59°+50° +59°+48° +57°+48° +59°+50° +59°+48° +59°+50° +57°+46° +61°+50° +61°+50° +59°+50° +59°+48° +59°+50° Extended weather forecast in San Francisco HourlyWeek10-Day14-Day30-DayYear Weather in large and nearby cities Weather in Washington, D.C.+41° Sacramento+55° Pleasanton+55° Redwood City+55° San Leandro+55° San Mateo+54° San Rafael+52° San Ramon+52° South San Francisco+54° Vallejo+50° Palo Alto+55° Pacifica+55° Berkeley+54° Castro Valley+55° Concord+52° Daly City+54° Noverd+52° Sign Hill+54° world\\'s temperature today day day Temperature units\"}]', log='I need to provide the necessary \\'Action Input\\' to review the structured JSON results.\\nAction: Review the structured JSON results\\nAction Input: [{\\'url\\': \\'https://www.weatherapi.com/\\', \\'content\\': \"{\\'location\\': {\\'name\\': \\'San Francisco\\', \\'region\\': \\'California\\', \\'country\\': \\'United States of America\\', \\'lat\\': 37.775, \\'lon\\': -122.4183, \\'tz_id\\': \\'America/Los_Angeles\\', \\'localtime_epoch\\': 1739562831, \\'localtime\\': \\'2025-02-14 11:53\\'}, \\'current\\': {\\'last_updated_epoch\\': 1739562300, \\'last_updated\\': \\'2025-02-14 11:45\\', \\'temp_c\\': 12.8, \\'temp_f\\': 55.0, \\'is_day\\': 1, \\'condition\\': {\\'text\\': \\'Partly cloudy\\', \\'icon\\': \\'//cdn.weatherapi.com/weather/64x64/day/116.png\\', \\'code\\': 1003}, \\'wind_mph\\': 14.3, \\'wind_kph\\': 23.0, \\'wind_degree\\': 291, \\'wind_dir\\': \\'WNW\\', \\'pressure_mb\\': 1022.0, \\'pressure_in\\': 30.19, \\'precip_mm\\': 0.0, \\'precip_in\\': 0.0, \\'humidity\\': 77, \\'cloud\\': 75, \\'feelslike_c\\': 10.7, \\'feelslike_f\\': 51.2, \\'windchill_c\\': 6.9, \\'windchill_f\\': 44.4, \\'heatindex_c\\': 9.6, \\'heatindex_f\\': 49.4, \\'dewpoint_c\\': 6.3, \\'dewpoint_f\\': 43.3, \\'vis_km\\': 16.0, \\'vis_miles\\': 9.0, \\'uv\\': 2.5, \\'gust_mph\\': 18.7, \\'gust_kph\\': 30.1}}\"}, {\\'url\\': \\'https://weathershogun.com/weather/usa/ca/san-francisco/480/february/2025-02-14\\', \\'content\\': \"San Francisco, CA - Weather Forecast San Francisco, CA Today Tomorrow Hourly 7 days 30 days February San Francisco, California Weather: High Wind Warning (Strong winds expected that may cause property damage and pose a threat to life.) High Surf Warning (Issued for dangerously large waves and strong rip currents. Expect coastal flooding and hazardous swimming conditions.) Flood Watch (Flooding is possible in the near future; stay informed and prepared for potential evacuation or disruptions) Day 57° Night 41° Wind 15 mph 7 days 30 days Weather Forecast History Last Year\\'s Weather on This Day (February 14, 2024) Day 57° 52° Please note that while we strive for accuracy, the information provided may not always be correct.\"}, {\\'url\\': \\'https://www.yahoo.com/news/february-14-2025-san-francisco-132402102.html\\', \\'content\\': \\'February 14, 2025 San Francisco Bay Area weather forecast. KRON San Francisco. Fri, February 14, 2025 at 5:24 AM PST.\\'}, {\\'url\\': \\'https://world-weather.info/forecast/usa/san_francisco/february-2025/\\', \\'content\\': \"Weather in San Francisco in February 2025 (California) - Detailed Weather Forecast for a Month Weather World Weather in San Francisco Weather in San Francisco in February 2025 San Francisco Weather Forecast for February 2025, is based on previous years\\' statistical data. +59°+50° +59°+52° +59°+50° +61°+52° +59°+50° +61°+50° +61°+52° +63°+52° +61°+52° +61°+50° +61°+50° +61°+50° +59°+50° +59°+50° +61°+50° +61°+52° +59°+50° +59°+48° +57°+48° +59°+50° +59°+48° +59°+50° +57°+46° +61°+50° +61°+50° +59°+50° +59°+48° +59°+50° Extended weather forecast in San Francisco HourlyWeek10-Day14-Day30-DayYear Weather in large and nearby cities Weather in Washington, D.C.+41° Sacramento+55° Pleasanton+55° Redwood City+55° San Leandro+55° San Mateo+54° San Rafael+52° San Ramon+52° South San Francisco+54° Vallejo+50° Palo Alto+55° Pacifica+55° Berkeley+54° Castro Valley+55° Concord+52° Daly City+54° Noverd+52° Sign Hill+54° world\\'s temperature today day day Temperature units\"}]')], 'messages': [AIMessage(content='I need to provide the necessary \\'Action Input\\' to review the structured JSON results.\\nAction: Review the structured JSON results\\nAction Input: [{\\'url\\': \\'https://www.weatherapi.com/\\', \\'content\\': \"{\\'location\\': {\\'name\\': \\'San Francisco\\', \\'region\\': \\'California\\', \\'country\\': \\'United States of America\\', \\'lat\\': 37.775, \\'lon\\': -122.4183, \\'tz_id\\': \\'America/Los_Angeles\\', \\'localtime_epoch\\': 1739562831, \\'localtime\\': \\'2025-02-14 11:53\\'}, \\'current\\': {\\'last_updated_epoch\\': 1739562300, \\'last_updated\\': \\'2025-02-14 11:45\\', \\'temp_c\\': 12.8, \\'temp_f\\': 55.0, \\'is_day\\': 1, \\'condition\\': {\\'text\\': \\'Partly cloudy\\', \\'icon\\': \\'//cdn.weatherapi.com/weather/64x64/day/116.png\\', \\'code\\': 1003}, \\'wind_mph\\': 14.3, \\'wind_kph\\': 23.0, \\'wind_degree\\': 291, \\'wind_dir\\': \\'WNW\\', \\'pressure_mb\\': 1022.0, \\'pressure_in\\': 30.19, \\'precip_mm\\': 0.0, \\'precip_in\\': 0.0, \\'humidity\\': 77, \\'cloud\\': 75, \\'feelslike_c\\': 10.7, \\'feelslike_f\\': 51.2, \\'windchill_c\\': 6.9, \\'windchill_f\\': 44.4, \\'heatindex_c\\': 9.6, \\'heatindex_f\\': 49.4, \\'dewpoint_c\\': 6.3, \\'dewpoint_f\\': 43.3, \\'vis_km\\': 16.0, \\'vis_miles\\': 9.0, \\'uv\\': 2.5, \\'gust_mph\\': 18.7, \\'gust_kph\\': 30.1}}\"}, {\\'url\\': \\'https://weathershogun.com/weather/usa/ca/san-francisco/480/february/2025-02-14\\', \\'content\\': \"San Francisco, CA - Weather Forecast San Francisco, CA Today Tomorrow Hourly 7 days 30 days February San Francisco, California Weather: High Wind Warning (Strong winds expected that may cause property damage and pose a threat to life.) High Surf Warning (Issued for dangerously large waves and strong rip currents. Expect coastal flooding and hazardous swimming conditions.) Flood Watch (Flooding is possible in the near future; stay informed and prepared for potential evacuation or disruptions) Day 57° Night 41° Wind 15 mph 7 days 30 days Weather Forecast History Last Year\\'s Weather on This Day (February 14, 2024) Day 57° 52° Please note that while we strive for accuracy, the information provided may not always be correct.\"}, {\\'url\\': \\'https://www.yahoo.com/news/february-14-2025-san-francisco-132402102.html\\', \\'content\\': \\'February 14, 2025 San Francisco Bay Area weather forecast. KRON San Francisco. Fri, February 14, 2025 at 5:24 AM PST.\\'}, {\\'url\\': \\'https://world-weather.info/forecast/usa/san_francisco/february-2025/\\', \\'content\\': \"Weather in San Francisco in February 2025 (California) - Detailed Weather Forecast for a Month Weather World Weather in San Francisco Weather in San Francisco in February 2025 San Francisco Weather Forecast for February 2025, is based on previous years\\' statistical data. +59°+50° +59°+52° +59°+50° +61°+52° +59°+50° +61°+50° +61°+52° +63°+52° +61°+52° +61°+50° +61°+50° +61°+50° +59°+50° +59°+50° +61°+50° +61°+52° +59°+50° +59°+48° +57°+48° +59°+50° +59°+48° +59°+50° +57°+46° +61°+50° +61°+50° +59°+50° +59°+48° +59°+50° Extended weather forecast in San Francisco HourlyWeek10-Day14-Day30-DayYear Weather in large and nearby cities Weather in Washington, D.C.+41° Sacramento+55° Pleasanton+55° Redwood City+55° San Leandro+55° San Mateo+54° San Rafael+52° San Ramon+52° South San Francisco+54° Vallejo+50° Palo Alto+55° Pacifica+55° Berkeley+54° Castro Valley+55° Concord+52° Daly City+54° Noverd+52° Sign Hill+54° world\\'s temperature today day day Temperature units\"}]', additional_kwargs={}, response_metadata={})]}\n",
      "\n",
      "DEBUG EVENT: {'steps': [AgentStep(action=AgentAction(tool='Review the structured JSON results', tool_input='[{\\'url\\': \\'https://www.weatherapi.com/\\', \\'content\\': \"{\\'location\\': {\\'name\\': \\'San Francisco\\', \\'region\\': \\'California\\', \\'country\\': \\'United States of America\\', \\'lat\\': 37.775, \\'lon\\': -122.4183, \\'tz_id\\': \\'America/Los_Angeles\\', \\'localtime_epoch\\': 1739562831, \\'localtime\\': \\'2025-02-14 11:53\\'}, \\'current\\': {\\'last_updated_epoch\\': 1739562300, \\'last_updated\\': \\'2025-02-14 11:45\\', \\'temp_c\\': 12.8, \\'temp_f\\': 55.0, \\'is_day\\': 1, \\'condition\\': {\\'text\\': \\'Partly cloudy\\', \\'icon\\': \\'//cdn.weatherapi.com/weather/64x64/day/116.png\\', \\'code\\': 1003}, \\'wind_mph\\': 14.3, \\'wind_kph\\': 23.0, \\'wind_degree\\': 291, \\'wind_dir\\': \\'WNW\\', \\'pressure_mb\\': 1022.0, \\'pressure_in\\': 30.19, \\'precip_mm\\': 0.0, \\'precip_in\\': 0.0, \\'humidity\\': 77, \\'cloud\\': 75, \\'feelslike_c\\': 10.7, \\'feelslike_f\\': 51.2, \\'windchill_c\\': 6.9, \\'windchill_f\\': 44.4, \\'heatindex_c\\': 9.6, \\'heatindex_f\\': 49.4, \\'dewpoint_c\\': 6.3, \\'dewpoint_f\\': 43.3, \\'vis_km\\': 16.0, \\'vis_miles\\': 9.0, \\'uv\\': 2.5, \\'gust_mph\\': 18.7, \\'gust_kph\\': 30.1}}\"}, {\\'url\\': \\'https://weathershogun.com/weather/usa/ca/san-francisco/480/february/2025-02-14\\', \\'content\\': \"San Francisco, CA - Weather Forecast San Francisco, CA Today Tomorrow Hourly 7 days 30 days February San Francisco, California Weather: High Wind Warning (Strong winds expected that may cause property damage and pose a threat to life.) High Surf Warning (Issued for dangerously large waves and strong rip currents. Expect coastal flooding and hazardous swimming conditions.) Flood Watch (Flooding is possible in the near future; stay informed and prepared for potential evacuation or disruptions) Day 57° Night 41° Wind 15 mph 7 days 30 days Weather Forecast History Last Year\\'s Weather on This Day (February 14, 2024) Day 57° 52° Please note that while we strive for accuracy, the information provided may not always be correct.\"}, {\\'url\\': \\'https://www.yahoo.com/news/february-14-2025-san-francisco-132402102.html\\', \\'content\\': \\'February 14, 2025 San Francisco Bay Area weather forecast. KRON San Francisco. Fri, February 14, 2025 at 5:24 AM PST.\\'}, {\\'url\\': \\'https://world-weather.info/forecast/usa/san_francisco/february-2025/\\', \\'content\\': \"Weather in San Francisco in February 2025 (California) - Detailed Weather Forecast for a Month Weather World Weather in San Francisco Weather in San Francisco in February 2025 San Francisco Weather Forecast for February 2025, is based on previous years\\' statistical data. +59°+50° +59°+52° +59°+50° +61°+52° +59°+50° +61°+50° +61°+52° +63°+52° +61°+52° +61°+50° +61°+50° +61°+50° +59°+50° +59°+50° +61°+50° +61°+52° +59°+50° +59°+48° +57°+48° +59°+50° +59°+48° +59°+50° +57°+46° +61°+50° +61°+50° +59°+50° +59°+48° +59°+50° Extended weather forecast in San Francisco HourlyWeek10-Day14-Day30-DayYear Weather in large and nearby cities Weather in Washington, D.C.+41° Sacramento+55° Pleasanton+55° Redwood City+55° San Leandro+55° San Mateo+54° San Rafael+52° San Ramon+52° South San Francisco+54° Vallejo+50° Palo Alto+55° Pacifica+55° Berkeley+54° Castro Valley+55° Concord+52° Daly City+54° Noverd+52° Sign Hill+54° world\\'s temperature today day day Temperature units\"}]', log='I need to provide the necessary \\'Action Input\\' to review the structured JSON results.\\nAction: Review the structured JSON results\\nAction Input: [{\\'url\\': \\'https://www.weatherapi.com/\\', \\'content\\': \"{\\'location\\': {\\'name\\': \\'San Francisco\\', \\'region\\': \\'California\\', \\'country\\': \\'United States of America\\', \\'lat\\': 37.775, \\'lon\\': -122.4183, \\'tz_id\\': \\'America/Los_Angeles\\', \\'localtime_epoch\\': 1739562831, \\'localtime\\': \\'2025-02-14 11:53\\'}, \\'current\\': {\\'last_updated_epoch\\': 1739562300, \\'last_updated\\': \\'2025-02-14 11:45\\', \\'temp_c\\': 12.8, \\'temp_f\\': 55.0, \\'is_day\\': 1, \\'condition\\': {\\'text\\': \\'Partly cloudy\\', \\'icon\\': \\'//cdn.weatherapi.com/weather/64x64/day/116.png\\', \\'code\\': 1003}, \\'wind_mph\\': 14.3, \\'wind_kph\\': 23.0, \\'wind_degree\\': 291, \\'wind_dir\\': \\'WNW\\', \\'pressure_mb\\': 1022.0, \\'pressure_in\\': 30.19, \\'precip_mm\\': 0.0, \\'precip_in\\': 0.0, \\'humidity\\': 77, \\'cloud\\': 75, \\'feelslike_c\\': 10.7, \\'feelslike_f\\': 51.2, \\'windchill_c\\': 6.9, \\'windchill_f\\': 44.4, \\'heatindex_c\\': 9.6, \\'heatindex_f\\': 49.4, \\'dewpoint_c\\': 6.3, \\'dewpoint_f\\': 43.3, \\'vis_km\\': 16.0, \\'vis_miles\\': 9.0, \\'uv\\': 2.5, \\'gust_mph\\': 18.7, \\'gust_kph\\': 30.1}}\"}, {\\'url\\': \\'https://weathershogun.com/weather/usa/ca/san-francisco/480/february/2025-02-14\\', \\'content\\': \"San Francisco, CA - Weather Forecast San Francisco, CA Today Tomorrow Hourly 7 days 30 days February San Francisco, California Weather: High Wind Warning (Strong winds expected that may cause property damage and pose a threat to life.) High Surf Warning (Issued for dangerously large waves and strong rip currents. Expect coastal flooding and hazardous swimming conditions.) Flood Watch (Flooding is possible in the near future; stay informed and prepared for potential evacuation or disruptions) Day 57° Night 41° Wind 15 mph 7 days 30 days Weather Forecast History Last Year\\'s Weather on This Day (February 14, 2024) Day 57° 52° Please note that while we strive for accuracy, the information provided may not always be correct.\"}, {\\'url\\': \\'https://www.yahoo.com/news/february-14-2025-san-francisco-132402102.html\\', \\'content\\': \\'February 14, 2025 San Francisco Bay Area weather forecast. KRON San Francisco. Fri, February 14, 2025 at 5:24 AM PST.\\'}, {\\'url\\': \\'https://world-weather.info/forecast/usa/san_francisco/february-2025/\\', \\'content\\': \"Weather in San Francisco in February 2025 (California) - Detailed Weather Forecast for a Month Weather World Weather in San Francisco Weather in San Francisco in February 2025 San Francisco Weather Forecast for February 2025, is based on previous years\\' statistical data. +59°+50° +59°+52° +59°+50° +61°+52° +59°+50° +61°+50° +61°+52° +63°+52° +61°+52° +61°+50° +61°+50° +61°+50° +59°+50° +59°+50° +61°+50° +61°+52° +59°+50° +59°+48° +57°+48° +59°+50° +59°+48° +59°+50° +57°+46° +61°+50° +61°+50° +59°+50° +59°+48° +59°+50° Extended weather forecast in San Francisco HourlyWeek10-Day14-Day30-DayYear Weather in large and nearby cities Weather in Washington, D.C.+41° Sacramento+55° Pleasanton+55° Redwood City+55° San Leandro+55° San Mateo+54° San Rafael+52° San Ramon+52° South San Francisco+54° Vallejo+50° Palo Alto+55° Pacifica+55° Berkeley+54° Castro Valley+55° Concord+52° Daly City+54° Noverd+52° Sign Hill+54° world\\'s temperature today day day Temperature units\"}]'), observation='Review the structured JSON results is not a valid tool, try one of [tavily_search_results_json].')], 'messages': [HumanMessage(content='Review the structured JSON results is not a valid tool, try one of [tavily_search_results_json].', additional_kwargs={}, response_metadata={})]}\n",
      "\n",
      "DEBUG EVENT: {'actions': [AgentAction(tool='tavily_search_results_json', tool_input=\"'current weather in San Francisco'\", log=\"I should use the Tavily tool to extract the necessary weather information from the structured JSON results.\\nAction: tavily_search_results_json\\nAction Input: 'current weather in San Francisco'\")], 'messages': [AIMessage(content=\"I should use the Tavily tool to extract the necessary weather information from the structured JSON results.\\nAction: tavily_search_results_json\\nAction Input: 'current weather in San Francisco'\", additional_kwargs={}, response_metadata={})]}\n",
      "\n",
      "DEBUG EVENT: {'steps': [AgentStep(action=AgentAction(tool='tavily_search_results_json', tool_input=\"'current weather in San Francisco'\", log=\"I should use the Tavily tool to extract the necessary weather information from the structured JSON results.\\nAction: tavily_search_results_json\\nAction Input: 'current weather in San Francisco'\"), observation=[{'url': 'https://www.weatherapi.com/', 'content': \"{'location': {'name': 'San Francisco', 'region': 'California', 'country': 'United States of America', 'lat': 37.775, 'lon': -122.4183, 'tz_id': 'America/Los_Angeles', 'localtime_epoch': 1739562831, 'localtime': '2025-02-14 11:53'}, 'current': {'last_updated_epoch': 1739562300, 'last_updated': '2025-02-14 11:45', 'temp_c': 12.8, 'temp_f': 55.0, 'is_day': 1, 'condition': {'text': 'Partly cloudy', 'icon': '//cdn.weatherapi.com/weather/64x64/day/116.png', 'code': 1003}, 'wind_mph': 14.3, 'wind_kph': 23.0, 'wind_degree': 291, 'wind_dir': 'WNW', 'pressure_mb': 1022.0, 'pressure_in': 30.19, 'precip_mm': 0.0, 'precip_in': 0.0, 'humidity': 77, 'cloud': 75, 'feelslike_c': 10.7, 'feelslike_f': 51.2, 'windchill_c': 6.9, 'windchill_f': 44.4, 'heatindex_c': 9.6, 'heatindex_f': 49.4, 'dewpoint_c': 6.3, 'dewpoint_f': 43.3, 'vis_km': 16.0, 'vis_miles': 9.0, 'uv': 2.5, 'gust_mph': 18.7, 'gust_kph': 30.1}}\"}, {'url': 'https://weathershogun.com/weather/usa/ca/san-francisco/480/february/2025-02-14', 'content': \"San Francisco, CA - Weather Forecast San Francisco, CA Today Tomorrow Hourly 7 days 30 days February San Francisco, California Weather: High Wind Warning (Strong winds expected that may cause property damage and pose a threat to life.) High Surf Warning (Issued for dangerously large waves and strong rip currents. Expect coastal flooding and hazardous swimming conditions.) Flood Watch (Flooding is possible in the near future; stay informed and prepared for potential evacuation or disruptions) Day 57° Night 41° Wind 15 mph 7 days 30 days Weather Forecast History Last Year's Weather on This Day (February 14, 2024) Day 57° 52° Please note that while we strive for accuracy, the information provided may not always be correct.\"}, {'url': 'https://www.yahoo.com/news/february-14-2025-san-francisco-132402102.html', 'content': 'February 14, 2025 San Francisco Bay Area weather forecast. KRON San Francisco. Fri, February 14, 2025 at 5:24 AM PST.'}, {'url': 'https://world-weather.info/forecast/usa/san_francisco/february-2025/', 'content': \"Weather in San Francisco in February 2025 (California) - Detailed Weather Forecast for a Month Weather World Weather in San Francisco Weather in San Francisco in February 2025 San Francisco Weather Forecast for February 2025, is based on previous years' statistical data. +59°+50° +59°+52° +59°+50° +61°+52° +59°+50° +61°+50° +61°+52° +63°+52° +61°+52° +61°+50° +61°+50° +61°+50° +59°+50° +59°+50° +61°+50° +61°+52° +59°+50° +59°+48° +57°+48° +59°+50° +59°+48° +59°+50° +57°+46° +61°+50° +61°+50° +59°+50° +59°+48° +59°+50° Extended weather forecast in San Francisco HourlyWeek10-Day14-Day30-DayYear Weather in large and nearby cities Weather in Washington, D.C.+41° Sacramento+55° Pleasanton+55° Redwood City+55° San Leandro+55° San Mateo+54° San Rafael+52° San Ramon+52° South San Francisco+54° Vallejo+50° Palo Alto+55° Pacifica+55° Berkeley+54° Castro Valley+55° Concord+52° Daly City+54° Noverd+52° Sign Hill+54° world's temperature today day day Temperature units\"}])], 'messages': [HumanMessage(content='[{\"url\": \"https://www.weatherapi.com/\", \"content\": \"{\\'location\\': {\\'name\\': \\'San Francisco\\', \\'region\\': \\'California\\', \\'country\\': \\'United States of America\\', \\'lat\\': 37.775, \\'lon\\': -122.4183, \\'tz_id\\': \\'America/Los_Angeles\\', \\'localtime_epoch\\': 1739562831, \\'localtime\\': \\'2025-02-14 11:53\\'}, \\'current\\': {\\'last_updated_epoch\\': 1739562300, \\'last_updated\\': \\'2025-02-14 11:45\\', \\'temp_c\\': 12.8, \\'temp_f\\': 55.0, \\'is_day\\': 1, \\'condition\\': {\\'text\\': \\'Partly cloudy\\', \\'icon\\': \\'//cdn.weatherapi.com/weather/64x64/day/116.png\\', \\'code\\': 1003}, \\'wind_mph\\': 14.3, \\'wind_kph\\': 23.0, \\'wind_degree\\': 291, \\'wind_dir\\': \\'WNW\\', \\'pressure_mb\\': 1022.0, \\'pressure_in\\': 30.19, \\'precip_mm\\': 0.0, \\'precip_in\\': 0.0, \\'humidity\\': 77, \\'cloud\\': 75, \\'feelslike_c\\': 10.7, \\'feelslike_f\\': 51.2, \\'windchill_c\\': 6.9, \\'windchill_f\\': 44.4, \\'heatindex_c\\': 9.6, \\'heatindex_f\\': 49.4, \\'dewpoint_c\\': 6.3, \\'dewpoint_f\\': 43.3, \\'vis_km\\': 16.0, \\'vis_miles\\': 9.0, \\'uv\\': 2.5, \\'gust_mph\\': 18.7, \\'gust_kph\\': 30.1}}\"}, {\"url\": \"https://weathershogun.com/weather/usa/ca/san-francisco/480/february/2025-02-14\", \"content\": \"San Francisco, CA - Weather Forecast San Francisco, CA Today Tomorrow Hourly 7 days 30 days February San Francisco, California Weather: High Wind Warning (Strong winds expected that may cause property damage and pose a threat to life.) High Surf Warning (Issued for dangerously large waves and strong rip currents. Expect coastal flooding and hazardous swimming conditions.) Flood Watch (Flooding is possible in the near future; stay informed and prepared for potential evacuation or disruptions) Day 57° Night 41° Wind 15 mph 7 days 30 days Weather Forecast History Last Year\\'s Weather on This Day (February 14, 2024) Day 57° 52° Please note that while we strive for accuracy, the information provided may not always be correct.\"}, {\"url\": \"https://www.yahoo.com/news/february-14-2025-san-francisco-132402102.html\", \"content\": \"February 14, 2025 San Francisco Bay Area weather forecast. KRON San Francisco. Fri, February 14, 2025 at 5:24 AM PST.\"}, {\"url\": \"https://world-weather.info/forecast/usa/san_francisco/february-2025/\", \"content\": \"Weather in San Francisco in February 2025 (California) - Detailed Weather Forecast for a Month Weather World Weather in San Francisco Weather in San Francisco in February 2025 San Francisco Weather Forecast for February 2025, is based on previous years\\' statistical data. +59°+50° +59°+52° +59°+50° +61°+52° +59°+50° +61°+50° +61°+52° +63°+52° +61°+52° +61°+50° +61°+50° +61°+50° +59°+50° +59°+50° +61°+50° +61°+52° +59°+50° +59°+48° +57°+48° +59°+50° +59°+48° +59°+50° +57°+46° +61°+50° +61°+50° +59°+50° +59°+48° +59°+50° Extended weather forecast in San Francisco HourlyWeek10-Day14-Day30-DayYear Weather in large and nearby cities Weather in Washington, D.C.+41° Sacramento+55° Pleasanton+55° Redwood City+55° San Leandro+55° San Mateo+54° San Rafael+52° San Ramon+52° South San Francisco+54° Vallejo+50° Palo Alto+55° Pacifica+55° Berkeley+54° Castro Valley+55° Concord+52° Daly City+54° Noverd+52° Sign Hill+54° world\\'s temperature today day day Temperature units\"}]', additional_kwargs={}, response_metadata={})]}\n",
      "\n",
      "DEBUG EVENT: {'actions': [AgentAction(tool='Extract current weather details', tool_input=\"[{'location': {'name': 'San Francisco', 'region': 'California', 'country': 'United States of America', 'lat': 37.775, 'lon': -122.4183, 'tz_id': 'America/Los_Angeles', 'localtime_epoch': 1739562831, 'localtime': '2025-02-14 11:53'}, 'current': {'last_updated_epoch': 1739562300, 'last_updated': '2025-02-14 11:45', 'temp_c': 12.8, 'temp_f': 55.0, 'is_day': 1, 'condition': {'text': 'Partly cloudy', 'icon': '//cdn.weatherapi.com/weather/64x64/day/116.png', 'code': 1003}, 'wind_mph': 14.3, 'wind_kph': 23.0, 'wind_degree': 291, 'wind_dir': 'WNW', 'pressure_mb': 1022.0, 'pressure_in': 30.19, 'precip_mm': 0.0, 'precip_in': 0.0, 'humidity': 77, 'cloud': 75, 'feelslike_c': 10.7, 'feelslike_f': 51.2, 'windchill_c': 6.9, 'windchill_f': 44.4, 'heatindex_c': 9.6, 'heatindex_f': 49.4, 'dewpoint_c': 6.3, 'dewpoint_f': 43.3, 'vis_km': 16.0, 'vis_miles': 9.0, 'uv': 2.5, 'gust_mph': 18.7, 'gust_kph': 30.1}]\", log=\"I should extract the specific current weather details for San Francisco from the structured JSON results.\\nAction: Extract current weather details\\nAction Input: [{'location': {'name': 'San Francisco', 'region': 'California', 'country': 'United States of America', 'lat': 37.775, 'lon': -122.4183, 'tz_id': 'America/Los_Angeles', 'localtime_epoch': 1739562831, 'localtime': '2025-02-14 11:53'}, 'current': {'last_updated_epoch': 1739562300, 'last_updated': '2025-02-14 11:45', 'temp_c': 12.8, 'temp_f': 55.0, 'is_day': 1, 'condition': {'text': 'Partly cloudy', 'icon': '//cdn.weatherapi.com/weather/64x64/day/116.png', 'code': 1003}, 'wind_mph': 14.3, 'wind_kph': 23.0, 'wind_degree': 291, 'wind_dir': 'WNW', 'pressure_mb': 1022.0, 'pressure_in': 30.19, 'precip_mm': 0.0, 'precip_in': 0.0, 'humidity': 77, 'cloud': 75, 'feelslike_c': 10.7, 'feelslike_f': 51.2, 'windchill_c': 6.9, 'windchill_f': 44.4, 'heatindex_c': 9.6, 'heatindex_f': 49.4, 'dewpoint_c': 6.3, 'dewpoint_f': 43.3, 'vis_km': 16.0, 'vis_miles': 9.0, 'uv': 2.5, 'gust_mph': 18.7, 'gust_kph': 30.1}]\")], 'messages': [AIMessage(content=\"I should extract the specific current weather details for San Francisco from the structured JSON results.\\nAction: Extract current weather details\\nAction Input: [{'location': {'name': 'San Francisco', 'region': 'California', 'country': 'United States of America', 'lat': 37.775, 'lon': -122.4183, 'tz_id': 'America/Los_Angeles', 'localtime_epoch': 1739562831, 'localtime': '2025-02-14 11:53'}, 'current': {'last_updated_epoch': 1739562300, 'last_updated': '2025-02-14 11:45', 'temp_c': 12.8, 'temp_f': 55.0, 'is_day': 1, 'condition': {'text': 'Partly cloudy', 'icon': '//cdn.weatherapi.com/weather/64x64/day/116.png', 'code': 1003}, 'wind_mph': 14.3, 'wind_kph': 23.0, 'wind_degree': 291, 'wind_dir': 'WNW', 'pressure_mb': 1022.0, 'pressure_in': 30.19, 'precip_mm': 0.0, 'precip_in': 0.0, 'humidity': 77, 'cloud': 75, 'feelslike_c': 10.7, 'feelslike_f': 51.2, 'windchill_c': 6.9, 'windchill_f': 44.4, 'heatindex_c': 9.6, 'heatindex_f': 49.4, 'dewpoint_c': 6.3, 'dewpoint_f': 43.3, 'vis_km': 16.0, 'vis_miles': 9.0, 'uv': 2.5, 'gust_mph': 18.7, 'gust_kph': 30.1}]\", additional_kwargs={}, response_metadata={})]}\n",
      "\n",
      "DEBUG EVENT: {'steps': [AgentStep(action=AgentAction(tool='Extract current weather details', tool_input=\"[{'location': {'name': 'San Francisco', 'region': 'California', 'country': 'United States of America', 'lat': 37.775, 'lon': -122.4183, 'tz_id': 'America/Los_Angeles', 'localtime_epoch': 1739562831, 'localtime': '2025-02-14 11:53'}, 'current': {'last_updated_epoch': 1739562300, 'last_updated': '2025-02-14 11:45', 'temp_c': 12.8, 'temp_f': 55.0, 'is_day': 1, 'condition': {'text': 'Partly cloudy', 'icon': '//cdn.weatherapi.com/weather/64x64/day/116.png', 'code': 1003}, 'wind_mph': 14.3, 'wind_kph': 23.0, 'wind_degree': 291, 'wind_dir': 'WNW', 'pressure_mb': 1022.0, 'pressure_in': 30.19, 'precip_mm': 0.0, 'precip_in': 0.0, 'humidity': 77, 'cloud': 75, 'feelslike_c': 10.7, 'feelslike_f': 51.2, 'windchill_c': 6.9, 'windchill_f': 44.4, 'heatindex_c': 9.6, 'heatindex_f': 49.4, 'dewpoint_c': 6.3, 'dewpoint_f': 43.3, 'vis_km': 16.0, 'vis_miles': 9.0, 'uv': 2.5, 'gust_mph': 18.7, 'gust_kph': 30.1}]\", log=\"I should extract the specific current weather details for San Francisco from the structured JSON results.\\nAction: Extract current weather details\\nAction Input: [{'location': {'name': 'San Francisco', 'region': 'California', 'country': 'United States of America', 'lat': 37.775, 'lon': -122.4183, 'tz_id': 'America/Los_Angeles', 'localtime_epoch': 1739562831, 'localtime': '2025-02-14 11:53'}, 'current': {'last_updated_epoch': 1739562300, 'last_updated': '2025-02-14 11:45', 'temp_c': 12.8, 'temp_f': 55.0, 'is_day': 1, 'condition': {'text': 'Partly cloudy', 'icon': '//cdn.weatherapi.com/weather/64x64/day/116.png', 'code': 1003}, 'wind_mph': 14.3, 'wind_kph': 23.0, 'wind_degree': 291, 'wind_dir': 'WNW', 'pressure_mb': 1022.0, 'pressure_in': 30.19, 'precip_mm': 0.0, 'precip_in': 0.0, 'humidity': 77, 'cloud': 75, 'feelslike_c': 10.7, 'feelslike_f': 51.2, 'windchill_c': 6.9, 'windchill_f': 44.4, 'heatindex_c': 9.6, 'heatindex_f': 49.4, 'dewpoint_c': 6.3, 'dewpoint_f': 43.3, 'vis_km': 16.0, 'vis_miles': 9.0, 'uv': 2.5, 'gust_mph': 18.7, 'gust_kph': 30.1}]\"), observation='Extract current weather details is not a valid tool, try one of [tavily_search_results_json].')], 'messages': [HumanMessage(content='Extract current weather details is not a valid tool, try one of [tavily_search_results_json].', additional_kwargs={}, response_metadata={})]}\n",
      "\n",
      "DEBUG EVENT: {'actions': [AgentAction(tool='tavily_search_results_json', tool_input=\"[{'location': {'name': 'San Francisco', 'region': 'California', 'country': 'United States of America', 'lat': 37.775, 'lon': -122.4183, 'tz_id': 'America/Los_Angeles', 'localtime_epoch': 1739562831, 'localtime': '2025-02-14 11:53'}, 'current': {'last_updated_epoch': 1739562300, 'last_updated': '2025-02-14 11:45', 'temp_c': 12.8, 'temp_f': 55.0, 'is_day': 1, 'condition': {'text': 'Partly cloudy', 'icon': '//cdn.weatherapi.com/weather/64x64/day/116.png', 'code': 1003}, 'wind_mph': 14.3, 'wind_kph': 23.0, 'wind_degree': 291, 'wind_dir': 'WNW', 'pressure_mb': 1022.0, 'pressure_in': 30.19, 'precip_mm': 0.0, 'precip_in': 0.0, 'humidity': 77, 'cloud': 75, 'feelslike_c': 10.7, 'feelslike_f': 51.2, 'windchill_c': 6.9, 'windchill_f': 44.4, 'heatindex_c': 9.6, 'heatindex_f': 49.4, 'dewpoint_c': 6.3, 'dewpoint_f': 43.3, 'vis_km': 16.0, 'vis_miles': 9.0, 'uv': 2.5, 'gust_mph': 18.7, 'gust_kph': 30.1}]\", log=\"I should use the Tavily tool to extract the specific current weather details for San Francisco from the structured JSON results.\\nAction: tavily_search_results_json\\nAction Input: [{'location': {'name': 'San Francisco', 'region': 'California', 'country': 'United States of America', 'lat': 37.775, 'lon': -122.4183, 'tz_id': 'America/Los_Angeles', 'localtime_epoch': 1739562831, 'localtime': '2025-02-14 11:53'}, 'current': {'last_updated_epoch': 1739562300, 'last_updated': '2025-02-14 11:45', 'temp_c': 12.8, 'temp_f': 55.0, 'is_day': 1, 'condition': {'text': 'Partly cloudy', 'icon': '//cdn.weatherapi.com/weather/64x64/day/116.png', 'code': 1003}, 'wind_mph': 14.3, 'wind_kph': 23.0, 'wind_degree': 291, 'wind_dir': 'WNW', 'pressure_mb': 1022.0, 'pressure_in': 30.19, 'precip_mm': 0.0, 'precip_in': 0.0, 'humidity': 77, 'cloud': 75, 'feelslike_c': 10.7, 'feelslike_f': 51.2, 'windchill_c': 6.9, 'windchill_f': 44.4, 'heatindex_c': 9.6, 'heatindex_f': 49.4, 'dewpoint_c': 6.3, 'dewpoint_f': 43.3, 'vis_km': 16.0, 'vis_miles': 9.0, 'uv': 2.5, 'gust_mph': 18.7, 'gust_kph': 30.1}]\")], 'messages': [AIMessage(content=\"I should use the Tavily tool to extract the specific current weather details for San Francisco from the structured JSON results.\\nAction: tavily_search_results_json\\nAction Input: [{'location': {'name': 'San Francisco', 'region': 'California', 'country': 'United States of America', 'lat': 37.775, 'lon': -122.4183, 'tz_id': 'America/Los_Angeles', 'localtime_epoch': 1739562831, 'localtime': '2025-02-14 11:53'}, 'current': {'last_updated_epoch': 1739562300, 'last_updated': '2025-02-14 11:45', 'temp_c': 12.8, 'temp_f': 55.0, 'is_day': 1, 'condition': {'text': 'Partly cloudy', 'icon': '//cdn.weatherapi.com/weather/64x64/day/116.png', 'code': 1003}, 'wind_mph': 14.3, 'wind_kph': 23.0, 'wind_degree': 291, 'wind_dir': 'WNW', 'pressure_mb': 1022.0, 'pressure_in': 30.19, 'precip_mm': 0.0, 'precip_in': 0.0, 'humidity': 77, 'cloud': 75, 'feelslike_c': 10.7, 'feelslike_f': 51.2, 'windchill_c': 6.9, 'windchill_f': 44.4, 'heatindex_c': 9.6, 'heatindex_f': 49.4, 'dewpoint_c': 6.3, 'dewpoint_f': 43.3, 'vis_km': 16.0, 'vis_miles': 9.0, 'uv': 2.5, 'gust_mph': 18.7, 'gust_kph': 30.1}]\", additional_kwargs={}, response_metadata={})]}\n",
      "\n",
      "DEBUG EVENT: {'steps': [AgentStep(action=AgentAction(tool='tavily_search_results_json', tool_input=\"[{'location': {'name': 'San Francisco', 'region': 'California', 'country': 'United States of America', 'lat': 37.775, 'lon': -122.4183, 'tz_id': 'America/Los_Angeles', 'localtime_epoch': 1739562831, 'localtime': '2025-02-14 11:53'}, 'current': {'last_updated_epoch': 1739562300, 'last_updated': '2025-02-14 11:45', 'temp_c': 12.8, 'temp_f': 55.0, 'is_day': 1, 'condition': {'text': 'Partly cloudy', 'icon': '//cdn.weatherapi.com/weather/64x64/day/116.png', 'code': 1003}, 'wind_mph': 14.3, 'wind_kph': 23.0, 'wind_degree': 291, 'wind_dir': 'WNW', 'pressure_mb': 1022.0, 'pressure_in': 30.19, 'precip_mm': 0.0, 'precip_in': 0.0, 'humidity': 77, 'cloud': 75, 'feelslike_c': 10.7, 'feelslike_f': 51.2, 'windchill_c': 6.9, 'windchill_f': 44.4, 'heatindex_c': 9.6, 'heatindex_f': 49.4, 'dewpoint_c': 6.3, 'dewpoint_f': 43.3, 'vis_km': 16.0, 'vis_miles': 9.0, 'uv': 2.5, 'gust_mph': 18.7, 'gust_kph': 30.1}]\", log=\"I should use the Tavily tool to extract the specific current weather details for San Francisco from the structured JSON results.\\nAction: tavily_search_results_json\\nAction Input: [{'location': {'name': 'San Francisco', 'region': 'California', 'country': 'United States of America', 'lat': 37.775, 'lon': -122.4183, 'tz_id': 'America/Los_Angeles', 'localtime_epoch': 1739562831, 'localtime': '2025-02-14 11:53'}, 'current': {'last_updated_epoch': 1739562300, 'last_updated': '2025-02-14 11:45', 'temp_c': 12.8, 'temp_f': 55.0, 'is_day': 1, 'condition': {'text': 'Partly cloudy', 'icon': '//cdn.weatherapi.com/weather/64x64/day/116.png', 'code': 1003}, 'wind_mph': 14.3, 'wind_kph': 23.0, 'wind_degree': 291, 'wind_dir': 'WNW', 'pressure_mb': 1022.0, 'pressure_in': 30.19, 'precip_mm': 0.0, 'precip_in': 0.0, 'humidity': 77, 'cloud': 75, 'feelslike_c': 10.7, 'feelslike_f': 51.2, 'windchill_c': 6.9, 'windchill_f': 44.4, 'heatindex_c': 9.6, 'heatindex_f': 49.4, 'dewpoint_c': 6.3, 'dewpoint_f': 43.3, 'vis_km': 16.0, 'vis_miles': 9.0, 'uv': 2.5, 'gust_mph': 18.7, 'gust_kph': 30.1}]\"), observation=\"HTTPError('400 Client Error: Bad Request for url: https://api.tavily.com/search')\")], 'messages': [HumanMessage(content=\"HTTPError('400 Client Error: Bad Request for url: https://api.tavily.com/search')\", additional_kwargs={}, response_metadata={})]}\n",
      "\n",
      "DEBUG EVENT: {'actions': [AgentAction(tool='tavily_search_results_json', tool_input=\"'current weather in San Francisco'\", log=\"There seems to be an issue with the Tavily tool when trying to extract specific weather details. Let's try to search for the current weather in San Francisco again.\\n\\nAction: tavily_search_results_json\\nAction Input: 'current weather in San Francisco'\")], 'messages': [AIMessage(content=\"There seems to be an issue with the Tavily tool when trying to extract specific weather details. Let's try to search for the current weather in San Francisco again.\\n\\nAction: tavily_search_results_json\\nAction Input: 'current weather in San Francisco'\", additional_kwargs={}, response_metadata={})]}\n",
      "\n",
      "DEBUG EVENT: {'steps': [AgentStep(action=AgentAction(tool='tavily_search_results_json', tool_input=\"'current weather in San Francisco'\", log=\"There seems to be an issue with the Tavily tool when trying to extract specific weather details. Let's try to search for the current weather in San Francisco again.\\n\\nAction: tavily_search_results_json\\nAction Input: 'current weather in San Francisco'\"), observation=[{'url': 'https://www.weatherapi.com/', 'content': \"{'location': {'name': 'San Francisco', 'region': 'California', 'country': 'United States of America', 'lat': 37.775, 'lon': -122.4183, 'tz_id': 'America/Los_Angeles', 'localtime_epoch': 1739562831, 'localtime': '2025-02-14 11:53'}, 'current': {'last_updated_epoch': 1739562300, 'last_updated': '2025-02-14 11:45', 'temp_c': 12.8, 'temp_f': 55.0, 'is_day': 1, 'condition': {'text': 'Partly cloudy', 'icon': '//cdn.weatherapi.com/weather/64x64/day/116.png', 'code': 1003}, 'wind_mph': 14.3, 'wind_kph': 23.0, 'wind_degree': 291, 'wind_dir': 'WNW', 'pressure_mb': 1022.0, 'pressure_in': 30.19, 'precip_mm': 0.0, 'precip_in': 0.0, 'humidity': 77, 'cloud': 75, 'feelslike_c': 10.7, 'feelslike_f': 51.2, 'windchill_c': 6.9, 'windchill_f': 44.4, 'heatindex_c': 9.6, 'heatindex_f': 49.4, 'dewpoint_c': 6.3, 'dewpoint_f': 43.3, 'vis_km': 16.0, 'vis_miles': 9.0, 'uv': 2.5, 'gust_mph': 18.7, 'gust_kph': 30.1}}\"}, {'url': 'https://weathershogun.com/weather/usa/ca/san-francisco/480/february/2025-02-14', 'content': \"San Francisco, CA - Weather Forecast San Francisco, CA Today Tomorrow Hourly 7 days 30 days February San Francisco, California Weather: High Wind Warning (Strong winds expected that may cause property damage and pose a threat to life.) High Surf Warning (Issued for dangerously large waves and strong rip currents. Expect coastal flooding and hazardous swimming conditions.) Flood Watch (Flooding is possible in the near future; stay informed and prepared for potential evacuation or disruptions) Day 57° Night 41° Wind 15 mph 7 days 30 days Weather Forecast History Last Year's Weather on This Day (February 14, 2024) Day 57° 52° Please note that while we strive for accuracy, the information provided may not always be correct.\"}, {'url': 'https://www.yahoo.com/news/february-14-2025-san-francisco-132402102.html', 'content': 'February 14, 2025 San Francisco Bay Area weather forecast. KRON San Francisco. Fri, February 14, 2025 at 5:24 AM PST.'}, {'url': 'https://world-weather.info/forecast/usa/san_francisco/february-2025/', 'content': \"Weather in San Francisco in February 2025 (California) - Detailed Weather Forecast for a Month Weather World Weather in San Francisco Weather in San Francisco in February 2025 San Francisco Weather Forecast for February 2025, is based on previous years' statistical data. +59°+50° +59°+52° +59°+50° +61°+52° +59°+50° +61°+50° +61°+52° +63°+52° +61°+52° +61°+50° +61°+50° +61°+50° +59°+50° +59°+50° +61°+50° +61°+52° +59°+50° +59°+48° +57°+48° +59°+50° +59°+48° +59°+50° +57°+46° +61°+50° +61°+50° +59°+50° +59°+48° +59°+50° Extended weather forecast in San Francisco HourlyWeek10-Day14-Day30-DayYear Weather in large and nearby cities Weather in Washington, D.C.+41° Sacramento+55° Pleasanton+55° Redwood City+55° San Leandro+55° San Mateo+54° San Rafael+52° San Ramon+52° South San Francisco+54° Vallejo+50° Palo Alto+55° Pacifica+55° Berkeley+54° Castro Valley+55° Concord+52° Daly City+54° Noverd+52° Sign Hill+54° world's temperature today day day Temperature units\"}])], 'messages': [HumanMessage(content='[{\"url\": \"https://www.weatherapi.com/\", \"content\": \"{\\'location\\': {\\'name\\': \\'San Francisco\\', \\'region\\': \\'California\\', \\'country\\': \\'United States of America\\', \\'lat\\': 37.775, \\'lon\\': -122.4183, \\'tz_id\\': \\'America/Los_Angeles\\', \\'localtime_epoch\\': 1739562831, \\'localtime\\': \\'2025-02-14 11:53\\'}, \\'current\\': {\\'last_updated_epoch\\': 1739562300, \\'last_updated\\': \\'2025-02-14 11:45\\', \\'temp_c\\': 12.8, \\'temp_f\\': 55.0, \\'is_day\\': 1, \\'condition\\': {\\'text\\': \\'Partly cloudy\\', \\'icon\\': \\'//cdn.weatherapi.com/weather/64x64/day/116.png\\', \\'code\\': 1003}, \\'wind_mph\\': 14.3, \\'wind_kph\\': 23.0, \\'wind_degree\\': 291, \\'wind_dir\\': \\'WNW\\', \\'pressure_mb\\': 1022.0, \\'pressure_in\\': 30.19, \\'precip_mm\\': 0.0, \\'precip_in\\': 0.0, \\'humidity\\': 77, \\'cloud\\': 75, \\'feelslike_c\\': 10.7, \\'feelslike_f\\': 51.2, \\'windchill_c\\': 6.9, \\'windchill_f\\': 44.4, \\'heatindex_c\\': 9.6, \\'heatindex_f\\': 49.4, \\'dewpoint_c\\': 6.3, \\'dewpoint_f\\': 43.3, \\'vis_km\\': 16.0, \\'vis_miles\\': 9.0, \\'uv\\': 2.5, \\'gust_mph\\': 18.7, \\'gust_kph\\': 30.1}}\"}, {\"url\": \"https://weathershogun.com/weather/usa/ca/san-francisco/480/february/2025-02-14\", \"content\": \"San Francisco, CA - Weather Forecast San Francisco, CA Today Tomorrow Hourly 7 days 30 days February San Francisco, California Weather: High Wind Warning (Strong winds expected that may cause property damage and pose a threat to life.) High Surf Warning (Issued for dangerously large waves and strong rip currents. Expect coastal flooding and hazardous swimming conditions.) Flood Watch (Flooding is possible in the near future; stay informed and prepared for potential evacuation or disruptions) Day 57° Night 41° Wind 15 mph 7 days 30 days Weather Forecast History Last Year\\'s Weather on This Day (February 14, 2024) Day 57° 52° Please note that while we strive for accuracy, the information provided may not always be correct.\"}, {\"url\": \"https://www.yahoo.com/news/february-14-2025-san-francisco-132402102.html\", \"content\": \"February 14, 2025 San Francisco Bay Area weather forecast. KRON San Francisco. Fri, February 14, 2025 at 5:24 AM PST.\"}, {\"url\": \"https://world-weather.info/forecast/usa/san_francisco/february-2025/\", \"content\": \"Weather in San Francisco in February 2025 (California) - Detailed Weather Forecast for a Month Weather World Weather in San Francisco Weather in San Francisco in February 2025 San Francisco Weather Forecast for February 2025, is based on previous years\\' statistical data. +59°+50° +59°+52° +59°+50° +61°+52° +59°+50° +61°+50° +61°+52° +63°+52° +61°+52° +61°+50° +61°+50° +61°+50° +59°+50° +59°+50° +61°+50° +61°+52° +59°+50° +59°+48° +57°+48° +59°+50° +59°+48° +59°+50° +57°+46° +61°+50° +61°+50° +59°+50° +59°+48° +59°+50° Extended weather forecast in San Francisco HourlyWeek10-Day14-Day30-DayYear Weather in large and nearby cities Weather in Washington, D.C.+41° Sacramento+55° Pleasanton+55° Redwood City+55° San Leandro+55° San Mateo+54° San Rafael+52° San Ramon+52° South San Francisco+54° Vallejo+50° Palo Alto+55° Pacifica+55° Berkeley+54° Castro Valley+55° Concord+52° Daly City+54° Noverd+52° Sign Hill+54° world\\'s temperature today day day Temperature units\"}]', additional_kwargs={}, response_metadata={})]}\n",
      "\n",
      "DEBUG EVENT: {'output': 'The current weather in San Francisco is partly cloudy with a temperature of 55.0°F, wind speed of 14.3 mph, humidity at 77%, and visibility at 9.0 miles.', 'messages': [AIMessage(content='I have successfully extracted the necessary current weather details for San Francisco from the structured JSON results.\\n\\nFinal Answer: The current weather in San Francisco is partly cloudy with a temperature of 55.0°F, wind speed of 14.3 mph, humidity at 77%, and visibility at 9.0 miles.', additional_kwargs={}, response_metadata={})]}\n",
      "The|current|weather|in|San|Francisco|is|partly|cloudy|with|a|temperature|of|55.0°F,|wind|speed|of|14.3|mph,|humidity|at|77%,|and|visibility|at|9.0|miles.|"
     ]
    }
   ],
   "source": [
    "import nest_asyncio\n",
    "import asyncio\n",
    "import sys\n",
    "from langgraph.checkpoint.sqlite.aio import AsyncSqliteSaver\n",
    "from langchain.schema import HumanMessage\n",
    "from langchain.chat_models import ChatOpenAI\n",
    "from langchain.agents import initialize_agent, Tool\n",
    "from langchain_community.tools.tavily_search import TavilySearchResults\n",
    "\n",
    "# Apply nest_asyncio to fix nested event loops in Jupyter environments\n",
    "nest_asyncio.apply()\n",
    "\n",
    "# Initialize in-memory SQLite saver\n",
    "memory = AsyncSqliteSaver.from_conn_string(\":memory:\")\n",
    "\n",
    "# Define custom prompt\n",
    "prompt = \"\"\"You are a smart research assistant. Use the search engine to look up information.\n",
    "You are allowed to make multiple calls (either together or in sequence).\n",
    "When using a tool, always respond in this exact format:\n",
    "\n",
    "Action: <tool_name>\n",
    "Action Input: <tool_input>\n",
    "\n",
    "For example:\n",
    "Action: TavilySearch\n",
    "Action Input: Find the latest AI news.\n",
    "\"\"\"\n",
    "\n",
    "# Initialize Tavily search tool\n",
    "tool = TavilySearchResults(max_results=4)\n",
    "\n",
    "# Wrap it as a LangChain Tool\n",
    "search_tool = Tool(\n",
    "    name=\"tavily_search_results_json\",\n",
    "    func=tool.run,\n",
    "    description=\"Search for information using Tavily and return structured JSON results.\"\n",
    ")\n",
    "\n",
    "# Initialize the language model with streaming enabled\n",
    "llm = ChatOpenAI(model_name=\"gpt-3.5-turbo\", temperature=0.7, streaming=True)\n",
    "\n",
    "# Create the agent\n",
    "agent = initialize_agent(\n",
    "    tools=[search_tool],\n",
    "    llm=llm,\n",
    "    agent=\"zero-shot-react-description\",\n",
    "    system_message=prompt,\n",
    "    handle_parsing_errors=True  \n",
    ")\n",
    "\n",
    "# Define messages\n",
    "messages = [HumanMessage(content=\"What is the current weather in San Francisco?\")]\n",
    "\n",
    "# Async function for streaming response\n",
    "async def stream_response():\n",
    "    async for event in agent.astream(messages[0].content):\n",
    "        # 🔹 Debugging: Print full event to inspect structure\n",
    "        print(\"\\nDEBUG EVENT:\", event)\n",
    "\n",
    "        # Extract content properly\n",
    "        if isinstance(event, dict) and \"output\" in event:\n",
    "            content = event[\"output\"].strip()\n",
    "            if content:\n",
    "                print(content.replace(\" \", \"|\"), end=\"|\", flush=True)  # Stream tokens in real-time\n",
    "                sys.stdout.flush()  # Ensure immediate output\n",
    "\n",
    "# Run the async function\n",
    "await stream_response()"
   ]
  },
  {
   "cell_type": "markdown",
   "id": "2b1a2a19",
   "metadata": {},
   "source": [
    "**EXPLANATION OUTPUT** As it can be seen from the output now the Formats text are with | separators to simulate token streaming."
   ]
  },
  {
   "cell_type": "markdown",
   "id": "3f447255",
   "metadata": {},
   "source": [
    "## Conclusion\n",
    "This notebook provided a comprehensive guide to setting up an AI agent using LangChain, showcasing its capabilities in persistence, API interaction, and real-time data streaming. By following the steps outlined, you can create a robust system capable of managing and processing various tasks efficiently."
   ]
  },
  {
   "cell_type": "markdown",
   "id": "b5365cf4",
   "metadata": {},
   "source": []
  }
 ],
 "metadata": {
  "kernelspec": {
   "display_name": "Python 3",
   "language": "python",
   "name": "python3"
  },
  "language_info": {
   "codemirror_mode": {
    "name": "ipython",
    "version": 3
   },
   "file_extension": ".py",
   "mimetype": "text/x-python",
   "name": "python",
   "nbconvert_exporter": "python",
   "pygments_lexer": "ipython3",
   "version": "3.12.2"
  }
 },
 "nbformat": 4,
 "nbformat_minor": 5
}
